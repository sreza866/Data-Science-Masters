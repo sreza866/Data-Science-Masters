{
 "cells": [
  {
   "cell_type": "markdown",
   "id": "6b836172",
   "metadata": {},
   "source": [
    "### Threading"
   ]
  },
  {
   "cell_type": "markdown",
   "id": "0a0e9d5c",
   "metadata": {},
   "source": [
    "<span style = 'font-size:0.8em;'>\n",
    "What is a Process in Python?<br>\n",
    "\n",
    "In computing, a process is an instance of a computer program that is being executed. Any process has 3 basic components:\n",
    "\n",
    "-An executable program.<br>\n",
    "-The associated data needed by the program (variables, workspace, buffers, etc.)<br>\n",
    "-The execution context of the program (State of the process)<br>\n",
    "\n",
    "An Intro to Python Threading<br>\n",
    "A thread is an entity within a process that can be scheduled for execution. Also, it is the smallest unit of processing that can be performed in an OS (Operating System). In simple words, a thread is a sequence of such instructions within a program that can be executed independently of other code. For simplicity, you can assume that a thread is simply a subset of a process! A thread contains all this information in a Thread Control Block (TCB):<br>\n",
    "\n",
    "An Intro to Threading in Python<br>\n",
    "Multithreading is defined as the ability of a processor to execute multiple threads concurrently. In a simple, single-core CPU, it is achieved using frequent switching between threads. This is termed context switching. In context switching, the state of a thread is saved and the state of another thread is loaded whenever any interrupt (due to I/O or manually set) takes place. Context switching takes place so frequently that all the threads appear to be running parallelly (this is termed multitasking).<br>\n",
    "    \n",
    "    \n",
    "Multithreading in Python refers to the concurrent execution of multiple threads within a single process. A thread is a lightweight subprocess, and multithreading allows a program to perform multiple tasks simultaneously, making efficient use of available resources like CPU cores. Python's <code>threading</code> module provides a way to work with threads.\n",
    "</span>"
   ]
  },
  {
   "cell_type": "code",
   "execution_count": 1,
   "id": "f12d9703",
   "metadata": {},
   "outputs": [],
   "source": [
    "import threading"
   ]
  },
  {
   "cell_type": "code",
   "execution_count": 3,
   "id": "f88a50d2",
   "metadata": {},
   "outputs": [],
   "source": [
    "def test(id):\n",
    "    print(\"This is my test id %d\" % id)"
   ]
  },
  {
   "cell_type": "code",
   "execution_count": 4,
   "id": "a0874f8a",
   "metadata": {},
   "outputs": [
    {
     "name": "stdout",
     "output_type": "stream",
     "text": [
      "This is my test id 5\n"
     ]
    }
   ],
   "source": [
    "test(5)"
   ]
  },
  {
   "cell_type": "code",
   "execution_count": 5,
   "id": "4ef3b0b9",
   "metadata": {},
   "outputs": [
    {
     "name": "stdout",
     "output_type": "stream",
     "text": [
      "This is my test id 1\n"
     ]
    }
   ],
   "source": [
    "test(1)"
   ]
  },
  {
   "cell_type": "code",
   "execution_count": 6,
   "id": "566e7258",
   "metadata": {},
   "outputs": [
    {
     "name": "stdout",
     "output_type": "stream",
     "text": [
      "This is my test id 3\n"
     ]
    }
   ],
   "source": [
    "test(3)"
   ]
  },
  {
   "cell_type": "code",
   "execution_count": 13,
   "id": "b507360b",
   "metadata": {},
   "outputs": [],
   "source": [
    "thread = [threading.Thread(target = test, args = (i,)) for i in [5,1,3]]"
   ]
  },
  {
   "cell_type": "code",
   "execution_count": 14,
   "id": "5c0641fa",
   "metadata": {},
   "outputs": [
    {
     "data": {
      "text/plain": [
       "[<Thread(Thread-8 (test), initial)>,\n",
       " <Thread(Thread-9 (test), initial)>,\n",
       " <Thread(Thread-10 (test), initial)>]"
      ]
     },
     "execution_count": 14,
     "metadata": {},
     "output_type": "execute_result"
    }
   ],
   "source": [
    "thread"
   ]
  },
  {
   "cell_type": "code",
   "execution_count": 15,
   "id": "c4539a6c",
   "metadata": {},
   "outputs": [
    {
     "name": "stdout",
     "output_type": "stream",
     "text": [
      "This is my test id 5\n",
      "This is my test id 1\n",
      "This is my test id 3\n"
     ]
    }
   ],
   "source": [
    "for t in thread:\n",
    "    t.start()"
   ]
  },
  {
   "cell_type": "code",
   "execution_count": 16,
   "id": "edb9ac27",
   "metadata": {},
   "outputs": [],
   "source": [
    "# Define a function that takes a URL and a filename as input parameters and downloads a file from the given URL,\n",
    "# saving it with the specified filename.\n",
    "import urllib.request\n",
    "def file_download(url,filename):\n",
    "    urllib.request.urlretrieve(url,filename)"
   ]
  },
  {
   "cell_type": "code",
   "execution_count": 17,
   "id": "cb50962f",
   "metadata": {},
   "outputs": [],
   "source": [
    "file_download('https://raw.githubusercontent.com/itsfoss/text-files/master/agatha.txt' , \"test_url1.txt\")"
   ]
  },
  {
   "cell_type": "code",
   "execution_count": 23,
   "id": "210e4371",
   "metadata": {},
   "outputs": [
    {
     "name": "stdout",
     "output_type": "stream",
     "text": [
      "The Mysterious Affair at Styles\n",
      "The Secret Adversary\n",
      "The Murder on the Links\n",
      "The Man in the Brown Suit\n",
      "The Secret of Chimneys\n",
      "The Murder of Roger Ackroyd\n",
      "The Big Four\n",
      "The Mystery of the Blue Train\n",
      "The Seven Dials Mystery\n",
      "The Murder at the Vicarage\n",
      "Giant's Bread\n",
      "The Floating Admiral\n",
      "The Sittaford Mystery\n",
      "Peril at End House\n",
      "Lord Edgware Dies\n",
      "Murder on the Orient Express\n",
      "Unfinished Portrait\n",
      "Why Didn't They Ask Evans?\n",
      "Three Act Tragedy\n",
      "Death in the Clouds\n",
      "\n"
     ]
    }
   ],
   "source": [
    "with open(\"test_url1.txt\",\"r\") as f:\n",
    "    print(f.read())"
   ]
  },
  {
   "cell_type": "code",
   "execution_count": 18,
   "id": "64787008",
   "metadata": {},
   "outputs": [],
   "source": [
    "url_list = ['https://raw.githubusercontent.com/itsfoss/text-files/master/agatha.txt' , 'https://raw.githubusercontent.com/itsfoss/text-files/master/sherlock.txt' ,'https://raw.githubusercontent.com/itsfoss/text-files/master/sample_log_file.txt' ]"
   ]
  },
  {
   "cell_type": "code",
   "execution_count": 19,
   "id": "f89f522a",
   "metadata": {},
   "outputs": [
    {
     "data": {
      "text/plain": [
       "['https://raw.githubusercontent.com/itsfoss/text-files/master/agatha.txt',\n",
       " 'https://raw.githubusercontent.com/itsfoss/text-files/master/sherlock.txt',\n",
       " 'https://raw.githubusercontent.com/itsfoss/text-files/master/sample_log_file.txt']"
      ]
     },
     "execution_count": 19,
     "metadata": {},
     "output_type": "execute_result"
    }
   ],
   "source": [
    "url_list"
   ]
  },
  {
   "cell_type": "code",
   "execution_count": 20,
   "id": "17a12652",
   "metadata": {},
   "outputs": [],
   "source": [
    "data_file_list = ['url_data1.txt', 'url_data2.txt','url_data3.txt']"
   ]
  },
  {
   "cell_type": "code",
   "execution_count": 21,
   "id": "c5de4c2c",
   "metadata": {},
   "outputs": [
    {
     "data": {
      "text/plain": [
       "['url_data1.txt', 'url_data2.txt', 'url_data3.txt']"
      ]
     },
     "execution_count": 21,
     "metadata": {},
     "output_type": "execute_result"
    }
   ],
   "source": [
    "data_file_list"
   ]
  },
  {
   "cell_type": "code",
   "execution_count": 27,
   "id": "d18fa5b8",
   "metadata": {},
   "outputs": [],
   "source": [
    "# Calling file_download function for list of url and saving in different files\n",
    "thread1 = [threading.Thread(target = file_download, args = (url_list[i],data_file_list[i])) for i in range(len(url_list))]"
   ]
  },
  {
   "cell_type": "code",
   "execution_count": 29,
   "id": "5fceb78b",
   "metadata": {},
   "outputs": [
    {
     "data": {
      "text/plain": [
       "[<Thread(Thread-11 (file_download), stopped 8396)>,\n",
       " <Thread(Thread-12 (file_download), stopped 16952)>,\n",
       " <Thread(Thread-13 (file_download), stopped 19620)>]"
      ]
     },
     "execution_count": 29,
     "metadata": {},
     "output_type": "execute_result"
    }
   ],
   "source": [
    "thread1"
   ]
  },
  {
   "cell_type": "code",
   "execution_count": 30,
   "id": "b50ba715",
   "metadata": {},
   "outputs": [],
   "source": [
    "import time"
   ]
  },
  {
   "cell_type": "code",
   "execution_count": 32,
   "id": "97def333",
   "metadata": {},
   "outputs": [],
   "source": [
    "def test2(x):\n",
    "    for i in range(10):\n",
    "        print(\" test1 print the value of x = %d and print the value of i = %d \" %(x,i))\n",
    "        time.sleep(1)"
   ]
  },
  {
   "cell_type": "code",
   "execution_count": 33,
   "id": "cc3cba91",
   "metadata": {},
   "outputs": [],
   "source": [
    "thread2 = [threading.Thread(target=test2, args=(i,)) for i in [100,10,20,5]]"
   ]
  },
  {
   "cell_type": "code",
   "execution_count": 34,
   "id": "2eb0a999",
   "metadata": {},
   "outputs": [
    {
     "name": "stdout",
     "output_type": "stream",
     "text": [
      " test1 print the value of x = 100 and print the value of i = 0 \n",
      " test1 print the value of x = 10 and print the value of i = 0 \n",
      " test1 print the value of x = 20 and print the value of i = 0 \n",
      " test1 print the value of x = 5 and print the value of i = 0 \n",
      " test1 print the value of x = 5 and print the value of i = 1 \n",
      " test1 print the value of x = 100 and print the value of i = 1 \n",
      " test1 print the value of x = 10 and print the value of i = 1 \n",
      " test1 print the value of x = 20 and print the value of i = 1 \n",
      " test1 print the value of x = 5 and print the value of i = 2 \n",
      " test1 print the value of x = 20 and print the value of i = 2 \n",
      " test1 print the value of x = 10 and print the value of i = 2 \n",
      " test1 print the value of x = 100 and print the value of i = 2 \n",
      " test1 print the value of x = 10 and print the value of i = 3 \n",
      " test1 print the value of x = 5 and print the value of i = 3 \n",
      " test1 print the value of x = 20 and print the value of i = 3 \n",
      " test1 print the value of x = 100 and print the value of i = 3 \n",
      " test1 print the value of x = 20 and print the value of i = 4 \n",
      " test1 print the value of x = 5 and print the value of i = 4 \n",
      " test1 print the value of x = 100 and print the value of i = 4 \n",
      " test1 print the value of x = 10 and print the value of i = 4 \n",
      " test1 print the value of x = 5 and print the value of i = 5  test1 print the value of x = 100 and print the value of i = 5 \n",
      "\n",
      " test1 print the value of x = 20 and print the value of i = 5 \n",
      " test1 print the value of x = 10 and print the value of i = 5 \n",
      " test1 print the value of x = 5 and print the value of i = 6  test1 print the value of x = 100 and print the value of i = 6 \n",
      "\n",
      " test1 print the value of x = 10 and print the value of i = 6 \n",
      " test1 print the value of x = 20 and print the value of i = 6 \n",
      " test1 print the value of x = 5 and print the value of i = 7  test1 print the value of x = 100 and print the value of i = 7 \n",
      "\n",
      " test1 print the value of x = 20 and print the value of i = 7 \n",
      " test1 print the value of x = 10 and print the value of i = 7 \n",
      " test1 print the value of x = 5 and print the value of i = 8 \n",
      " test1 print the value of x = 10 and print the value of i = 8 \n",
      " test1 print the value of x = 20 and print the value of i = 8 \n",
      " test1 print the value of x = 100 and print the value of i = 8 \n",
      " test1 print the value of x = 20 and print the value of i = 9 \n",
      " test1 print the value of x = 10 and print the value of i = 9 \n",
      " test1 print the value of x = 5 and print the value of i = 9 \n",
      " test1 print the value of x = 100 and print the value of i = 9 \n"
     ]
    }
   ],
   "source": [
    "for t in thread2:\n",
    "    t.start()"
   ]
  },
  {
   "cell_type": "code",
   "execution_count": 35,
   "id": "0c3ef8c1",
   "metadata": {},
   "outputs": [
    {
     "name": "stdout",
     "output_type": "stream",
     "text": [
      " test1 print the value of x = 10 and print the value of i = 0 \n",
      " test1 print the value of x = 10 and print the value of i = 1 \n",
      " test1 print the value of x = 10 and print the value of i = 2 \n",
      " test1 print the value of x = 10 and print the value of i = 3 \n",
      " test1 print the value of x = 10 and print the value of i = 4 \n",
      " test1 print the value of x = 10 and print the value of i = 5 \n",
      " test1 print the value of x = 10 and print the value of i = 6 \n",
      " test1 print the value of x = 10 and print the value of i = 7 \n",
      " test1 print the value of x = 10 and print the value of i = 8 \n",
      " test1 print the value of x = 10 and print the value of i = 9 \n"
     ]
    }
   ],
   "source": [
    "test2(10)"
   ]
  },
  {
   "cell_type": "code",
   "execution_count": 37,
   "id": "3be6a7bb",
   "metadata": {},
   "outputs": [
    {
     "name": "stdout",
     "output_type": "stream",
     "text": [
      "value of x 1 and value of shareed_var 1 \n",
      "value of x 2 and value of shareed_var 2 \n",
      "value of x 3 and value of shareed_var 3 \n",
      "value of x 4 and value of shareed_var 4 \n",
      "value of x 4 and value of shareed_var 5 \n",
      "value of x 5 and value of shareed_var 6 \n"
     ]
    }
   ],
   "source": [
    "shared_var = 0\n",
    "lock_var = threading.Lock()\n",
    "def test3(x):\n",
    "    global shared_var\n",
    "    with lock_var:\n",
    "        shared_var = shared_var+1\n",
    "        print(\"value of x %d and value of shareed_var %d \" %(x, shared_var))\n",
    "        time.sleep(1)\n",
    "        \n",
    "        \n",
    "thread5  = [threading.Thread(target=test3 , args = (i,)) for i in [1,2,3,4,4,5]]\n",
    "for t in thread5 : \n",
    "    t.start()"
   ]
  },
  {
   "cell_type": "code",
   "execution_count": 38,
   "id": "4601ac23",
   "metadata": {},
   "outputs": [
    {
     "name": "stdout",
     "output_type": "stream",
     "text": [
      "value of x 1 and value of shareed_var 7 \n"
     ]
    }
   ],
   "source": [
    "test3(1)"
   ]
  },
  {
   "cell_type": "code",
   "execution_count": 39,
   "id": "0f4619c8",
   "metadata": {},
   "outputs": [
    {
     "name": "stdout",
     "output_type": "stream",
     "text": [
      "value of x 2 and value of shareed_var 8 \n"
     ]
    }
   ],
   "source": [
    "test3(2)"
   ]
  },
  {
   "cell_type": "markdown",
   "id": "994b0ca8",
   "metadata": {},
   "source": [
    "<span style = 'font-size:0.8em;'>\n",
    "\n",
    "1. **Initialization**: \n",
    "    - We set up a shared variable (`shared_var`) and a lock (`lock_var`). \n",
    "    - `shared_var` will be accessed and modified by multiple threads concurrently. \n",
    "    - The lock (`lock_var`) ensures that only one thread can access `shared_var` at a time, preventing conflicts.\n",
    "\n",
    "2. **test3 Function**: \n",
    "    - This function simulates some task (`time.sleep(1)`) and updates the shared variable `shared_var`. \n",
    "    - It does this safely by acquiring the lock (`lock_var`) before modifying `shared_var` and releasing it afterward.\n",
    "    - The function prints the current value of `x` (which is passed as an argument) and the updated value of `shared_var`.\n",
    "\n",
    "3. **Thread Creation and Execution**:\n",
    "    - We create multiple threads, each associated with the `test3` function. \n",
    "    - Each thread is passed a different value of `x`, indicating its identity.\n",
    "    - We start all the threads, allowing them to run concurrently.\n",
    "\n",
    "4. **Output**:\n",
    "    - As the threads execute, they print messages showing the value of `x` they received and the current value of `shared_var`.\n",
    "    - Despite multiple threads accessing `shared_var` concurrently, the lock ensures that only one thread modifies it at a time. This prevents data corruption and ensures consistency.\n",
    "\n",
    "Overall, this example shows how to safely handle shared resources in a multithreaded environment, which is crucial to avoid race conditions and maintain data integrity.\n",
    "</style>"
   ]
  },
  {
   "cell_type": "code",
   "execution_count": null,
   "id": "a63cb7a8",
   "metadata": {},
   "outputs": [],
   "source": []
  }
 ],
 "metadata": {
  "kernelspec": {
   "display_name": "Python 3 (ipykernel)",
   "language": "python",
   "name": "python3"
  },
  "language_info": {
   "codemirror_mode": {
    "name": "ipython",
    "version": 3
   },
   "file_extension": ".py",
   "mimetype": "text/x-python",
   "name": "python",
   "nbconvert_exporter": "python",
   "pygments_lexer": "ipython3",
   "version": "3.10.9"
  }
 },
 "nbformat": 4,
 "nbformat_minor": 5
}
