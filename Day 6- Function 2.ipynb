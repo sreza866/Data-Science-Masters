{
 "cells": [
  {
   "cell_type": "code",
   "execution_count": 1,
   "id": "832748ac",
   "metadata": {},
   "outputs": [],
   "source": [
    "def test(a,b,c,d,e):\n",
    "    pass"
   ]
  },
  {
   "cell_type": "code",
   "execution_count": 3,
   "id": "64dc7c4c",
   "metadata": {},
   "outputs": [],
   "source": [
    "# test(1,2,3,4,5,6,7)\n",
    "# Cell In[2], line 1\n",
    "# ----> 1 test(1,2,3,4,5,6,7)\n",
    "\n",
    "# TypeError: test() takes 5 positional arguments but 7 were given"
   ]
  },
  {
   "cell_type": "code",
   "execution_count": 4,
   "id": "9d8262c1",
   "metadata": {},
   "outputs": [],
   "source": [
    "# For any number of arguments in a function"
   ]
  },
  {
   "cell_type": "code",
   "execution_count": 5,
   "id": "27132b5d",
   "metadata": {},
   "outputs": [],
   "source": [
    "def test1(*args):\n",
    "    return args"
   ]
  },
  {
   "cell_type": "code",
   "execution_count": 6,
   "id": "7303a983",
   "metadata": {},
   "outputs": [
    {
     "data": {
      "text/plain": [
       "(2,)"
      ]
     },
     "execution_count": 6,
     "metadata": {},
     "output_type": "execute_result"
    }
   ],
   "source": [
    "test1(2)"
   ]
  },
  {
   "cell_type": "code",
   "execution_count": 7,
   "id": "91973de0",
   "metadata": {},
   "outputs": [
    {
     "data": {
      "text/plain": [
       "(1, 2, 3, 4, 5, 5)"
      ]
     },
     "execution_count": 7,
     "metadata": {},
     "output_type": "execute_result"
    }
   ],
   "source": [
    "test1(1,2,3,4,5,5)"
   ]
  },
  {
   "cell_type": "code",
   "execution_count": 8,
   "id": "5eb6d073",
   "metadata": {},
   "outputs": [
    {
     "data": {
      "text/plain": [
       "('reza', [1, 2, 3, 4, 5], (1, 2, 3, 4, 5))"
      ]
     },
     "execution_count": 8,
     "metadata": {},
     "output_type": "execute_result"
    }
   ],
   "source": [
    "test1(\"reza\" , [1,2,3,4,5] , (1,2,3,4,5))"
   ]
  },
  {
   "cell_type": "code",
   "execution_count": 9,
   "id": "293bc134",
   "metadata": {},
   "outputs": [],
   "source": [
    "def test2(*reza):\n",
    "    return reza"
   ]
  },
  {
   "cell_type": "code",
   "execution_count": 10,
   "id": "c118ce67",
   "metadata": {},
   "outputs": [
    {
     "data": {
      "text/plain": [
       "(3, 4, 5, 6)"
      ]
     },
     "execution_count": 10,
     "metadata": {},
     "output_type": "execute_result"
    }
   ],
   "source": [
    "test2(3,4,5,6)"
   ]
  },
  {
   "cell_type": "code",
   "execution_count": 11,
   "id": "ed7c3859",
   "metadata": {},
   "outputs": [],
   "source": [
    "def test3(*args,a):\n",
    "    return args,a"
   ]
  },
  {
   "cell_type": "code",
   "execution_count": 13,
   "id": "564af3f3",
   "metadata": {},
   "outputs": [],
   "source": [
    "# test3(1,2,3,4)\n",
    "# Cell In[12], line 1\n",
    "# ----> 1 test3(1,2,3,4)\n",
    "\n",
    "# TypeError: test3() missing 1 required keyword-only argument: 'a'"
   ]
  },
  {
   "cell_type": "code",
   "execution_count": 14,
   "id": "be8b7932",
   "metadata": {},
   "outputs": [
    {
     "data": {
      "text/plain": [
       "((1, 2, 3, 4), 'reza')"
      ]
     },
     "execution_count": 14,
     "metadata": {},
     "output_type": "execute_result"
    }
   ],
   "source": [
    "test3(1,2,3,4, a = 'reza')"
   ]
  },
  {
   "cell_type": "code",
   "execution_count": 15,
   "id": "f5048e86",
   "metadata": {},
   "outputs": [],
   "source": [
    "def test4(*args):\n",
    "    l = []\n",
    "    for i in args:\n",
    "        if type(i) == list :\n",
    "            l.append(i)\n",
    "            \n",
    "    return l"
   ]
  },
  {
   "cell_type": "code",
   "execution_count": 16,
   "id": "e434dd32",
   "metadata": {},
   "outputs": [
    {
     "data": {
      "text/plain": [
       "[[1, 2, 3, 4, 4], [4, 5, 6], [6, 7, 8]]"
      ]
     },
     "execution_count": 16,
     "metadata": {},
     "output_type": "execute_result"
    }
   ],
   "source": [
    "test4(1,2,3,[1,2,3,4,4] , (1,2,3,4,4) , \"reza\" , [4,5,6] , [6,7,8])"
   ]
  },
  {
   "cell_type": "code",
   "execution_count": 17,
   "id": "6c9e847a",
   "metadata": {},
   "outputs": [],
   "source": [
    "# For any number of key-value arguments in a function\n",
    "def test5(**kwargs):\n",
    "    return kwargs"
   ]
  },
  {
   "cell_type": "code",
   "execution_count": 18,
   "id": "88a3fc1e",
   "metadata": {},
   "outputs": [
    {
     "data": {
      "text/plain": [
       "{}"
      ]
     },
     "execution_count": 18,
     "metadata": {},
     "output_type": "execute_result"
    }
   ],
   "source": [
    "test5()"
   ]
  },
  {
   "cell_type": "code",
   "execution_count": 19,
   "id": "d10ecb1e",
   "metadata": {},
   "outputs": [
    {
     "data": {
      "text/plain": [
       "dict"
      ]
     },
     "execution_count": 19,
     "metadata": {},
     "output_type": "execute_result"
    }
   ],
   "source": [
    "type(test5())"
   ]
  },
  {
   "cell_type": "code",
   "execution_count": 20,
   "id": "8df6fc99",
   "metadata": {},
   "outputs": [
    {
     "data": {
      "text/plain": [
       "{'a': 34, 'b': 23, 'c': [1, 2, 3, 4], 'd': ('subhan', 'mykills')}"
      ]
     },
     "execution_count": 20,
     "metadata": {},
     "output_type": "execute_result"
    }
   ],
   "source": [
    "test5(a = 34 , b = 23 , c = [1,2,3,4] , d = (\"subhan\" , \"mykills\"))"
   ]
  },
  {
   "cell_type": "code",
   "execution_count": 21,
   "id": "5329d254",
   "metadata": {},
   "outputs": [],
   "source": [
    "# for extracting only list input\n",
    "def test6(**kwargs):\n",
    "    for i in kwargs.keys():\n",
    "        if type(kwargs[i]) == list:\n",
    "            return i, kwargs[i]"
   ]
  },
  {
   "cell_type": "code",
   "execution_count": 22,
   "id": "dc590170",
   "metadata": {},
   "outputs": [
    {
     "data": {
      "text/plain": [
       "('c', [1, 2, 3, 4])"
      ]
     },
     "execution_count": 22,
     "metadata": {},
     "output_type": "execute_result"
    }
   ],
   "source": [
    "test6(a = 34 , b = 23 , c = [1,2,3,4] , d = (\"subhan\" , \"mykills\"))"
   ]
  },
  {
   "cell_type": "code",
   "execution_count": 23,
   "id": "73be7c9d",
   "metadata": {},
   "outputs": [],
   "source": [
    "# For any number of arguments and key-value arguments in a function\n",
    "def test7(*args , **kwargs) : \n",
    "    return args , kwargs"
   ]
  },
  {
   "cell_type": "code",
   "execution_count": 24,
   "id": "58cd3583",
   "metadata": {},
   "outputs": [
    {
     "data": {
      "text/plain": [
       "((2, 3, 4, 5), {'a': 34, 'b': 98})"
      ]
     },
     "execution_count": 24,
     "metadata": {},
     "output_type": "execute_result"
    }
   ],
   "source": [
    "test7(2,3,4,5,a= 34, b = 98)"
   ]
  },
  {
   "cell_type": "code",
   "execution_count": null,
   "id": "e3787c4a",
   "metadata": {},
   "outputs": [],
   "source": []
  }
 ],
 "metadata": {
  "kernelspec": {
   "display_name": "Python 3 (ipykernel)",
   "language": "python",
   "name": "python3"
  },
  "language_info": {
   "codemirror_mode": {
    "name": "ipython",
    "version": 3
   },
   "file_extension": ".py",
   "mimetype": "text/x-python",
   "name": "python",
   "nbconvert_exporter": "python",
   "pygments_lexer": "ipython3",
   "version": "3.10.9"
  }
 },
 "nbformat": 4,
 "nbformat_minor": 5
}
