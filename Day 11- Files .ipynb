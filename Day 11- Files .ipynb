{
 "cells": [
  {
   "cell_type": "markdown",
   "id": "d6fce856",
   "metadata": {},
   "source": [
    "### Working with files"
   ]
  },
  {
   "cell_type": "code",
   "execution_count": 1,
   "id": "8174b5d3",
   "metadata": {},
   "outputs": [],
   "source": [
    "f = open(\"test.txt\" ,'a' )"
   ]
  },
  {
   "cell_type": "code",
   "execution_count": 2,
   "id": "9269b743",
   "metadata": {},
   "outputs": [],
   "source": [
    "# writing in a file"
   ]
  },
  {
   "cell_type": "code",
   "execution_count": 3,
   "id": "3acacddf",
   "metadata": {},
   "outputs": [
    {
     "data": {
      "text/plain": [
       "361"
      ]
     },
     "execution_count": 3,
     "metadata": {},
     "output_type": "execute_result"
    }
   ],
   "source": [
    "f.write('Python supports file handling and allows users to handle files i.e., to read and write files, along with many other file handling options, to operate on files. The concept of file handling has stretched over various other languages, but the implementation is either complicated or lengthy, like other concepts of Python, this concept here is also easy and short')"
   ]
  },
  {
   "cell_type": "code",
   "execution_count": 4,
   "id": "5fbc1ef1",
   "metadata": {},
   "outputs": [],
   "source": [
    "# It must be close after write\n",
    "f.close()"
   ]
  },
  {
   "cell_type": "code",
   "execution_count": 5,
   "id": "73518e19",
   "metadata": {},
   "outputs": [],
   "source": [
    "# opening file in read mode\n",
    "data = open(\"test.txt\",\"r\")"
   ]
  },
  {
   "cell_type": "code",
   "execution_count": 6,
   "id": "b1d0798a",
   "metadata": {},
   "outputs": [
    {
     "name": "stdout",
     "output_type": "stream",
     "text": [
      "Data Science Masters course is highly curated and uniquely designed according to the latest industry standards. This program instills students the skills essential to knowledge discovery efforts to identify standard, novel, and truly differentiated solutions and decision-making, including skills in managing, querying, analyzing, visualizing, and extracting meaning from extremely large data sets. This trending program provides students with the statistical, mathematical and computational skills needed to meet the large-scale data science challenges of today's professional world. You will learn all the stack required to work in data science industry including cloud infrastructure and real-time industry projects. This course will be taught in Hindi language.\n",
      "this is my second line that i am trying to writePython supports file handling and allows users to handle files i.e., to read and write files, along with many other file handling options, to operate on files. The concept of file handling has stretched over various other languages, but the implementation is either complicated or lengthy, like other concepts of Python, this concept here is also easy and short\n"
     ]
    }
   ],
   "source": [
    "print(data.read())"
   ]
  },
  {
   "cell_type": "code",
   "execution_count": 7,
   "id": "6de7fac7",
   "metadata": {},
   "outputs": [
    {
     "data": {
      "text/plain": [
       "''"
      ]
     },
     "execution_count": 7,
     "metadata": {},
     "output_type": "execute_result"
    }
   ],
   "source": [
    "data.read()"
   ]
  },
  {
   "cell_type": "code",
   "execution_count": 8,
   "id": "a427ece2",
   "metadata": {},
   "outputs": [
    {
     "data": {
      "text/plain": [
       "0"
      ]
     },
     "execution_count": 8,
     "metadata": {},
     "output_type": "execute_result"
    }
   ],
   "source": [
    "# setting cursor at 0th character\n",
    "data.seek(0)"
   ]
  },
  {
   "cell_type": "code",
   "execution_count": 9,
   "id": "4f59fa06",
   "metadata": {},
   "outputs": [
    {
     "data": {
      "text/plain": [
       "\"Data Science Masters course is highly curated and uniquely designed according to the latest industry standards. This program instills students the skills essential to knowledge discovery efforts to identify standard, novel, and truly differentiated solutions and decision-making, including skills in managing, querying, analyzing, visualizing, and extracting meaning from extremely large data sets. This trending program provides students with the statistical, mathematical and computational skills needed to meet the large-scale data science challenges of today's professional world. You will learn all the stack required to work in data science industry including cloud infrastructure and real-time industry projects. This course will be taught in Hindi language.\\nthis is my second line that i am trying to writePython supports file handling and allows users to handle files i.e., to read and write files, along with many other file handling options, to operate on files. The concept of file handling has stretched over various other languages, but the implementation is either complicated or lengthy, like other concepts of Python, this concept here is also easy and short\""
      ]
     },
     "execution_count": 9,
     "metadata": {},
     "output_type": "execute_result"
    }
   ],
   "source": [
    "data.read()"
   ]
  },
  {
   "cell_type": "code",
   "execution_count": 10,
   "id": "b586a2c3",
   "metadata": {},
   "outputs": [
    {
     "data": {
      "text/plain": [
       "''"
      ]
     },
     "execution_count": 10,
     "metadata": {},
     "output_type": "execute_result"
    }
   ],
   "source": [
    "data.read()"
   ]
  },
  {
   "cell_type": "code",
   "execution_count": 11,
   "id": "a6ead057",
   "metadata": {},
   "outputs": [
    {
     "data": {
      "text/plain": [
       "60"
      ]
     },
     "execution_count": 11,
     "metadata": {},
     "output_type": "execute_result"
    }
   ],
   "source": [
    "data.seek(60)"
   ]
  },
  {
   "cell_type": "code",
   "execution_count": 12,
   "id": "05a5d0e5",
   "metadata": {},
   "outputs": [
    {
     "data": {
      "text/plain": [
       "\"esigned according to the latest industry standards. This program instills students the skills essential to knowledge discovery efforts to identify standard, novel, and truly differentiated solutions and decision-making, including skills in managing, querying, analyzing, visualizing, and extracting meaning from extremely large data sets. This trending program provides students with the statistical, mathematical and computational skills needed to meet the large-scale data science challenges of today's professional world. You will learn all the stack required to work in data science industry including cloud infrastructure and real-time industry projects. This course will be taught in Hindi language.\\nthis is my second line that i am trying to writePython supports file handling and allows users to handle files i.e., to read and write files, along with many other file handling options, to operate on files. The concept of file handling has stretched over various other languages, but the implementation is either complicated or lengthy, like other concepts of Python, this concept here is also easy and short\""
      ]
     },
     "execution_count": 12,
     "metadata": {},
     "output_type": "execute_result"
    }
   ],
   "source": [
    "data.read()"
   ]
  },
  {
   "cell_type": "code",
   "execution_count": 13,
   "id": "508d7ef4",
   "metadata": {},
   "outputs": [],
   "source": [
    "data1 = open(\"test.txt\",\"r\")"
   ]
  },
  {
   "cell_type": "code",
   "execution_count": 14,
   "id": "067799ad",
   "metadata": {},
   "outputs": [
    {
     "name": "stdout",
     "output_type": "stream",
     "text": [
      "Data Science Masters course is highly curated and uniquely designed according to the latest industry standards. This program instills students the skills essential to knowledge discovery efforts to identify standard, novel, and truly differentiated solutions and decision-making, including skills in managing, querying, analyzing, visualizing, and extracting meaning from extremely large data sets. This trending program provides students with the statistical, mathematical and computational skills needed to meet the large-scale data science challenges of today's professional world. You will learn all the stack required to work in data science industry including cloud infrastructure and real-time industry projects. This course will be taught in Hindi language.\n",
      "\n",
      "this is my second line that i am trying to writePython supports file handling and allows users to handle files i.e., to read and write files, along with many other file handling options, to operate on files. The concept of file handling has stretched over various other languages, but the implementation is either complicated or lengthy, like other concepts of Python, this concept here is also easy and short\n"
     ]
    }
   ],
   "source": [
    "for i in data1:\n",
    "    print(i)"
   ]
  },
  {
   "cell_type": "code",
   "execution_count": 15,
   "id": "216a2e4b",
   "metadata": {},
   "outputs": [],
   "source": [
    "import os"
   ]
  },
  {
   "cell_type": "code",
   "execution_count": 16,
   "id": "770c4257",
   "metadata": {},
   "outputs": [
    {
     "data": {
      "text/plain": [
       "1175"
      ]
     },
     "execution_count": 16,
     "metadata": {},
     "output_type": "execute_result"
    }
   ],
   "source": [
    "# size of the file\n",
    "os.path.getsize(\"test.txt\")"
   ]
  },
  {
   "cell_type": "code",
   "execution_count": 17,
   "id": "cae0738f",
   "metadata": {},
   "outputs": [],
   "source": [
    "import shutil"
   ]
  },
  {
   "cell_type": "code",
   "execution_count": 18,
   "id": "739789a9",
   "metadata": {},
   "outputs": [
    {
     "data": {
      "text/plain": [
       "'new_test.txt'"
      ]
     },
     "execution_count": 18,
     "metadata": {},
     "output_type": "execute_result"
    }
   ],
   "source": [
    "# creating a copy of the file\n",
    "shutil.copy(\"test.txt\",\"new_test.txt\")"
   ]
  },
  {
   "cell_type": "code",
   "execution_count": 19,
   "id": "d1b4ad32",
   "metadata": {},
   "outputs": [],
   "source": [
    "# opening new file in append mode\n",
    "f = open(\"new_test.txt\",\"a\")"
   ]
  },
  {
   "cell_type": "code",
   "execution_count": 20,
   "id": "1d786b2e",
   "metadata": {},
   "outputs": [
    {
     "data": {
      "text/plain": [
       "53"
      ]
     },
     "execution_count": 20,
     "metadata": {},
     "output_type": "execute_result"
    }
   ],
   "source": [
    "# writing a line in that file\n",
    "f.write(\" This is my added text for practice in new_text file.\")"
   ]
  },
  {
   "cell_type": "code",
   "execution_count": 21,
   "id": "0f38cf3c",
   "metadata": {},
   "outputs": [],
   "source": [
    "data = open(\"new_test.txt\",\"r\")"
   ]
  },
  {
   "cell_type": "code",
   "execution_count": 22,
   "id": "8f63c20e",
   "metadata": {},
   "outputs": [
    {
     "name": "stdout",
     "output_type": "stream",
     "text": [
      "Data Science Masters course is highly curated and uniquely designed according to the latest industry standards. This program instills students the skills essential to knowledge discovery efforts to identify standard, novel, and truly differentiated solutions and decision-making, including skills in managing, querying, analyzing, visualizing, and extracting meaning from extremely large data sets. This trending program provides students with the statistical, mathematical and computational skills needed to meet the large-scale data science challenges of today's professional world. You will learn all the stack required to work in data science industry including cloud infrastructure and real-time industry projects. This course will be taught in Hindi language.\n",
      "\n",
      "this is my second line that i am trying to writePython supports file handling and allows users to handle files i.e., to read and write files, along with many other file handling options, to operate on files. The concept of file handling has stretched over various other languages, but the implementation is either complicated or lengthy, like other concepts of Python, this concept here is also easy and short\n"
     ]
    }
   ],
   "source": [
    "for i in data:\n",
    "    print(i)"
   ]
  },
  {
   "cell_type": "markdown",
   "id": "b702c1ff",
   "metadata": {},
   "source": [
    "## Files - reading and writing"
   ]
  },
  {
   "cell_type": "code",
   "execution_count": 23,
   "id": "0d7eb303",
   "metadata": {},
   "outputs": [],
   "source": [
    "data = {\n",
    "    \"name\": 'reza',\n",
    "    \"email\": 'reza@gmail.com',\n",
    "    \"phone\": 913456000,\n",
    "    \"subject\" :[\"data science\" , \"big data\" , \"data analytics\"]  \n",
    "}"
   ]
  },
  {
   "cell_type": "code",
   "execution_count": 24,
   "id": "91a7ceb6",
   "metadata": {},
   "outputs": [],
   "source": [
    "import json"
   ]
  },
  {
   "cell_type": "code",
   "execution_count": 25,
   "id": "eb495a0a",
   "metadata": {},
   "outputs": [],
   "source": [
    "# writing in json file\n",
    "with open(\"test.json\",\"w\") as f:\n",
    "    json.dump(data,f)         "
   ]
  },
  {
   "cell_type": "code",
   "execution_count": 26,
   "id": "d3e4b708",
   "metadata": {},
   "outputs": [],
   "source": [
    "# reading a json file\n",
    "with open(\"test.json\" , 'r') as f :\n",
    "    data1 = json.load(f)"
   ]
  },
  {
   "cell_type": "code",
   "execution_count": 27,
   "id": "391c0955",
   "metadata": {},
   "outputs": [
    {
     "data": {
      "text/plain": [
       "{'name': 'reza',\n",
       " 'email': 'reza@gmail.com',\n",
       " 'phone': 913456000,\n",
       " 'subject': ['data science', 'big data', 'data analytics']}"
      ]
     },
     "execution_count": 27,
     "metadata": {},
     "output_type": "execute_result"
    }
   ],
   "source": [
    "data1"
   ]
  },
  {
   "cell_type": "code",
   "execution_count": 28,
   "id": "204d7cea",
   "metadata": {},
   "outputs": [
    {
     "data": {
      "text/plain": [
       "['data science', 'big data', 'data analytics']"
      ]
     },
     "execution_count": 28,
     "metadata": {},
     "output_type": "execute_result"
    }
   ],
   "source": [
    "data1['subject']"
   ]
  },
  {
   "cell_type": "code",
   "execution_count": 29,
   "id": "3aaadbbc",
   "metadata": {},
   "outputs": [],
   "source": [
    "data = [['name','email','phone'],['reza','reza@xyz.com',987654321],['ashish','ashish@xyz.com',765432190],['shubham','shubham@xyz.com',8765432190]]"
   ]
  },
  {
   "cell_type": "code",
   "execution_count": 30,
   "id": "e11e79ea",
   "metadata": {},
   "outputs": [],
   "source": [
    "import csv"
   ]
  },
  {
   "cell_type": "code",
   "execution_count": 31,
   "id": "52685155",
   "metadata": {},
   "outputs": [],
   "source": [
    "# writing in csv file\n",
    "with open('test3.csv','w') as f:\n",
    "    w = csv.writer(f)\n",
    "    for i in data:\n",
    "        w.writerow(i)"
   ]
  },
  {
   "cell_type": "code",
   "execution_count": 32,
   "id": "7955519c",
   "metadata": {},
   "outputs": [
    {
     "name": "stdout",
     "output_type": "stream",
     "text": [
      "['name', 'email', 'phone']\n",
      "[]\n",
      "['reza', 'reza@xyz.com', '987654321']\n",
      "[]\n",
      "['ashish', 'ashish@xyz.com', '765432190']\n",
      "[]\n",
      "['shubham', 'shubham@xyz.com', '8765432190']\n",
      "[]\n"
     ]
    }
   ],
   "source": [
    "# readng in csv file\n",
    "with open(\"test3.csv\",\"r\") as f:\n",
    "    read = csv.reader(f)\n",
    "    for i in read:\n",
    "        print(i)"
   ]
  },
  {
   "cell_type": "code",
   "execution_count": 33,
   "id": "7d106b43",
   "metadata": {},
   "outputs": [],
   "source": [
    "# writing in binary file\n",
    "with open(\"test4.bin\",\"wb\") as f:\n",
    "    f.write(b\"\\x01\\x02\\x03\")"
   ]
  },
  {
   "cell_type": "code",
   "execution_count": 34,
   "id": "167e5945",
   "metadata": {},
   "outputs": [
    {
     "name": "stdout",
     "output_type": "stream",
     "text": [
      "b'\\x01\\x02\\x03'\n"
     ]
    }
   ],
   "source": [
    "# reading in binary file\n",
    "with open(\"test4.bin\",\"rb\") as f:\n",
    "    print(f.read())"
   ]
  },
  {
   "cell_type": "markdown",
   "id": "9d678016",
   "metadata": {},
   "source": [
    "## Buffered Read And Write "
   ]
  },
  {
   "cell_type": "code",
   "execution_count": 35,
   "id": "9938b646",
   "metadata": {},
   "outputs": [],
   "source": [
    "import io"
   ]
  },
  {
   "cell_type": "code",
   "execution_count": 36,
   "id": "858781d9",
   "metadata": {},
   "outputs": [],
   "source": [
    "with open(\"test.txt\",\"wb\") as f:\n",
    "    file = io.BufferedWriter(f)\n",
    "    file.write(b\"Data Science Masters course is highly curated and uniquely designed according to the latest industry standards. This program instills students the skills essential to knowledge discovery efforts to identify standard, novel, and truly differentiated solutions and decision-making, including skills in managing, querying, analyzing, visualizing, and extracting meaning from extremely large data sets. This trending program provides students with the statistical, mathematical and computational skills needed to meet the large-scale data science challenges of today's professional world. You will learn all the stack required to work in data science industry including cloud infrastructure and real-time industry projects. This course will be taught in Hindi language.\\n\")\n",
    "    file.write(b\"this is my second line that i am trying to write\")\n",
    "    file.flush()"
   ]
  },
  {
   "cell_type": "code",
   "execution_count": 37,
   "id": "65f43f83",
   "metadata": {},
   "outputs": [
    {
     "name": "stdout",
     "output_type": "stream",
     "text": [
      "b'Data Science Masters'\n"
     ]
    }
   ],
   "source": [
    "with open(\"test.txt\",\"rb\") as f:\n",
    "    file = io.BufferedReader(f)\n",
    "    data = file.read(20)\n",
    "    print(data)"
   ]
  },
  {
   "cell_type": "markdown",
   "id": "e85e2fa7",
   "metadata": {},
   "source": [
    "## Logging and Debugger"
   ]
  },
  {
   "cell_type": "markdown",
   "id": "a6a49eee",
   "metadata": {},
   "source": [
    "<span style ='font-size:0.8em;'> In Python, logging and debugging are two essential tools for understanding and troubleshooting your code.<br>\n",
    "Logging-<br>\n",
    "<ul>\n",
    "<span style ='font-size:0.8em;'>\n",
    " <li>\n",
    "    Logging is a way to track events that happen when some software runs.\n",
    " </li>\n",
    "\n",
    "    \n",
    "<li>\n",
    "   Logging is important for understanding what's happening in your application, especially when it's deployed and you can't interactively debug it.\n",
    "</li>\n",
    "\n",
    "<li>\n",
    "    Python's built-in logging module provides a flexible framework for emitting log messages from Python programs.\n",
    "</li>\n",
    "\n",
    "<li>\n",
    "    You can log messages with different severity levels <code>(DEBUG, INFO, WARNING, ERROR, CRITICAL)</code>, and you can configure handlers to decide what to do with those messages (print to console, write to file, etc.).\n",
    "</li>\n",
    "    </span>\n",
    "</ul>\n",
    "</span>"
   ]
  },
  {
   "cell_type": "code",
   "execution_count": 38,
   "id": "1fb1e05f",
   "metadata": {},
   "outputs": [
    {
     "name": "stdout",
     "output_type": "stream",
     "text": [
      "This is my print statement!\n"
     ]
    }
   ],
   "source": [
    "print(\"This is my print statement!\")"
   ]
  },
  {
   "cell_type": "code",
   "execution_count": 39,
   "id": "97fd213a",
   "metadata": {},
   "outputs": [],
   "source": [
    "import logging"
   ]
  },
  {
   "cell_type": "code",
   "execution_count": 40,
   "id": "6596355b",
   "metadata": {},
   "outputs": [],
   "source": [
    "logging.basicConfig(filename = \"test.log\", level = logging.INFO)"
   ]
  },
  {
   "cell_type": "code",
   "execution_count": 41,
   "id": "43c3df2a",
   "metadata": {},
   "outputs": [],
   "source": [
    "logging.info(\"This is my line of excecution \")"
   ]
  },
  {
   "cell_type": "code",
   "execution_count": 42,
   "id": "d4e7ecfb",
   "metadata": {},
   "outputs": [],
   "source": [
    "logging.error(\"This is my error \")"
   ]
  },
  {
   "cell_type": "code",
   "execution_count": 43,
   "id": "4d284a04",
   "metadata": {},
   "outputs": [],
   "source": [
    "logging.critical(\"This is my critical\")"
   ]
  },
  {
   "cell_type": "code",
   "execution_count": 44,
   "id": "de2bfea7",
   "metadata": {},
   "outputs": [],
   "source": [
    "logging.warning(\"This is my warning \")"
   ]
  },
  {
   "cell_type": "code",
   "execution_count": 45,
   "id": "58c42041",
   "metadata": {},
   "outputs": [],
   "source": [
    "logging.debug(\"This is my debug \")"
   ]
  },
  {
   "cell_type": "code",
   "execution_count": 46,
   "id": "bf601c23",
   "metadata": {},
   "outputs": [],
   "source": [
    "# logging.noset(\"this is my noset related log\")\n",
    "# ---------------------------------------------------------------------------\n",
    "# AttributeError                            Traceback (most recent call last)\n",
    "# Cell In[33], line 1\n",
    "# ----> 1 logging.noset(\"this is my noset related log\")\n",
    "\n",
    "# AttributeError: module 'logging' has no attribute 'noset'"
   ]
  },
  {
   "cell_type": "code",
   "execution_count": 47,
   "id": "c4bbbf41",
   "metadata": {},
   "outputs": [],
   "source": [
    "# This is because it can't log the level upper than it's set value like INFO here"
   ]
  },
  {
   "cell_type": "code",
   "execution_count": 48,
   "id": "b0e52fd1",
   "metadata": {},
   "outputs": [],
   "source": [
    "logging.shutdown()"
   ]
  },
  {
   "cell_type": "markdown",
   "id": "7448d15f",
   "metadata": {},
   "source": [
    "<span style=\"font-size: 0.8em;\">\n",
    "The list provided is a representation of logging levels commonly used in Python's logging module. Each level corresponds to a severity level for log messages, indicating their importance or urgency. Here's what each level means in terms of logging:\n",
    "</span>\n",
    "<span style=\"font-size: 0.8em;\">\n",
    "\n",
    "1. NOSET\n",
    "2. DEBUG\n",
    "3. INFO\n",
    "4. WARNING\n",
    "5. ERROR\n",
    "6. CRITICAL\n",
    "\n",
    "</span>\n"
   ]
  },
  {
   "cell_type": "markdown",
   "id": "807a4af7",
   "metadata": {},
   "source": [
    "<span style = 'font-size:0.8em;'>\n",
    "Debugger-<br>\n",
    "</span>\n",
    "<span style = 'font-size:0.8em;'>\n",
    "<ul>\n",
    "<li>\n",
    "     A debugger is a tool used during the debugging process to aid in identifying and resolving issues in software code.\n",
    "\n",
    "</li>\n",
    "<li>\n",
    "    Python provides a built-in debugger module called pdb (Python Debugger), which offers a range of features for interactive debugging.\n",
    "</li>\n",
    "<li>\n",
    "  The debugger enables stepping through code one line at a time, stepping into function calls, stepping out of functions, and evaluating expressions interactively.\n",
    "</li>\n",
    "<li>\n",
    " By providing insights into the program's execution flow and state, the debugger assists in identifying the root cause of bugs and facilitating their resolution.\n",
    "</li>\n",
    "</ul>\n",
    "</span>"
   ]
  },
  {
   "cell_type": "code",
   "execution_count": 49,
   "id": "5dc8797a",
   "metadata": {},
   "outputs": [],
   "source": [
    "logging.basicConfig(filename = \"test1.log\",level = logging.DEBUG, format = '%(asctime)s %(message)s')"
   ]
  },
  {
   "cell_type": "code",
   "execution_count": 50,
   "id": "10c37cbf",
   "metadata": {},
   "outputs": [],
   "source": [
    "logging.info(\"This is my info log \")"
   ]
  },
  {
   "cell_type": "code",
   "execution_count": 51,
   "id": "c8709055",
   "metadata": {},
   "outputs": [],
   "source": [
    "logging.debug(\"This is my debug log \")"
   ]
  },
  {
   "cell_type": "code",
   "execution_count": 52,
   "id": "3fa1a141",
   "metadata": {},
   "outputs": [],
   "source": [
    "logging.warning(\"This is my warning \")"
   ]
  },
  {
   "cell_type": "code",
   "execution_count": 53,
   "id": "1089d98d",
   "metadata": {},
   "outputs": [],
   "source": [
    "logging.shutdown()"
   ]
  },
  {
   "cell_type": "code",
   "execution_count": 54,
   "id": "368879b8",
   "metadata": {},
   "outputs": [],
   "source": [
    "logging.basicConfig(level=logging.DEBUG)"
   ]
  },
  {
   "cell_type": "code",
   "execution_count": 55,
   "id": "d6de0052",
   "metadata": {},
   "outputs": [],
   "source": [
    "logging.basicConfig(filename=\"test3.log\", level=logging.DEBUG, format='%(asctime)s %(name)s %(levelname)s %(message)s')"
   ]
  },
  {
   "cell_type": "code",
   "execution_count": 56,
   "id": "01be037b",
   "metadata": {},
   "outputs": [],
   "source": [
    "import logging\n",
    "\n",
    "log = logging.getLogger()\n",
    "\n",
    "# Set the logging level\n",
    "log.setLevel(logging.DEBUG)\n",
    "\n",
    "# Create a FileHandler for debug messages\n",
    "debug_handler = logging.FileHandler(\"test3.log\")\n",
    "debug_handler.setLevel(logging.DEBUG)\n",
    "\n",
    "# Create a formatter\n",
    "formatter = logging.Formatter('%(asctime)s %(name)s %(levelname)s %(message)s')\n",
    "debug_handler.setFormatter(formatter)\n",
    "\n",
    "# Add the handler to the logger\n",
    "log.addHandler(debug_handler)\n"
   ]
  },
  {
   "cell_type": "code",
   "execution_count": 57,
   "id": "a83daa1a",
   "metadata": {},
   "outputs": [],
   "source": [
    "logging.warning(\"this is my info log\")"
   ]
  },
  {
   "cell_type": "code",
   "execution_count": 58,
   "id": "3451f7fd",
   "metadata": {},
   "outputs": [],
   "source": [
    "logging.info(\"this is my info log\")"
   ]
  },
  {
   "cell_type": "code",
   "execution_count": 59,
   "id": "e8d60d98",
   "metadata": {},
   "outputs": [],
   "source": [
    "l = [1,2,3,4,[4,5,6] , \"subhan\" ,\"reza\"]"
   ]
  },
  {
   "cell_type": "code",
   "execution_count": 60,
   "id": "26b37416",
   "metadata": {},
   "outputs": [],
   "source": [
    "l1_int = []\n",
    "l2_str = []\n",
    "for i in l:\n",
    "    logging.info(\"This is start of my first loop {}\".format(l))\n",
    "    logging.info(\"this is the value of i am logging {}\".format(i))\n",
    "\n",
    "    if type(i)==list:\n",
    "        for j in i:\n",
    "            logging.info(\"logggin my j is {j} and i is {i}\".format(i = i ,j = j))\n",
    "            if type(j)==int:\n",
    "                l1_int.append(j)\n",
    "    elif type(i)==int:\n",
    "        l1_int.append(i)\n",
    "    else:\n",
    "        if type(i)==str:\n",
    "            l2_str.append(i)\n",
    "logging.info(\"this is my final result  with all int {l1} ,with all str{l2}\".format(l1 =l1_int ,l2 =l2_str ))\n"
   ]
  },
  {
   "cell_type": "code",
   "execution_count": 61,
   "id": "8f15f577",
   "metadata": {},
   "outputs": [
    {
     "data": {
      "text/plain": [
       "[1, 2, 3, 4, 4, 5, 6]"
      ]
     },
     "execution_count": 61,
     "metadata": {},
     "output_type": "execute_result"
    }
   ],
   "source": [
    "l1_int"
   ]
  },
  {
   "cell_type": "code",
   "execution_count": 62,
   "id": "d44fd0f3",
   "metadata": {},
   "outputs": [
    {
     "data": {
      "text/plain": [
       "['subhan', 'reza']"
      ]
     },
     "execution_count": 62,
     "metadata": {},
     "output_type": "execute_result"
    }
   ],
   "source": [
    "l2_str"
   ]
  },
  {
   "cell_type": "code",
   "execution_count": null,
   "id": "64012f17",
   "metadata": {},
   "outputs": [],
   "source": []
  }
 ],
 "metadata": {
  "kernelspec": {
   "display_name": "Python 3 (ipykernel)",
   "language": "python",
   "name": "python3"
  },
  "language_info": {
   "codemirror_mode": {
    "name": "ipython",
    "version": 3
   },
   "file_extension": ".py",
   "mimetype": "text/x-python",
   "name": "python",
   "nbconvert_exporter": "python",
   "pygments_lexer": "ipython3",
   "version": "3.10.9"
  }
 },
 "nbformat": 4,
 "nbformat_minor": 5
}
