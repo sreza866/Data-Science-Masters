{
 "cells": [
  {
   "cell_type": "markdown",
   "id": "075e81df",
   "metadata": {},
   "source": [
    "### Working With SQL"
   ]
  },
  {
   "cell_type": "markdown",
   "id": "e78e5081",
   "metadata": {},
   "source": [
    "<span style = 'font-size:0.8em;'>\n",
    "MySQL is a popular open-source relational database management system (RDBMS) that is commonly used for web applications and other types of software. It's known for its reliability, ease of use, and wide adoption in the industry.\n",
    "\n",
    "When working with MySQL in Python, we typically use a MySQL database adapter, which acts as a bridge between your Python code and the MySQL database. There are several MySQL database adapters available for Python, such as mysql-connector-python, PyMySQL, and MySQLdb\n",
    "    \n",
    "**mysql-connector-python**: This is the official MySQL driver for Python developed by Oracle. It's a pure Python implementation, meaning it doesn't require any dependencies other than Python itself. It supports Python 3 and MySQL 8.\n",
    "\n",
    "</span>"
   ]
  },
  {
   "cell_type": "markdown",
   "id": "1fd0f6b6",
   "metadata": {},
   "source": [
    "<span style = 'font-size:0.8em;'>\n",
    "    \n",
    "**Installation**\n",
    "    \n",
    "To install the Python-mysql-connector module, one must have Python and PIP, preinstalled on their system. If Python and pip are already installed type the below command in the terminal.\n",
    "    \n",
    "<code>pip install mysql-connector-python</code>\n",
    "\n",
    "    \n",
    "</span>"
   ]
  },
  {
   "cell_type": "code",
   "execution_count": 7,
   "id": "64ce8e25",
   "metadata": {},
   "outputs": [
    {
     "name": "stdout",
     "output_type": "stream",
     "text": [
      "Connection established successfully with: <mysql.connector.connection_cext.CMySQLConnection object at 0x00000206DCCDC3D0>\n"
     ]
    }
   ],
   "source": [
    "# importing required libraries\n",
    "import mysql.connector\n",
    "  \n",
    "dataBase = mysql.connector.connect(\n",
    "  host =\"localhost\",\n",
    "  user =\"root\",\n",
    "  password =\"\"\n",
    ")\n",
    " \n",
    "print(f\"Connection established successfully with: {dataBase}\")\n",
    "  \n",
    "# Disconnecting from the server\n",
    "dataBase.close()"
   ]
  },
  {
   "cell_type": "code",
   "execution_count": null,
   "id": "39012441",
   "metadata": {},
   "outputs": [],
   "source": [
    "# importing required libraries\n",
    "import mysql.connector\n",
    "  \n",
    "dataBase = mysql.connector.connect(\n",
    "  host =\"localhost\",\n",
    "  user =\"root\",\n",
    "  password =\"\"\n",
    ")\n",
    " \n",
    "  \n",
    "# Disconnecting from the server\n",
    "dataBase.close()"
   ]
  },
  {
   "cell_type": "code",
   "execution_count": 9,
   "id": "2b62559c",
   "metadata": {},
   "outputs": [],
   "source": [
    "import mysql.connector\n",
    "db = mysql.connector.connect(\n",
    "    host = \"localhost\",\n",
    "    user = \"root\",\n",
    "    password = \"\"\n",
    "\n",
    ")\n",
    "dbcursor = db.cursor()\n",
    "dbcursor.execute(\"create database if not exists test\")\n",
    "db.close()"
   ]
  },
  {
   "cell_type": "code",
   "execution_count": 12,
   "id": "b4e96f7a",
   "metadata": {},
   "outputs": [],
   "source": [
    "import mysql.connector\n",
    "db = mysql.connector.connect(\n",
    "    host = \"localhost\",\n",
    "    user = \"root\",\n",
    "    password = \"\"\n",
    "\n",
    ")\n",
    "dbcursor = db.cursor()\n",
    "dbcursor.execute(\"CREATE TABLE IF NOT EXISTS test.test_table(id INT, firstname VARCHAR(50), age INT, weight FLOAT, lastname VARCHAR(40))\")\n",
    "db.close()"
   ]
  },
  {
   "cell_type": "code",
   "execution_count": 18,
   "id": "c5da0688",
   "metadata": {},
   "outputs": [],
   "source": [
    "import mysql.connector\n",
    "db = mysql.connector.connect(\n",
    "    host = \"localhost\",\n",
    "    user = \"root\",\n",
    "    password = \"\"\n",
    "\n",
    ")\n",
    "\n",
    "dbcursor = db.cursor()\n",
    "dbcursor.execute(\"insert into test.test_table values(3424,'Subhan',23,67.5,'Reza')\")\n",
    "db.commit()\n",
    "db.close()\n"
   ]
  },
  {
   "cell_type": "code",
   "execution_count": 21,
   "id": "a876986e",
   "metadata": {},
   "outputs": [
    {
     "name": "stdout",
     "output_type": "stream",
     "text": [
      "(3424, 'Subhan', 23, 67.5, 'Reza')\n"
     ]
    }
   ],
   "source": [
    "import mysql.connector\n",
    "db = mysql.connector.connect(\n",
    "    host = \"localhost\",\n",
    "    user = \"root\",\n",
    "    password = \"\"\n",
    "\n",
    ")\n",
    "dbcursor = db.cursor()\n",
    "dbcursor.execute(\"SELECT * FROM test.test_table\")\n",
    "for i in dbcursor.fetchall():\n",
    "    print(i)"
   ]
  },
  {
   "cell_type": "code",
   "execution_count": null,
   "id": "30ea85da",
   "metadata": {},
   "outputs": [],
   "source": []
  }
 ],
 "metadata": {
  "kernelspec": {
   "display_name": "Python 3 (ipykernel)",
   "language": "python",
   "name": "python3"
  },
  "language_info": {
   "codemirror_mode": {
    "name": "ipython",
    "version": 3
   },
   "file_extension": ".py",
   "mimetype": "text/x-python",
   "name": "python",
   "nbconvert_exporter": "python",
   "pygments_lexer": "ipython3",
   "version": "3.10.9"
  }
 },
 "nbformat": 4,
 "nbformat_minor": 5
}
