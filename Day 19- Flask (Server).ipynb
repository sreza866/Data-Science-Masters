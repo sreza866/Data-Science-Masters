{
 "cells": [
  {
   "cell_type": "markdown",
   "id": "ad996b20",
   "metadata": {},
   "source": [
    "### Flask"
   ]
  },
  {
   "cell_type": "markdown",
   "id": "0c962460",
   "metadata": {},
   "source": [
    "<span style = 'font-size:0.8em;'>\n",
    "Flask is a lightweight web application framework for Python. It's designed to make getting started with web development quick and easy, with simplicity and flexibility as its guiding principles. Flask provides tools and libraries to help build web applications, including handling HTTP requests, routing, templating, and more. It's popular among developers for its minimalistic approach, which allows for great customization and integration with other libraries and tools.\n",
    "</span>"
   ]
  },
  {
   "cell_type": "code",
   "execution_count": 1,
   "id": "ee69298a",
   "metadata": {},
   "outputs": [],
   "source": [
    "from flask import Flask, request  # import main Flask class and request object\n",
    "import random"
   ]
  },
  {
   "cell_type": "code",
   "execution_count": 2,
   "id": "13a826df",
   "metadata": {},
   "outputs": [],
   "source": [
    "app = Flask(__name__)  # create the Flask app"
   ]
  },
  {
   "cell_type": "code",
   "execution_count": 3,
   "id": "a0494939",
   "metadata": {},
   "outputs": [],
   "source": [
    "@app.route(\"/hello1\")\n",
    "def hello_world1():\n",
    "    return \"Hello, World!1\""
   ]
  },
  {
   "cell_type": "code",
   "execution_count": 4,
   "id": "a9e84f68",
   "metadata": {},
   "outputs": [],
   "source": [
    "@app.route('/input_url')\n",
    "def request_input():\n",
    "    data = request.args.get('x')\n",
    "    return \"this is my input from url {}\".format(data)"
   ]
  },
  {
   "cell_type": "code",
   "execution_count": 5,
   "id": "54074452",
   "metadata": {},
   "outputs": [],
   "source": [
    "@app.route('/status', methods=['GET'])\n",
    "def a_live():\n",
    "    return \"Alive!\""
   ]
  },
  {
   "cell_type": "code",
   "execution_count": 6,
   "id": "28c3f52c",
   "metadata": {},
   "outputs": [],
   "source": [
    "@app.route('/welcome')\n",
    "def welcome():\n",
    "    return 'Welcome to ABC Corporation'"
   ]
  },
  {
   "cell_type": "code",
   "execution_count": 7,
   "id": "55dd0412",
   "metadata": {},
   "outputs": [],
   "source": [
    "@app.route('/')\n",
    "def company_details():\n",
    "    return '''\n",
    "    Company Name: ABC Corporation\n",
    "    Location: India\n",
    "    Contact Detail: 999-999-9999\n",
    "    '''"
   ]
  },
  {
   "cell_type": "code",
   "execution_count": null,
   "id": "49bdb274",
   "metadata": {},
   "outputs": [
    {
     "name": "stdout",
     "output_type": "stream",
     "text": [
      " * Serving Flask app '__main__'\n",
      " * Debug mode: off\n"
     ]
    },
    {
     "name": "stderr",
     "output_type": "stream",
     "text": [
      "WARNING: This is a development server. Do not use it in a production deployment. Use a production WSGI server instead.\n",
      " * Running on http://127.0.0.1:5000\n",
      "Press CTRL+C to quit\n",
      "127.0.0.1 - - [26/Apr/2024 21:34:52] \"GET /status HTTP/1.1\" 200 -\n",
      "127.0.0.1 - - [26/Apr/2024 21:34:56] \"GET /hello1 HTTP/1.1\" 200 -\n",
      "127.0.0.1 - - [26/Apr/2024 21:35:02] \"GET /input_url?x=Mango HTTP/1.1\" 200 -\n",
      "127.0.0.1 - - [26/Apr/2024 22:49:14] \"GET /input_url?x=Mango HTTP/1.1\" 200 -\n",
      "127.0.0.1 - - [26/Apr/2024 22:50:49] \"GET / HTTP/1.1\" 200 -\n",
      "127.0.0.1 - - [26/Apr/2024 22:50:59] \"GET / HTTP/1.1\" 200 -\n",
      "127.0.0.1 - - [26/Apr/2024 22:51:37] \"GET /welcome HTTP/1.1\" 200 -\n"
     ]
    }
   ],
   "source": [
    "app.run(port=5000)"
   ]
  },
  {
   "cell_type": "code",
   "execution_count": null,
   "id": "a7f455c2",
   "metadata": {},
   "outputs": [],
   "source": []
  }
 ],
 "metadata": {
  "kernelspec": {
   "display_name": "Python 3 (ipykernel)",
   "language": "python",
   "name": "python3"
  },
  "language_info": {
   "codemirror_mode": {
    "name": "ipython",
    "version": 3
   },
   "file_extension": ".py",
   "mimetype": "text/x-python",
   "name": "python",
   "nbconvert_exporter": "python",
   "pygments_lexer": "ipython3",
   "version": "3.10.9"
  }
 },
 "nbformat": 4,
 "nbformat_minor": 5
}
