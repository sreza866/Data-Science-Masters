{
 "cells": [
  {
   "cell_type": "code",
   "execution_count": 1,
   "id": "e0be67b1-e346-47af-9582-d8b64112ab27",
   "metadata": {},
   "outputs": [
    {
     "name": "stdout",
     "output_type": "stream",
     "text": [
      "Hello World\n"
     ]
    }
   ],
   "source": [
    "print(\"Hello World\")"
   ]
  },
  {
   "cell_type": "code",
   "execution_count": 2,
   "id": "9861144a-8bab-46af-a83c-e44935830f41",
   "metadata": {},
   "outputs": [
    {
     "name": "stdout",
     "output_type": "stream",
     "text": [
      "My age is: 24\n"
     ]
    }
   ],
   "source": [
    "age = 24\n",
    "print(\"My age is:\", age)"
   ]
  },
  {
   "cell_type": "code",
   "execution_count": 3,
   "id": "f36fa924-a0d3-4c4a-bdd2-0a3ce14b8db4",
   "metadata": {},
   "outputs": [
    {
     "name": "stdout",
     "output_type": "stream",
     "text": [
      "My age is {age}\n"
     ]
    }
   ],
   "source": [
    "print(\"My age is {age}\")"
   ]
  },
  {
   "cell_type": "code",
   "execution_count": 4,
   "id": "fbaf9be2-92d8-4ba5-be70-3b357e0ded5d",
   "metadata": {},
   "outputs": [
    {
     "name": "stdout",
     "output_type": "stream",
     "text": [
      "My age is 24\n"
     ]
    }
   ],
   "source": [
    "# fstring\n",
    "print(f\"My age is {age}\")"
   ]
  },
  {
   "cell_type": "code",
   "execution_count": 5,
   "id": "b6b802b0-0d42-4e05-a4de-960c66a70c22",
   "metadata": {},
   "outputs": [
    {
     "name": "stdout",
     "output_type": "stream",
     "text": [
      "My name is Subhan and age is 24 \n"
     ]
    }
   ],
   "source": [
    "# format\n",
    "name = \"Subhan\"\n",
    "age = 24\n",
    "print(\"My name is {} and age is {} \".format(name,age))"
   ]
  },
  {
   "cell_type": "code",
   "execution_count": 6,
   "id": "74f2bcfe-b5f1-4f47-a018-30193cf98fd6",
   "metadata": {},
   "outputs": [
    {
     "name": "stdout",
     "output_type": "stream",
     "text": [
      "My name is 24 and age is Subhan \n"
     ]
    }
   ],
   "source": [
    "print(\"My name is {} and age is {} \".format(age,name))"
   ]
  },
  {
   "cell_type": "code",
   "execution_count": 7,
   "id": "267a9ba1-21cf-45f9-9e04-38529b979250",
   "metadata": {},
   "outputs": [
    {
     "name": "stdout",
     "output_type": "stream",
     "text": [
      "My name is Subhan and age is 24 \n"
     ]
    }
   ],
   "source": [
    "# Placeholder\n",
    "print(\"My name is {myname} and age is {myage} \".format(myage = age, myname = name))"
   ]
  },
  {
   "cell_type": "code",
   "execution_count": 8,
   "id": "7b660b98-fc9f-4dd2-89cf-d00b446bd73a",
   "metadata": {},
   "outputs": [],
   "source": [
    "name = \"Subhan Reza\"\n",
    "age = 24\n",
    "degree = \"B.Tech\"\n",
    "# My age is 24 and I have completed: my degree of B.Tech with the name of Subhan Reza"
   ]
  },
  {
   "cell_type": "code",
   "execution_count": 9,
   "id": "6ac4b319-f0d5-47ce-9d49-f6437c904cf8",
   "metadata": {},
   "outputs": [
    {
     "name": "stdout",
     "output_type": "stream",
     "text": [
      "My age is 24 and I have completed: my degree of B.Tech with the name of Subhan Reza\n"
     ]
    }
   ],
   "source": [
    "print(\"My age is {myage} and I have completed: my degree of {mydegree} with the name of {myname}\".format(myage = age, mydegree = degree, myname = name))"
   ]
  },
  {
   "cell_type": "code",
   "execution_count": 10,
   "id": "d49aae61-7d9d-4d9e-8fe2-128b9a82f67d",
   "metadata": {},
   "outputs": [
    {
     "name": "stdout",
     "output_type": "stream",
     "text": [
      "My age is 24 and I have completed: my degree of B.Tech with the name of Subhan Reza\n"
     ]
    }
   ],
   "source": [
    "print(f\"My age is {age} and I have completed: my degree of {degree} with the name of {name}\")"
   ]
  },
  {
   "cell_type": "markdown",
   "id": "96676e4b-ea96-4513-b8ae-9d5107a517ab",
   "metadata": {},
   "source": [
    "## Control Flow"
   ]
  },
  {
   "cell_type": "markdown",
   "id": "bda116da-b250-4528-a6d5-67b1ab4c131a",
   "metadata": {},
   "source": [
    "### Decision Making Statement"
   ]
  },
  {
   "cell_type": "code",
   "execution_count": 11,
   "id": "f907cbb4-d4c4-4a38-a534-fffe28786586",
   "metadata": {},
   "outputs": [
    {
     "name": "stdout",
     "output_type": "stream",
     "text": [
      "You are eligible to vote\n"
     ]
    }
   ],
   "source": [
    "# If statement\n",
    "age = 18\n",
    "if age >= 18:\n",
    "    print(\"You are eligible to vote\")"
   ]
  },
  {
   "cell_type": "code",
   "execution_count": 12,
   "id": "a8f0682f-a35b-43b6-a1e5-5907194acb95",
   "metadata": {},
   "outputs": [
    {
     "data": {
      "text/plain": [
       "False"
      ]
     },
     "execution_count": 12,
     "metadata": {},
     "output_type": "execute_result"
    }
   ],
   "source": [
    "18>19"
   ]
  },
  {
   "cell_type": "code",
   "execution_count": 13,
   "id": "49198873-88eb-4912-85f4-54a2714312bb",
   "metadata": {},
   "outputs": [
    {
     "data": {
      "text/plain": [
       "True"
      ]
     },
     "execution_count": 13,
     "metadata": {},
     "output_type": "execute_result"
    }
   ],
   "source": [
    "16<18"
   ]
  },
  {
   "cell_type": "code",
   "execution_count": 14,
   "id": "2f1a098f-a2e3-496d-98bb-8a2eacda585c",
   "metadata": {},
   "outputs": [
    {
     "name": "stdout",
     "output_type": "stream",
     "text": [
      "You are not eligible to vote\n"
     ]
    }
   ],
   "source": [
    "# If statement\n",
    "age = 17\n",
    "if age <= 18:\n",
    "    print(\"You are not eligible to vote\")"
   ]
  },
  {
   "cell_type": "code",
   "execution_count": 15,
   "id": "5b077daa-a4fd-4323-89ff-5ba257571b81",
   "metadata": {},
   "outputs": [
    {
     "name": "stdin",
     "output_type": "stream",
     "text": [
      "Enter your name:  Subhan Reza\n"
     ]
    }
   ],
   "source": [
    "# User Input\n",
    "name = input(\"Enter your name: \")"
   ]
  },
  {
   "cell_type": "code",
   "execution_count": 16,
   "id": "46be4a0f-eac9-41d7-abfa-647b6efbeb38",
   "metadata": {},
   "outputs": [
    {
     "data": {
      "text/plain": [
       "'Subhan Reza'"
      ]
     },
     "execution_count": 16,
     "metadata": {},
     "output_type": "execute_result"
    }
   ],
   "source": [
    "name"
   ]
  },
  {
   "cell_type": "code",
   "execution_count": 17,
   "id": "f84e3fcc-b9b2-4099-8f87-5eda89252afc",
   "metadata": {},
   "outputs": [
    {
     "data": {
      "text/plain": [
       "str"
      ]
     },
     "execution_count": 17,
     "metadata": {},
     "output_type": "execute_result"
    }
   ],
   "source": [
    "type(name)"
   ]
  },
  {
   "cell_type": "code",
   "execution_count": null,
   "id": "3eb6d8ee-8467-4ac6-8f42-125fef3eefb0",
   "metadata": {},
   "outputs": [],
   "source": [
    "age = int(input(\"Enter your age: \"))"
   ]
  },
  {
   "cell_type": "code",
   "execution_count": null,
   "id": "ac91b1ba-b187-4dd1-a9d3-356e567605b3",
   "metadata": {},
   "outputs": [],
   "source": [
    "type(age)"
   ]
  },
  {
   "cell_type": "code",
   "execution_count": null,
   "id": "a7d4af99-eaff-443f-9930-b6e8f9b11486",
   "metadata": {},
   "outputs": [],
   "source": [
    "## Task\n",
    "'''\n",
    "** Take a input of age\n",
    "** Check Whether age>=18 and age<=45\n",
    "** display a message \"you are a young blood\"\n",
    "'''"
   ]
  },
  {
   "cell_type": "code",
   "execution_count": null,
   "id": "212e403d-48d4-4a20-a2f8-5e36e7b39a71",
   "metadata": {},
   "outputs": [],
   "source": [
    "age = int(input(\"Enter your age: \"))\n",
    "if age>=18 and age<=45:\n",
    "    print(\"You are a young blood\")"
   ]
  },
  {
   "cell_type": "code",
   "execution_count": null,
   "id": "f1d6df92-463f-4281-8bfc-3dab43dc8806",
   "metadata": {},
   "outputs": [],
   "source": [
    "# If-else statement\n",
    "age = int(input(\"Enter your age: \"))\n",
    "if age>=18 and age<=45:\n",
    "    print(\"You are a young blood\")\n",
    "else:\n",
    "    print(\"Thank You! We will let you know\")"
   ]
  },
  {
   "cell_type": "code",
   "execution_count": null,
   "id": "de9de9c7-8591-4de6-8285-cd5354fa9095",
   "metadata": {},
   "outputs": [],
   "source": [
    "## mall- input the product price\n",
    "## product>1000rs- 20% off\n",
    "## print the price after removing the discount\n",
    "## product<=1000rs- 30% off\n",
    "## print the price after removing the discount"
   ]
  },
  {
   "cell_type": "code",
   "execution_count": null,
   "id": "4e44d6a3-2b63-43d1-b937-eeaeb1c85d10",
   "metadata": {},
   "outputs": [],
   "source": [
    "product_price = int(input(\"Enter the price: \"))\n",
    "if product_price>1000:\n",
    "    price = product_price-0.2*product_price\n",
    "    print(\"The price of the product is {}\".format(price))\n",
    "else:\n",
    "    price = product_price-0.3*product_price\n",
    "    print(\"The price of the product is {}\".format(price))\n",
    "\n"
   ]
  },
  {
   "cell_type": "code",
   "execution_count": null,
   "id": "caa05521-fcc7-4a46-999f-6628239232a0",
   "metadata": {},
   "outputs": [],
   "source": [
    "product_price = int(input(\"Enter the price: \"))\n",
    "if product_price>1000:\n",
    "    price = product_price-0.2*product_price\n",
    "    print(f\"The price of the product is {price}\")\n",
    "else:\n",
    "    price = product_price-0.3*product_price\n",
    "    print(f\"The price of the product is {price}\")\n",
    "\n"
   ]
  },
  {
   "cell_type": "code",
   "execution_count": null,
   "id": "7c015ee2-36c5-4632-8659-6d9b20752265",
   "metadata": {},
   "outputs": [],
   "source": [
    "## mall- input the product price\n",
    "## product>3000rs- 20% off\n",
    "## print the price after removing the discount\n",
    "## product>=2000rs and <=3000- 30% off\n",
    "## product==2999rs u will get additional gift\n",
    "## print the price after removing the discount\n",
    "## product>=100rs and <=2000- 40% off\n",
    "## print the price after removing the discount"
   ]
  },
  {
   "cell_type": "code",
   "execution_count": null,
   "id": "bda32406-09f4-410f-850c-fe6e4c69eefa",
   "metadata": {},
   "outputs": [],
   "source": [
    "product_price = int(input(\"Enter the price: \"))\n",
    "if product_price>3000:\n",
    "    price = product_price-0.2*product_price\n",
    "    print(\"The price of the product is {}\".format(price))\n",
    "elif product_price>=2000 and product_price <=3000:\n",
    "    if product_price==2999:\n",
    "        print(\"Congo u won an additional gift\")\n",
    "    price = product_price-0.3*product_price\n",
    "    print(\"The price of the product is {}\".format(price))\n",
    "elif product_price>=100 and product_price <2000:\n",
    "    price = product_price-0.4*product_price\n",
    "    print(\"The price of the product is {}\".format(price))\n",
    "else:\n",
    "    print(\"Let's drink tea\")\n",
    "\n"
   ]
  },
  {
   "cell_type": "code",
   "execution_count": null,
   "id": "35e1aafa-2328-4d15-b1c3-45262c864af2",
   "metadata": {},
   "outputs": [],
   "source": [
    "## Comparison operator\n",
    "True==True"
   ]
  },
  {
   "cell_type": "code",
   "execution_count": null,
   "id": "7bf79c22-d8e5-42ce-a86b-62e6821444a0",
   "metadata": {},
   "outputs": [],
   "source": [
    "## Single statement suites\n",
    "val  = int(input(\"Enter the number: \"))\n",
    "if val<=999:print(\"The value is less than 999\")\n",
    "else:\n",
    "    print(\"Omg value is larger\")"
   ]
  },
  {
   "cell_type": "markdown",
   "id": "63b53f6c-6445-426b-82c2-b7e4bf6ec999",
   "metadata": {},
   "source": [
    "## Loops statements\n",
    "1. while loop\n",
    "2. for loop\n",
    "3. nested loop\n",
    "4. loop control(break,continue,pass)"
   ]
  },
  {
   "cell_type": "code",
   "execution_count": null,
   "id": "fcb2f48a-dfcc-4074-9f18-97465e4e1d11",
   "metadata": {},
   "outputs": [],
   "source": [
    "# while loop while-else\n",
    "joining_age = 25\n",
    "while joining_age<=60:\n",
    "    print(joining_age)\n",
    "    joining_age=joining_age+1\n",
    "else:\n",
    "    print(\"It's time for retirement\")"
   ]
  },
  {
   "cell_type": "code",
   "execution_count": null,
   "id": "07373ef0-d40e-4f44-a32f-4103be2e568d",
   "metadata": {},
   "outputs": [],
   "source": [
    "# Atm machine with 1000 rs\n",
    "total_amount = 1000\n",
    "while total_amount!=0:\n",
    "    print(total_amount)\n",
    "    total_amount=total_amount-100\n",
    "else:\n",
    "    print(\"Please refill of cash at this ATM\")\n"
   ]
  },
  {
   "cell_type": "code",
   "execution_count": null,
   "id": "b6b9bc6e-3905-4960-81bf-59af7d895b0c",
   "metadata": {},
   "outputs": [],
   "source": [
    "# For loop\n",
    "lst = [10,2,\"Apple\",\"Banana\",30,5]"
   ]
  },
  {
   "cell_type": "code",
   "execution_count": null,
   "id": "f9a8d0c9-5d1d-44c9-8d31-fd9d89edac87",
   "metadata": {},
   "outputs": [],
   "source": [
    "lst"
   ]
  },
  {
   "cell_type": "code",
   "execution_count": null,
   "id": "c891f6eb-54b6-45ba-83c3-7a72e7be6527",
   "metadata": {},
   "outputs": [],
   "source": [
    "for i in lst:\n",
    "    print(i)"
   ]
  },
  {
   "cell_type": "code",
   "execution_count": null,
   "id": "cc1b71f8-5a13-41e9-b424-c2a162b64f7d",
   "metadata": {},
   "outputs": [],
   "source": [
    "for i in lst:\n",
    "    print(i, end = ' ')"
   ]
  },
  {
   "cell_type": "code",
   "execution_count": null,
   "id": "12c7bf5f-eea2-40af-a1d9-fa654aee3555",
   "metadata": {},
   "outputs": [],
   "source": [
    "fruits_basket = ['Kiwi','Grapes','Watermelon','Mango','Banana']"
   ]
  },
  {
   "cell_type": "code",
   "execution_count": null,
   "id": "3d6f4962-44f4-4094-92e3-7eba9720d808",
   "metadata": {},
   "outputs": [],
   "source": [
    "for fruit in fruits_basket:\n",
    "    if fruit=='Mango':\n",
    "        print(\"King of all fruits\")\n",
    "    print(fruit)"
   ]
  },
  {
   "cell_type": "code",
   "execution_count": null,
   "id": "b64bdb49-59bf-481d-8595-55870e4b847e",
   "metadata": {},
   "outputs": [],
   "source": [
    "fruit = 'Grapes'\n",
    "for x in fruit:\n",
    "    print(x)\n",
    "\n"
   ]
  },
  {
   "cell_type": "code",
   "execution_count": null,
   "id": "09824e55-6a51-49cd-91ff-f1e61a283442",
   "metadata": {},
   "outputs": [],
   "source": [
    "fruit[3]"
   ]
  },
  {
   "cell_type": "code",
   "execution_count": null,
   "id": "7096d80e-0109-4366-b888-a1b9d2412f3f",
   "metadata": {},
   "outputs": [],
   "source": [
    "## Nested loops"
   ]
  },
  {
   "cell_type": "code",
   "execution_count": null,
   "id": "c76aa62e-5fa2-43a1-9597-0f11cf6ee7a2",
   "metadata": {},
   "outputs": [],
   "source": [
    "# range() return an object that produce sequence of integers from start to end\n",
    "range(1,6)"
   ]
  },
  {
   "cell_type": "code",
   "execution_count": null,
   "id": "02fa1917-3647-4c78-bc8f-ebe703c3df32",
   "metadata": {},
   "outputs": [],
   "source": [
    "for i in range(1,6):\n",
    "    print(i)"
   ]
  },
  {
   "cell_type": "code",
   "execution_count": null,
   "id": "e1b88e40-ddd7-446e-8761-6a6a96700707",
   "metadata": {},
   "outputs": [],
   "source": [
    "for i in range(1,10,2):\n",
    "    print(i)"
   ]
  },
  {
   "cell_type": "code",
   "execution_count": null,
   "id": "e1e33e21-c01f-461b-814a-e976240df559",
   "metadata": {},
   "outputs": [],
   "source": [
    "# Nested loops\n",
    "# Right-angled triangle\n",
    "n=7\n",
    "for i in range(0,n):\n",
    "    for j in range(0,i+1):\n",
    "        print('*',end='')\n",
    "    print('\\r')"
   ]
  },
  {
   "cell_type": "code",
   "execution_count": null,
   "id": "5a5d4fa2-0988-485d-bf74-d2a831a1a53f",
   "metadata": {},
   "outputs": [],
   "source": [
    "# Equilateral triangle\n",
    "n=7\n",
    "for i in range(1,n+1):\n",
    "    # Print leading spaces\n",
    "    for j in range(n-i):\n",
    "        print(' ',end='')\n",
    "        \n",
    "    # Print asterisks for the current row\n",
    "    for k in range(1, 2*i):\n",
    "        print('*',end='')\n",
    "    print('\\n')"
   ]
  },
  {
   "cell_type": "code",
   "execution_count": null,
   "id": "5622e2fa-eac3-4e94-b60b-99690d52b3a4",
   "metadata": {},
   "outputs": [],
   "source": [
    "fruits_basket"
   ]
  },
  {
   "cell_type": "code",
   "execution_count": null,
   "id": "7ac7743a-54a5-4ddf-9d02-4a8aa9c1ca28",
   "metadata": {},
   "outputs": [],
   "source": [
    "## Loops control\n",
    "## break and continue\n",
    "for fruit in fruits_basket:\n",
    "    if fruit=='Watermelon':\n",
    "        break #skip the entire loop\n",
    "    print(fruit)"
   ]
  },
  {
   "cell_type": "code",
   "execution_count": null,
   "id": "0044dc99-3be6-4b31-9472-b33797b39ae3",
   "metadata": {},
   "outputs": [],
   "source": [
    "# continue\n",
    "for fruit in fruits_basket:\n",
    "    if fruit=='Mango':\n",
    "        print(\"King of all fruits\")\n",
    "        continue #skip the single iteration\n",
    "    print(fruit)"
   ]
  },
  {
   "cell_type": "code",
   "execution_count": null,
   "id": "0b6c6e76-bc18-4729-8d54-bff7ba0c372d",
   "metadata": {},
   "outputs": [],
   "source": [
    "# pass\n",
    "for fruit in fruits_basket:\n",
    "    if fruit=='Grapes':\n",
    "        print(\"The fruits is grape\")\n",
    "        pass \n",
    "    print(fruit)"
   ]
  },
  {
   "cell_type": "code",
   "execution_count": null,
   "id": "3e14aaa2-ceb9-4889-91d6-7dc2c2837e9e",
   "metadata": {},
   "outputs": [],
   "source": []
  }
 ],
 "metadata": {
  "kernelspec": {
   "display_name": "Python 3 (ipykernel)",
   "language": "python",
   "name": "python3"
  },
  "language_info": {
   "codemirror_mode": {
    "name": "ipython",
    "version": 3
   },
   "file_extension": ".py",
   "mimetype": "text/x-python",
   "name": "python",
   "nbconvert_exporter": "python",
   "pygments_lexer": "ipython3",
   "version": "3.10.8"
  }
 },
 "nbformat": 4,
 "nbformat_minor": 5
}
