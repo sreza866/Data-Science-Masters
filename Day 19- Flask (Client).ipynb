{
 "cells": [
  {
   "cell_type": "code",
   "execution_count": 19,
   "id": "417661b1",
   "metadata": {},
   "outputs": [],
   "source": [
    "import requests\n",
    "response = requests.get('http://127.0.0.1:5000/status')"
   ]
  },
  {
   "cell_type": "code",
   "execution_count": 20,
   "id": "3d67aabf",
   "metadata": {},
   "outputs": [
    {
     "data": {
      "text/plain": [
       "'Alive!'"
      ]
     },
     "execution_count": 20,
     "metadata": {},
     "output_type": "execute_result"
    }
   ],
   "source": [
    "response.text"
   ]
  },
  {
   "cell_type": "code",
   "execution_count": 21,
   "id": "9d39bb23",
   "metadata": {},
   "outputs": [],
   "source": [
    "response = requests.get('http://127.0.0.1:5000/hello1')"
   ]
  },
  {
   "cell_type": "code",
   "execution_count": 22,
   "id": "466dc632",
   "metadata": {},
   "outputs": [
    {
     "data": {
      "text/plain": [
       "'Hello, World!1'"
      ]
     },
     "execution_count": 22,
     "metadata": {},
     "output_type": "execute_result"
    }
   ],
   "source": [
    "response.text"
   ]
  },
  {
   "cell_type": "code",
   "execution_count": 27,
   "id": "84f3dee2",
   "metadata": {},
   "outputs": [],
   "source": [
    "response = requests.get('http://127.0.0.1:5000/welcome')"
   ]
  },
  {
   "cell_type": "code",
   "execution_count": 28,
   "id": "70fbee40",
   "metadata": {},
   "outputs": [
    {
     "data": {
      "text/plain": [
       "'Welcome to ABC Corporation'"
      ]
     },
     "execution_count": 28,
     "metadata": {},
     "output_type": "execute_result"
    }
   ],
   "source": [
    "response.text"
   ]
  },
  {
   "cell_type": "code",
   "execution_count": 26,
   "id": "3c28c504",
   "metadata": {},
   "outputs": [
    {
     "data": {
      "text/plain": [
       "'\\n    Company Name: ABC Corporation\\n    Location: India\\n    Contact Detail: 999-999-9999\\n    '"
      ]
     },
     "execution_count": 26,
     "metadata": {},
     "output_type": "execute_result"
    }
   ],
   "source": [
    "response = requests.get('http://127.0.0.1:5000/')\n",
    "response.text"
   ]
  },
  {
   "cell_type": "code",
   "execution_count": 24,
   "id": "e93e74fd",
   "metadata": {},
   "outputs": [
    {
     "name": "stdout",
     "output_type": "stream",
     "text": [
      "this is my input from url Mango\n"
     ]
    }
   ],
   "source": [
    "url = 'http://127.0.0.1:5000/input_url'\n",
    "\n",
    "# Define the parameters to send in the request\n",
    "params = {'x': 'Mango'}\n",
    "\n",
    "# Send a GET request to the server\n",
    "response = requests.get(url, params=params)\n",
    "\n",
    "# Print the response from the server\n",
    "print(response.text)\n"
   ]
  },
  {
   "cell_type": "code",
   "execution_count": null,
   "id": "36bedbe6",
   "metadata": {},
   "outputs": [],
   "source": []
  }
 ],
 "metadata": {
  "kernelspec": {
   "display_name": "Python 3 (ipykernel)",
   "language": "python",
   "name": "python3"
  },
  "language_info": {
   "codemirror_mode": {
    "name": "ipython",
    "version": 3
   },
   "file_extension": ".py",
   "mimetype": "text/x-python",
   "name": "python",
   "nbconvert_exporter": "python",
   "pygments_lexer": "ipython3",
   "version": "3.10.9"
  }
 },
 "nbformat": 4,
 "nbformat_minor": 5
}
