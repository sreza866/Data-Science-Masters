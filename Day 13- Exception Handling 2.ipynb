{
 "cells": [
  {
   "cell_type": "markdown",
   "id": "98502e91",
   "metadata": {},
   "source": [
    "### List Of General Use Exceptions"
   ]
  },
  {
   "cell_type": "code",
   "execution_count": 1,
   "id": "f9bc321d",
   "metadata": {},
   "outputs": [
    {
     "name": "stdout",
     "output_type": "stream",
     "text": [
      "division by zero\n"
     ]
    }
   ],
   "source": [
    "try :\n",
    "    a = 10 \n",
    "    10/0\n",
    "except ZeroDivisionError as e :\n",
    "    print(e)"
   ]
  },
  {
   "cell_type": "code",
   "execution_count": 2,
   "id": "c6206896",
   "metadata": {},
   "outputs": [
    {
     "ename": "ValueError",
     "evalue": "invalid literal for int() with base 10: 'reza'",
     "output_type": "error",
     "traceback": [
      "\u001b[1;31m---------------------------------------------------------------------------\u001b[0m",
      "\u001b[1;31mValueError\u001b[0m                                Traceback (most recent call last)",
      "Cell \u001b[1;32mIn[2], line 2\u001b[0m\n\u001b[0;32m      1\u001b[0m \u001b[38;5;28;01mtry\u001b[39;00m:\n\u001b[1;32m----> 2\u001b[0m     \u001b[38;5;28;43mint\u001b[39;49m\u001b[43m(\u001b[49m\u001b[38;5;124;43m\"\u001b[39;49m\u001b[38;5;124;43mreza\u001b[39;49m\u001b[38;5;124;43m\"\u001b[39;49m\u001b[43m)\u001b[49m\n\u001b[0;32m      3\u001b[0m \u001b[38;5;28;01mexcept\u001b[39;00m \u001b[38;5;167;01mTypeError\u001b[39;00m \u001b[38;5;28;01mas\u001b[39;00m e:\n\u001b[0;32m      4\u001b[0m     \u001b[38;5;28mprint\u001b[39m(e)\n",
      "\u001b[1;31mValueError\u001b[0m: invalid literal for int() with base 10: 'reza'"
     ]
    }
   ],
   "source": [
    "try:\n",
    "    int(\"reza\")\n",
    "except TypeError as e:\n",
    "    print(e)"
   ]
  },
  {
   "cell_type": "code",
   "execution_count": 3,
   "id": "9a48cd13",
   "metadata": {},
   "outputs": [
    {
     "name": "stdout",
     "output_type": "stream",
     "text": [
      "No module named 'reza'\n"
     ]
    }
   ],
   "source": [
    "try:\n",
    "    import reza\n",
    "except ImportError as e:\n",
    "    print(e)"
   ]
  },
  {
   "cell_type": "code",
   "execution_count": 5,
   "id": "716532fe",
   "metadata": {},
   "outputs": [
    {
     "name": "stdout",
     "output_type": "stream",
     "text": [
      "'key10'\n"
     ]
    }
   ],
   "source": [
    "try:\n",
    "    d = {1:[3,4,5],\"key\":\"value\"}\n",
    "    d['key10']\n",
    "except KeyError as e:\n",
    "    print(e)"
   ]
  },
  {
   "cell_type": "code",
   "execution_count": 6,
   "id": "e96bb3dc",
   "metadata": {},
   "outputs": [
    {
     "name": "stdout",
     "output_type": "stream",
     "text": [
      "'str' object has no attribute 'test'\n"
     ]
    }
   ],
   "source": [
    "try :\n",
    "    \"subhan\".test()\n",
    "except AttributeError as e :\n",
    "    print(e)"
   ]
  },
  {
   "cell_type": "code",
   "execution_count": 7,
   "id": "5e07959a",
   "metadata": {},
   "outputs": [
    {
     "name": "stdout",
     "output_type": "stream",
     "text": [
      "list index out of range\n"
     ]
    }
   ],
   "source": [
    "try :\n",
    "    l = [1,2,3,3]\n",
    "    l[10]\n",
    "except IndexError as e :\n",
    "    print(e)"
   ]
  },
  {
   "cell_type": "code",
   "execution_count": 8,
   "id": "c3a6a5ce",
   "metadata": {},
   "outputs": [
    {
     "name": "stdout",
     "output_type": "stream",
     "text": [
      "unsupported operand type(s) for +: 'int' and 'str'\n"
     ]
    }
   ],
   "source": [
    "try :\n",
    "    123 + \"reza\"\n",
    "except TypeError as e :\n",
    "    print(e)"
   ]
  },
  {
   "cell_type": "code",
   "execution_count": 9,
   "id": "dd289cf5",
   "metadata": {},
   "outputs": [
    {
     "name": "stdout",
     "output_type": "stream",
     "text": [
      "[Errno 2] No such file or directory: 'assign.txt'\n"
     ]
    }
   ],
   "source": [
    "try :\n",
    "    with open(\"assign.txt\" , 'r') as f :\n",
    "        f.read()\n",
    "except FileNotFoundError as e :\n",
    "    print(e)"
   ]
  },
  {
   "cell_type": "code",
   "execution_count": 10,
   "id": "fa5a5d35",
   "metadata": {},
   "outputs": [
    {
     "name": "stdout",
     "output_type": "stream",
     "text": [
      "test  [Errno 2] No such file or directory: 'assign.txt'\n"
     ]
    }
   ],
   "source": [
    "try :\n",
    "    with open(\"assign.txt\" , 'r') as f :\n",
    "        f.read()\n",
    "except Exception as e :\n",
    "    print(\"test \" , e)\n",
    "except FileNotFoundError as e :\n",
    "    print(\"this is my file not found type error \" , e)"
   ]
  },
  {
   "cell_type": "code",
   "execution_count": 11,
   "id": "9b448e11",
   "metadata": {},
   "outputs": [
    {
     "name": "stdout",
     "output_type": "stream",
     "text": [
      "test  [Errno 2] No such file or directory: 'assign.txt'\n"
     ]
    }
   ],
   "source": [
    "def test(file):\n",
    "    try :\n",
    "        with open(file, 'r') as f :\n",
    "            f.read()\n",
    "    except Exception as e :\n",
    "        print(\"test \" , e)\n",
    "    except FileNotFoundError as e :\n",
    "        print(\"this is my file not found type error \" , e)\n",
    "test('assign.txt')"
   ]
  },
  {
   "cell_type": "code",
   "execution_count": null,
   "id": "3ab993b9",
   "metadata": {},
   "outputs": [],
   "source": [
    "# Here are some of the general-use exceptions in Python:"
   ]
  },
  {
   "cell_type": "markdown",
   "id": "7ec4b2db",
   "metadata": {},
   "source": [
    "\n",
    "- <span style=\"font-size: 0.8em;\">Exception: The base class for all built-in exceptions. It's typically not raised directly but used as a base class for other exceptions.</span>\n",
    "- <span style=\"font-size: 0.8em;\">SyntaxError: Raised when the parser encounters a syntax error in the code.</span>\n",
    "- <span style=\"font-size: 0.8em;\">IndentationError: Raised when there's incorrect indentation in the code.</span>\n",
    "- <span style=\"font-size: 0.8em;\">TypeError: Raised when an operation or function is applied to an object of an inappropriate type.</span>\n",
    "- <span style=\"font-size: 0.8em;\">ValueError: Raised when a function receives an argument of the correct type but an inappropriate value.</span>\n",
    "- <span style=\"font-size: 0.8em;\">NameError: Raised when a local or global name is not found.</span>\n",
    "- <span style=\"font-size: 0.8em;\">IndexError: Raised when a sequence subscript is out of range.</span>\n",
    "- <span style=\"font-size: 0.8em;\">KeyError: Raised when a dictionary key is not found.</span>\n",
    "- <span style=\"font-size: 0.8em;\">FileNotFoundError: Raised when a file or directory is requested but cannot be found.</span>\n",
    "- <span style=\"font-size: 0.8em;\">IOError: Base class for I/O related errors.</span>\n",
    "- <span style=\"font-size: 0.8em;\">AttributeError: Raised when an attribute reference or assignment fails.</span>\n",
    "- <span style=\"font-size: 0.8em;\">ImportError: Raised when an import statement fails to find the module definition.</span>\n",
    "\n"
   ]
  },
  {
   "cell_type": "markdown",
   "id": "61970609",
   "metadata": {},
   "source": [
    "### Best Practice Exception Handling"
   ]
  },
  {
   "cell_type": "code",
   "execution_count": 1,
   "id": "052d8310",
   "metadata": {},
   "outputs": [],
   "source": [
    "# Use always specific exception:"
   ]
  },
  {
   "cell_type": "code",
   "execution_count": 2,
   "id": "bdc4bf81",
   "metadata": {},
   "outputs": [
    {
     "name": "stdout",
     "output_type": "stream",
     "text": [
      "division by zero\n"
     ]
    }
   ],
   "source": [
    "try:\n",
    "    10/0\n",
    "except Exception as e:\n",
    "    print(e)"
   ]
  },
  {
   "cell_type": "code",
   "execution_count": 3,
   "id": "009895be",
   "metadata": {},
   "outputs": [
    {
     "name": "stdout",
     "output_type": "stream",
     "text": [
      "division by zero\n"
     ]
    }
   ],
   "source": [
    "try:\n",
    "    10/0\n",
    "except ZeroDivisionError as e:\n",
    "    print(e)"
   ]
  },
  {
   "cell_type": "code",
   "execution_count": 4,
   "id": "812c5192",
   "metadata": {},
   "outputs": [],
   "source": [
    "# Print always a valid message"
   ]
  },
  {
   "cell_type": "code",
   "execution_count": 1,
   "id": "b913f36a",
   "metadata": {},
   "outputs": [
    {
     "name": "stdout",
     "output_type": "stream",
     "text": [
      "This is my zero division error and i am handling- division by zero\n"
     ]
    }
   ],
   "source": [
    "try:\n",
    "    10/0\n",
    "except ZeroDivisionError as e:\n",
    "    print(\"This is my zero division error and i am handling-\",e)"
   ]
  },
  {
   "cell_type": "code",
   "execution_count": 9,
   "id": "85524e17",
   "metadata": {},
   "outputs": [],
   "source": [
    "# Always try to log"
   ]
  },
  {
   "cell_type": "code",
   "execution_count": 11,
   "id": "2a336699",
   "metadata": {},
   "outputs": [],
   "source": [
    "import logging \n",
    "logging.basicConfig(filename=\"error.log\", level=logging.ERROR)\n",
    "try:\n",
    "    10/0\n",
    "except ZeroDivisionError as e:\n",
    "    logging.error(\"This is my zero division error and i am handling-{}\".format(e))"
   ]
  },
  {
   "cell_type": "code",
   "execution_count": null,
   "id": "ab94a5ef",
   "metadata": {},
   "outputs": [],
   "source": [
    "# Always avoid to write a multiple exception handling "
   ]
  },
  {
   "cell_type": "code",
   "execution_count": 12,
   "id": "d5a2dd3f",
   "metadata": {},
   "outputs": [],
   "source": [
    "try :\n",
    "    10/0\n",
    "except FileNotFoundError as e : \n",
    "    logging.error(\"this is my file not found  {} \".format( e))\n",
    "except AttributeError as e : \n",
    "    logging.error(\"this is my attribute erro  {} \".format( e))\n",
    "except ZeroDivisionError as e :\n",
    "    logging.error(\"this is my zero devision error i am handling {} \".format( e))\n"
   ]
  },
  {
   "cell_type": "code",
   "execution_count": 13,
   "id": "c29b5c3f",
   "metadata": {},
   "outputs": [],
   "source": [
    "# Prepare a proper documentation"
   ]
  },
  {
   "cell_type": "code",
   "execution_count": 14,
   "id": "c770c5fc",
   "metadata": {},
   "outputs": [],
   "source": [
    "# Cleanup all the resources "
   ]
  },
  {
   "cell_type": "code",
   "execution_count": 15,
   "id": "dab0a097",
   "metadata": {},
   "outputs": [],
   "source": [
    "try:\n",
    "    with open(\"erro_handling.txt\",\"w\") as file:\n",
    "        file.write(\"This message is for this file \")\n",
    "except FileNotFoundError as e:\n",
    "    logging.error(\"This is my file not found-{}\".format(e))\n",
    "finally:\n",
    "    file.close()"
   ]
  },
  {
   "cell_type": "code",
   "execution_count": null,
   "id": "d325b512",
   "metadata": {},
   "outputs": [],
   "source": []
  }
 ],
 "metadata": {
  "kernelspec": {
   "display_name": "Python 3 (ipykernel)",
   "language": "python",
   "name": "python3"
  },
  "language_info": {
   "codemirror_mode": {
    "name": "ipython",
    "version": 3
   },
   "file_extension": ".py",
   "mimetype": "text/x-python",
   "name": "python",
   "nbconvert_exporter": "python",
   "pygments_lexer": "ipython3",
   "version": "3.10.9"
  }
 },
 "nbformat": 4,
 "nbformat_minor": 5
}
