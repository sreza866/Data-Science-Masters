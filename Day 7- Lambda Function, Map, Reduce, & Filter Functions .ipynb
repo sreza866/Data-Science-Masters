{
 "cells": [
  {
   "cell_type": "markdown",
   "id": "e4155707",
   "metadata": {},
   "source": [
    "### lambda function\n",
    "\n",
    "<span style = font-size:0.8em;>\n",
    "In Python, a lambda function is a small anonymous function defined using the lambda keyword. It can take any number of arguments, but can only have one expression. Lambda functions are often used when you need a simple function for a short period of time.<br><br>\n",
    "The syntax of a lambda function is:<br>\n",
    "    <code>lambda arguments: expression</code>\n",
    "</span>"
   ]
  },
  {
   "cell_type": "code",
   "execution_count": 1,
   "id": "dfa181d7",
   "metadata": {},
   "outputs": [],
   "source": [
    "n = 3 \n",
    "p = 2"
   ]
  },
  {
   "cell_type": "code",
   "execution_count": 2,
   "id": "46aeb851",
   "metadata": {},
   "outputs": [],
   "source": [
    "def test(n,p):\n",
    "    return n**p"
   ]
  },
  {
   "cell_type": "code",
   "execution_count": 3,
   "id": "7d8ca38c",
   "metadata": {},
   "outputs": [
    {
     "data": {
      "text/plain": [
       "9"
      ]
     },
     "execution_count": 3,
     "metadata": {},
     "output_type": "execute_result"
    }
   ],
   "source": [
    "test(3,2)"
   ]
  },
  {
   "cell_type": "code",
   "execution_count": 4,
   "id": "a12e0b0f",
   "metadata": {},
   "outputs": [
    {
     "data": {
      "text/plain": [
       "6561"
      ]
     },
     "execution_count": 4,
     "metadata": {},
     "output_type": "execute_result"
    }
   ],
   "source": [
    "test(9,4)"
   ]
  },
  {
   "cell_type": "code",
   "execution_count": 5,
   "id": "51e496e2",
   "metadata": {},
   "outputs": [],
   "source": [
    "a = lambda n,p: n**p"
   ]
  },
  {
   "cell_type": "code",
   "execution_count": 6,
   "id": "1aa71313",
   "metadata": {},
   "outputs": [
    {
     "data": {
      "text/plain": [
       "9"
      ]
     },
     "execution_count": 6,
     "metadata": {},
     "output_type": "execute_result"
    }
   ],
   "source": [
    "a(3,2)"
   ]
  },
  {
   "cell_type": "code",
   "execution_count": 7,
   "id": "2167b63a",
   "metadata": {},
   "outputs": [
    {
     "data": {
      "text/plain": [
       "6561"
      ]
     },
     "execution_count": 7,
     "metadata": {},
     "output_type": "execute_result"
    }
   ],
   "source": [
    "a(9,4)"
   ]
  },
  {
   "cell_type": "code",
   "execution_count": 8,
   "id": "38272ec8",
   "metadata": {},
   "outputs": [],
   "source": [
    "add = lambda x,y : x+y"
   ]
  },
  {
   "cell_type": "code",
   "execution_count": 9,
   "id": "a6baef0c",
   "metadata": {},
   "outputs": [
    {
     "data": {
      "text/plain": [
       "20"
      ]
     },
     "execution_count": 9,
     "metadata": {},
     "output_type": "execute_result"
    }
   ],
   "source": [
    "add(7,13)"
   ]
  },
  {
   "cell_type": "code",
   "execution_count": 10,
   "id": "5e1b7ed0",
   "metadata": {},
   "outputs": [
    {
     "data": {
      "text/plain": [
       "268"
      ]
     },
     "execution_count": 10,
     "metadata": {},
     "output_type": "execute_result"
    }
   ],
   "source": [
    "add(234,34)"
   ]
  },
  {
   "cell_type": "code",
   "execution_count": 11,
   "id": "e9be6c76",
   "metadata": {},
   "outputs": [],
   "source": [
    "max_two = lambda x,y : x if x>y else y"
   ]
  },
  {
   "cell_type": "code",
   "execution_count": 12,
   "id": "2210c268",
   "metadata": {},
   "outputs": [
    {
     "data": {
      "text/plain": [
       "998"
      ]
     },
     "execution_count": 12,
     "metadata": {},
     "output_type": "execute_result"
    }
   ],
   "source": [
    "max_two(998,765)"
   ]
  },
  {
   "cell_type": "code",
   "execution_count": 13,
   "id": "20df9053",
   "metadata": {},
   "outputs": [],
   "source": [
    "s = \"myskills\""
   ]
  },
  {
   "cell_type": "code",
   "execution_count": 14,
   "id": "19fe9175",
   "metadata": {},
   "outputs": [],
   "source": [
    "len_st = lambda s : len(s)"
   ]
  },
  {
   "cell_type": "code",
   "execution_count": 15,
   "id": "ed60501a",
   "metadata": {},
   "outputs": [
    {
     "data": {
      "text/plain": [
       "8"
      ]
     },
     "execution_count": 15,
     "metadata": {},
     "output_type": "execute_result"
    }
   ],
   "source": [
    "len_st(s)"
   ]
  },
  {
   "cell_type": "markdown",
   "id": "157c8a4c",
   "metadata": {},
   "source": [
    "### Map function\n",
    "\n",
    "<span style = font-size:0.8em;>\n",
    "In Python, the <code> map()</code> function is used to apply a given function to each item of an iterable (like a list, tuple, etc.) and returns an iterator that yields the results.<br><br>\n",
    "The syntax of a map function is:<br>\n",
    "    <code>map(function, iterable)</code><br>\n",
    "   <i> function</i>: This is a function to which each element of the iterable will be applied.<br>\n",
    "   <i> iterable<i>: This is the iterable that will be mapped.\n",
    " </span>"
   ]
  },
  {
   "cell_type": "code",
   "execution_count": 16,
   "id": "1c5d900d",
   "metadata": {},
   "outputs": [],
   "source": [
    "l = [1,2,3,4,45,5]"
   ]
  },
  {
   "cell_type": "code",
   "execution_count": 17,
   "id": "454a62dc",
   "metadata": {},
   "outputs": [],
   "source": [
    "# function to calculate square of each element in a list\n",
    "def test1(l):\n",
    "    t = []\n",
    "    for i in l:\n",
    "        t.append(i**2)\n",
    "    return t"
   ]
  },
  {
   "cell_type": "code",
   "execution_count": 18,
   "id": "acf0b167",
   "metadata": {},
   "outputs": [
    {
     "data": {
      "text/plain": [
       "[1, 4, 9, 16, 2025, 25]"
      ]
     },
     "execution_count": 18,
     "metadata": {},
     "output_type": "execute_result"
    }
   ],
   "source": [
    "test1(l)"
   ]
  },
  {
   "cell_type": "code",
   "execution_count": 19,
   "id": "c98a5c56",
   "metadata": {},
   "outputs": [],
   "source": [
    "# Now creating a simple square function\n",
    "def sq(x):\n",
    "    return x**2"
   ]
  },
  {
   "cell_type": "code",
   "execution_count": 20,
   "id": "9de1e1a6",
   "metadata": {},
   "outputs": [
    {
     "data": {
      "text/plain": [
       "[1, 4, 9, 16, 2025, 25]"
      ]
     },
     "execution_count": 20,
     "metadata": {},
     "output_type": "execute_result"
    }
   ],
   "source": [
    "# Example of using map function\n",
    "list(map(sq,l))"
   ]
  },
  {
   "cell_type": "code",
   "execution_count": 21,
   "id": "8475718b",
   "metadata": {},
   "outputs": [
    {
     "data": {
      "text/plain": [
       "[1, 4, 9, 16, 2025, 25]"
      ]
     },
     "execution_count": 21,
     "metadata": {},
     "output_type": "execute_result"
    }
   ],
   "source": [
    "# Example of a map function using lambda function\n",
    "list(map(lambda x: x**2,l))"
   ]
  },
  {
   "cell_type": "code",
   "execution_count": 22,
   "id": "249cd2e4",
   "metadata": {},
   "outputs": [
    {
     "data": {
      "text/plain": [
       "[11, 12, 13, 14, 55, 15]"
      ]
     },
     "execution_count": 22,
     "metadata": {},
     "output_type": "execute_result"
    }
   ],
   "source": [
    "list(map(lambda x: x+10,l))"
   ]
  },
  {
   "cell_type": "code",
   "execution_count": 23,
   "id": "be4aba5a",
   "metadata": {},
   "outputs": [
    {
     "data": {
      "text/plain": [
       "['1', '2', '3', '4', '45', '5']"
      ]
     },
     "execution_count": 23,
     "metadata": {},
     "output_type": "execute_result"
    }
   ],
   "source": [
    "# Example of a map function using lambda function to make each element a string in the list\n",
    "list(map(lambda x: str(x),l))"
   ]
  },
  {
   "cell_type": "code",
   "execution_count": 24,
   "id": "d9b7ae24",
   "metadata": {},
   "outputs": [],
   "source": [
    "# Example for addition of each element in both the list based on indices\n",
    "l1 = [1,2,3,4,5]\n",
    "l2 = [6,7,8,9,10]"
   ]
  },
  {
   "cell_type": "code",
   "execution_count": 25,
   "id": "c0319da2",
   "metadata": {},
   "outputs": [
    {
     "data": {
      "text/plain": [
       "[7, 9, 11, 13, 15]"
      ]
     },
     "execution_count": 25,
     "metadata": {},
     "output_type": "execute_result"
    }
   ],
   "source": [
    "list(map(lambda x,y: x+y,l1,l2))"
   ]
  },
  {
   "cell_type": "code",
   "execution_count": 26,
   "id": "23f53115",
   "metadata": {},
   "outputs": [],
   "source": [
    "f = lambda x,y: x+y"
   ]
  },
  {
   "cell_type": "code",
   "execution_count": 27,
   "id": "8e8d9df4",
   "metadata": {},
   "outputs": [
    {
     "data": {
      "text/plain": [
       "[7, 9, 11, 13, 15]"
      ]
     },
     "execution_count": 27,
     "metadata": {},
     "output_type": "execute_result"
    }
   ],
   "source": [
    "list(map(f,l1,l2))"
   ]
  },
  {
   "cell_type": "code",
   "execution_count": 28,
   "id": "47985e20",
   "metadata": {},
   "outputs": [],
   "source": [
    "#Example for making each element in a string to upper case\n",
    "s = 'myskills'"
   ]
  },
  {
   "cell_type": "code",
   "execution_count": 29,
   "id": "1ada5c41",
   "metadata": {},
   "outputs": [
    {
     "data": {
      "text/plain": [
       "['M', 'Y', 'S', 'K', 'I', 'L', 'L', 'S']"
      ]
     },
     "execution_count": 29,
     "metadata": {},
     "output_type": "execute_result"
    }
   ],
   "source": [
    "list(map(lambda x: x.upper(),s))"
   ]
  },
  {
   "cell_type": "markdown",
   "id": "f1efd5d2",
   "metadata": {},
   "source": [
    "### Reduce function<br>\n",
    "<span style = font-size:0.8em;>\n",
    "In Python, the <code>reduce()</code> function is part of the <code>functools</code> module is used to perform a specific operation (defined by a function) on a list of items and get a single result.<br>\n",
    "\n",
    "Working :  \n",
    "<ul>\n",
    "    <li>\n",
    "        At first step, first two elements of sequence are picked and the result is obtained.\n",
    "   </li>\n",
    "\n",
    " <li>\n",
    "    Next step is to apply the same function to the previously attained result and the number just succeeding the second element and the result is again stored.\n",
    " </li>\n",
    "    <li>\n",
    "    This process continues till no more elements are left in the container.\n",
    "   </li>\n",
    "    <li>\n",
    "    The final returned result is returned and printed on console.\n",
    "   </li>\n",
    "</ul>\n",
    "    \n",
    "The syntax of a map function is:<br>\n",
    "```python\n",
    "from functools import reduce\n",
    "result = reduce(function, iterable, initial)\n",
    "```\n",
    "*function*: This is the function that will be applied to the elements. It should take two arguments.\n",
    "\n",
    "*iterable*: This is the iterable to be reduced.\n",
    "\n",
    "*initial (optional)*: This is the initial value, which is used as the first argument to the function.\n",
    "\n",
    "\n",
    "</span>\n"
   ]
  },
  {
   "cell_type": "code",
   "execution_count": 30,
   "id": "c94d8a40",
   "metadata": {},
   "outputs": [],
   "source": [
    "from functools import  reduce"
   ]
  },
  {
   "cell_type": "code",
   "execution_count": 31,
   "id": "62ca09a2",
   "metadata": {},
   "outputs": [],
   "source": [
    "l = [1,2,3,4,5,4]"
   ]
  },
  {
   "cell_type": "code",
   "execution_count": 32,
   "id": "b6baf1ae",
   "metadata": {},
   "outputs": [
    {
     "data": {
      "text/plain": [
       "19"
      ]
     },
     "execution_count": 32,
     "metadata": {},
     "output_type": "execute_result"
    }
   ],
   "source": [
    "reduce(lambda x,y: x+y,l)"
   ]
  },
  {
   "cell_type": "code",
   "execution_count": 33,
   "id": "2767a1c5",
   "metadata": {},
   "outputs": [],
   "source": [
    "def add(x,y):\n",
    "    return x+y"
   ]
  },
  {
   "cell_type": "code",
   "execution_count": 34,
   "id": "0208382d",
   "metadata": {},
   "outputs": [
    {
     "data": {
      "text/plain": [
       "19"
      ]
     },
     "execution_count": 34,
     "metadata": {},
     "output_type": "execute_result"
    }
   ],
   "source": [
    "reduce(add,l)"
   ]
  },
  {
   "cell_type": "code",
   "execution_count": 35,
   "id": "ac006f06",
   "metadata": {},
   "outputs": [],
   "source": [
    "# reduce(lambda x , y , z : x+y+z , l)\n",
    "# Cell In[42], line 1\n",
    "# ----> 1 reduce(lambda x , y , z : x+y+z , l)\n",
    "\n",
    "# TypeError: <lambda>() missing 1 required positional argument: 'z'"
   ]
  },
  {
   "cell_type": "code",
   "execution_count": 36,
   "id": "b6ce2955",
   "metadata": {},
   "outputs": [
    {
     "data": {
      "text/plain": [
       "[1, 2, 3, 4, 5, 4]"
      ]
     },
     "execution_count": 36,
     "metadata": {},
     "output_type": "execute_result"
    }
   ],
   "source": [
    "l"
   ]
  },
  {
   "cell_type": "code",
   "execution_count": 37,
   "id": "d2029eee",
   "metadata": {},
   "outputs": [],
   "source": [
    "# reduce(lambda x , y : x+y , [])\n",
    "# Cell In[45], line 1\n",
    "# ----> 1 reduce(lambda x , y : x+y , [])\n",
    "\n",
    "# TypeError: reduce() of empty iterable with no initial value"
   ]
  },
  {
   "cell_type": "code",
   "execution_count": 38,
   "id": "81460e98",
   "metadata": {},
   "outputs": [
    {
     "data": {
      "text/plain": [
       "1"
      ]
     },
     "execution_count": 38,
     "metadata": {},
     "output_type": "execute_result"
    }
   ],
   "source": [
    "reduce(lambda x , y : x+y , [1])"
   ]
  },
  {
   "cell_type": "code",
   "execution_count": 39,
   "id": "5d097625",
   "metadata": {},
   "outputs": [
    {
     "data": {
      "text/plain": [
       "[1, 2, 3, 4, 5, 4]"
      ]
     },
     "execution_count": 39,
     "metadata": {},
     "output_type": "execute_result"
    }
   ],
   "source": [
    "l"
   ]
  },
  {
   "cell_type": "code",
   "execution_count": 40,
   "id": "80297d1f",
   "metadata": {},
   "outputs": [
    {
     "data": {
      "text/plain": [
       "1"
      ]
     },
     "execution_count": 40,
     "metadata": {},
     "output_type": "execute_result"
    }
   ],
   "source": [
    "reduce(lambda x , y : x*y , [1])"
   ]
  },
  {
   "cell_type": "code",
   "execution_count": 41,
   "id": "11d349a5",
   "metadata": {},
   "outputs": [
    {
     "data": {
      "text/plain": [
       "5"
      ]
     },
     "execution_count": 41,
     "metadata": {},
     "output_type": "execute_result"
    }
   ],
   "source": [
    "reduce(lambda x,y : x if x> y else y , l)"
   ]
  },
  {
   "cell_type": "markdown",
   "id": "b8ae83b0",
   "metadata": {},
   "source": [
    "### Filter function\n",
    "<span style = font-size:0.8em;>\n",
    "In Python, the <code>filter()</code> function is used to filter elements from an iterable (such as a list, tuple, etc.) based on a specified condition. It takes two arguments:<br>\n",
    "The syntax of a map function is:\n",
    "\n",
    "`filter(function, iterable)` <br>\n",
    "*function*: This is a function that takes a single argument and returns True or False based on whether the element should be included in the filtered result.<br>\n",
    "\n",
    "*iterable*: This is the iterable containing the elements to be filtered.\n",
    "\n",
    "The `filter()` function then returns an iterator containing the elements from the iterable for which the function returns True\n",
    "</span>"
   ]
  },
  {
   "cell_type": "code",
   "execution_count": 42,
   "id": "ce7ae9d2",
   "metadata": {},
   "outputs": [
    {
     "data": {
      "text/plain": [
       "[1, 2, 3, 4, 5, 4]"
      ]
     },
     "execution_count": 42,
     "metadata": {},
     "output_type": "execute_result"
    }
   ],
   "source": [
    "l"
   ]
  },
  {
   "cell_type": "code",
   "execution_count": 43,
   "id": "63c82be1",
   "metadata": {},
   "outputs": [
    {
     "data": {
      "text/plain": [
       "[2, 4, 4]"
      ]
     },
     "execution_count": 43,
     "metadata": {},
     "output_type": "execute_result"
    }
   ],
   "source": [
    "list(filter(lambda x : x % 2 ==0 , l))  # filtering even elements"
   ]
  },
  {
   "cell_type": "code",
   "execution_count": 44,
   "id": "0c8e10da",
   "metadata": {},
   "outputs": [
    {
     "data": {
      "text/plain": [
       "[1, 3, 5]"
      ]
     },
     "execution_count": 44,
     "metadata": {},
     "output_type": "execute_result"
    }
   ],
   "source": [
    "list(filter(lambda x : x % 2 !=0 , l))  # filtering odd elements"
   ]
  },
  {
   "cell_type": "code",
   "execution_count": 45,
   "id": "bafe5f38",
   "metadata": {},
   "outputs": [],
   "source": [
    "l1 = [-2,4,5,6,-3,-6,-7]"
   ]
  },
  {
   "cell_type": "code",
   "execution_count": 46,
   "id": "1f8eda68",
   "metadata": {},
   "outputs": [
    {
     "data": {
      "text/plain": [
       "[-2, -3, -6, -7]"
      ]
     },
     "execution_count": 46,
     "metadata": {},
     "output_type": "execute_result"
    }
   ],
   "source": [
    "list(filter(lambda x : x<0 , l1))  # filtering negative elements"
   ]
  },
  {
   "cell_type": "code",
   "execution_count": 47,
   "id": "ab207113",
   "metadata": {},
   "outputs": [
    {
     "data": {
      "text/plain": [
       "[4, 5, 6]"
      ]
     },
     "execution_count": 47,
     "metadata": {},
     "output_type": "execute_result"
    }
   ],
   "source": [
    "list(filter(lambda x : x>=0 , l1))  # filtering positive elements"
   ]
  },
  {
   "cell_type": "code",
   "execution_count": 48,
   "id": "bf463a46",
   "metadata": {},
   "outputs": [],
   "source": [
    "l2 = [\"subhan\" , \"skill\" , \"reza\" , \"bangalore\" , \"delhi\"] "
   ]
  },
  {
   "cell_type": "code",
   "execution_count": 49,
   "id": "76b60fb5",
   "metadata": {},
   "outputs": [
    {
     "data": {
      "text/plain": [
       "['skill', 'reza', 'delhi']"
      ]
     },
     "execution_count": 49,
     "metadata": {},
     "output_type": "execute_result"
    }
   ],
   "source": [
    "list(filter(lambda x: len(x)<6,l2)) # filtering string having length less than 6"
   ]
  },
  {
   "cell_type": "code",
   "execution_count": null,
   "id": "b984037c",
   "metadata": {},
   "outputs": [],
   "source": []
  }
 ],
 "metadata": {
  "kernelspec": {
   "display_name": "Python 3 (ipykernel)",
   "language": "python",
   "name": "python3"
  },
  "language_info": {
   "codemirror_mode": {
    "name": "ipython",
    "version": 3
   },
   "file_extension": ".py",
   "mimetype": "text/x-python",
   "name": "python",
   "nbconvert_exporter": "python",
   "pygments_lexer": "ipython3",
   "version": "3.10.9"
  }
 },
 "nbformat": 4,
 "nbformat_minor": 5
}
