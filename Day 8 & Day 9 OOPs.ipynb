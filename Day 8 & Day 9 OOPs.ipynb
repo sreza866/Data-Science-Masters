{
 "cells": [
  {
   "cell_type": "markdown",
   "id": "cc1b4fd0",
   "metadata": {},
   "source": [
    "### OOPS"
   ]
  },
  {
   "cell_type": "markdown",
   "id": "c2a798e7",
   "metadata": {},
   "source": [
    "<span style = font-size:0.8em;>\n",
    "In Python, object-oriented Programming (OOPs) is a programming paradigm that uses objects and classes in programming. It aims to implement real-world entities like inheritance, polymorphisms, encapsulation, etc. in the programming. The main concept of OOPs is to bind the data and the functions that work on that together as a single unit so that no other part of the code can access this data.<br>\n",
    "<b>Python Class</b><br> \n",
    "A class is a collection of objects. A class contains the blueprints or the prototype from which the objects are being created. It is a logical entity that contains some attributes and methods.<br>\n",
    "\n",
    "\n",
    "<b>Python Object</b><br> \n",
    "The object is an entity that has a state and behavior associated with it. It may be any real-world object like a mouse, keyboard, chair, table, pen, etc. Integers, strings, floating-point numbers, even arrays, and dictionaries, are all objects <br>\n",
    "</span>"
   ]
  },
  {
   "cell_type": "code",
   "execution_count": 1,
   "id": "7ed1ddfd",
   "metadata": {},
   "outputs": [],
   "source": [
    "a = 1"
   ]
  },
  {
   "cell_type": "code",
   "execution_count": 4,
   "id": "62f8f381",
   "metadata": {},
   "outputs": [
    {
     "name": "stdout",
     "output_type": "stream",
     "text": [
      "<class 'int'>\n"
     ]
    }
   ],
   "source": [
    "print(type(a))"
   ]
  },
  {
   "cell_type": "code",
   "execution_count": 5,
   "id": "3d9377bb",
   "metadata": {},
   "outputs": [
    {
     "name": "stdout",
     "output_type": "stream",
     "text": [
      "<class 'str'>\n"
     ]
    }
   ],
   "source": [
    "print(type(\"myskills\"))"
   ]
  },
  {
   "cell_type": "code",
   "execution_count": 6,
   "id": "b261acb2",
   "metadata": {},
   "outputs": [],
   "source": [
    "class test:\n",
    "    pass"
   ]
  },
  {
   "cell_type": "code",
   "execution_count": 7,
   "id": "474407c9",
   "metadata": {},
   "outputs": [],
   "source": [
    "a = test()"
   ]
  },
  {
   "cell_type": "code",
   "execution_count": 8,
   "id": "4f58fe30",
   "metadata": {},
   "outputs": [
    {
     "name": "stdout",
     "output_type": "stream",
     "text": [
      "<class '__main__.test'>\n"
     ]
    }
   ],
   "source": [
    "print(type(a))"
   ]
  },
  {
   "cell_type": "code",
   "execution_count": 9,
   "id": "6f38b00e",
   "metadata": {},
   "outputs": [],
   "source": [
    "class myskills():\n",
    "    def welcome_msg(self):\n",
    "        print(\"Welcome to myskills \")"
   ]
  },
  {
   "cell_type": "code",
   "execution_count": 10,
   "id": "01fdb9a7",
   "metadata": {},
   "outputs": [],
   "source": [
    "rohan = myskills()"
   ]
  },
  {
   "cell_type": "code",
   "execution_count": 11,
   "id": "99567f41",
   "metadata": {},
   "outputs": [
    {
     "name": "stdout",
     "output_type": "stream",
     "text": [
      "Welcome to myskills \n"
     ]
    }
   ],
   "source": [
    "rohan.welcome_msg()"
   ]
  },
  {
   "cell_type": "code",
   "execution_count": 12,
   "id": "3f0bafe7",
   "metadata": {},
   "outputs": [],
   "source": [
    "sohan = myskills()"
   ]
  },
  {
   "cell_type": "code",
   "execution_count": 13,
   "id": "89551d55",
   "metadata": {},
   "outputs": [
    {
     "name": "stdout",
     "output_type": "stream",
     "text": [
      "Welcome to myskills \n"
     ]
    }
   ],
   "source": [
    "sohan.welcome_msg()"
   ]
  },
  {
   "cell_type": "markdown",
   "id": "dd99b236",
   "metadata": {},
   "source": [
    "### Polymorphism"
   ]
  },
  {
   "cell_type": "markdown",
   "id": "469381e3",
   "metadata": {},
   "source": [
    "<span style = 'font-size:0.8em;'>\n",
    "The word polymorphism means having many forms. In Python, polymorphism means the same function name (but different signatures) being used for different types. The key difference is the data types and number of arguments used in function.\n",
    "This implies that methods,functions or operators with the same name that can be executed on many objects or classes.\n",
    "</span>\n",
    "\n"
   ]
  },
  {
   "cell_type": "code",
   "execution_count": 3,
   "id": "764384ed",
   "metadata": {},
   "outputs": [],
   "source": [
    "def test(a,b):\n",
    "    return a+b"
   ]
  },
  {
   "cell_type": "code",
   "execution_count": 4,
   "id": "da9243c4",
   "metadata": {},
   "outputs": [
    {
     "data": {
      "text/plain": [
       "9"
      ]
     },
     "execution_count": 4,
     "metadata": {},
     "output_type": "execute_result"
    }
   ],
   "source": [
    "test(4,5)"
   ]
  },
  {
   "cell_type": "code",
   "execution_count": 6,
   "id": "30b4256c",
   "metadata": {},
   "outputs": [
    {
     "data": {
      "text/plain": [
       "'subhan reza'"
      ]
     },
     "execution_count": 6,
     "metadata": {},
     "output_type": "execute_result"
    }
   ],
   "source": [
    "test('subhan ','reza')"
   ]
  },
  {
   "cell_type": "code",
   "execution_count": 7,
   "id": "fb4c0931",
   "metadata": {},
   "outputs": [
    {
     "data": {
      "text/plain": [
       "[2, 3, 4, 5, 5, 4, 5, 6, 7]"
      ]
     },
     "execution_count": 7,
     "metadata": {},
     "output_type": "execute_result"
    }
   ],
   "source": [
    "test([2,3,4,5,5] , [4,5,6,7])"
   ]
  },
  {
   "cell_type": "code",
   "execution_count": null,
   "id": "d57149c6",
   "metadata": {},
   "outputs": [],
   "source": [
    "# Example 1 of polymorphism"
   ]
  },
  {
   "cell_type": "code",
   "execution_count": 8,
   "id": "a96ccf35",
   "metadata": {},
   "outputs": [],
   "source": [
    "class data_science:\n",
    "    def syllabus(self):\n",
    "        print(\"This is method for data science syllabus\")"
   ]
  },
  {
   "cell_type": "code",
   "execution_count": 10,
   "id": "17cbbe2a",
   "metadata": {},
   "outputs": [],
   "source": [
    "class web_dev:\n",
    "    def syllabus(self):\n",
    "        print(\"This is method for web dev syllabus\")"
   ]
  },
  {
   "cell_type": "code",
   "execution_count": 16,
   "id": "75f68002",
   "metadata": {},
   "outputs": [],
   "source": [
    "def class_parser(class_obj):\n",
    "    for i in class_obj:\n",
    "        i.syllabus()"
   ]
  },
  {
   "cell_type": "code",
   "execution_count": 17,
   "id": "869fa3aa",
   "metadata": {},
   "outputs": [],
   "source": [
    "obj_data_science = data_science()"
   ]
  },
  {
   "cell_type": "code",
   "execution_count": 18,
   "id": "0957d1f9",
   "metadata": {},
   "outputs": [],
   "source": [
    "obj_web_dev = web_dev()"
   ]
  },
  {
   "cell_type": "code",
   "execution_count": 19,
   "id": "ee4d3fe7",
   "metadata": {},
   "outputs": [],
   "source": [
    "class_obj = [obj_data_science,obj_web_dev]"
   ]
  },
  {
   "cell_type": "code",
   "execution_count": 20,
   "id": "f2a28191",
   "metadata": {},
   "outputs": [
    {
     "name": "stdout",
     "output_type": "stream",
     "text": [
      "This is method for data science syllabus\n",
      "This is method for web dev syllabus\n"
     ]
    }
   ],
   "source": [
    "class_parser(class_obj)"
   ]
  },
  {
   "cell_type": "code",
   "execution_count": 21,
   "id": "23973672",
   "metadata": {},
   "outputs": [],
   "source": [
    "# Example 2 of polymorphism\n",
    "class Animal:\n",
    "    def make_sound(self):\n",
    "        print(\"Generic animal sound\")"
   ]
  },
  {
   "cell_type": "code",
   "execution_count": 22,
   "id": "b36a44bb",
   "metadata": {},
   "outputs": [],
   "source": [
    "class Dog(Animal):\n",
    "    def make_sound(self):\n",
    "        print(\"Bark\")"
   ]
  },
  {
   "cell_type": "code",
   "execution_count": 23,
   "id": "b5ecb4f8",
   "metadata": {},
   "outputs": [],
   "source": [
    "class Cat(Animal):\n",
    "    def make_sound(self):\n",
    "        print(\"Meow\")"
   ]
  },
  {
   "cell_type": "code",
   "execution_count": 24,
   "id": "66ffa54b",
   "metadata": {},
   "outputs": [
    {
     "name": "stdout",
     "output_type": "stream",
     "text": [
      "Generic animal sound\n",
      "Bark\n",
      "Meow\n"
     ]
    }
   ],
   "source": [
    "# In this example, make_sound() method is overridden in subclasses Dog and C\n",
    "#  providing specific implementations for each subclass, while still inheriting \n",
    "# from the common superclass Animal.\n",
    "\n",
    "animal = Animal()\n",
    "dog = Dog()\n",
    "cat = Cat()  \n",
    "\n",
    "animal.make_sound()  \n",
    "dog.make_sound()     \n",
    "cat.make_sound()     "
   ]
  },
  {
   "cell_type": "markdown",
   "id": "1125ccee",
   "metadata": {},
   "source": [
    "### Encapsulation"
   ]
  },
  {
   "cell_type": "markdown",
   "id": "a1f0ee38",
   "metadata": {},
   "source": [
    "<span style = 'font-size:0.8em;'>\n",
    "Encapsulation in Python is a concept where the data (attributes) and methods (functions) that operate on the data are bundled together within a class, thus hiding the internal implementation details of an object from the outside world. It enables the creation of objects with well-defined interfaces that provide controlled access to their data, preventing direct modification from external code.\n",
    "</span>"
   ]
  },
  {
   "cell_type": "code",
   "execution_count": 27,
   "id": "deb90e8d",
   "metadata": {},
   "outputs": [],
   "source": [
    "class test:\n",
    "    def __init__(self,a,b):\n",
    "        self.a = a\n",
    "        self.b = b\n",
    "    "
   ]
  },
  {
   "cell_type": "code",
   "execution_count": 32,
   "id": "f43a9e37",
   "metadata": {},
   "outputs": [],
   "source": [
    "t = test(45,34)"
   ]
  },
  {
   "cell_type": "code",
   "execution_count": 33,
   "id": "513d867b",
   "metadata": {},
   "outputs": [
    {
     "data": {
      "text/plain": [
       "45"
      ]
     },
     "execution_count": 33,
     "metadata": {},
     "output_type": "execute_result"
    }
   ],
   "source": [
    "t.a"
   ]
  },
  {
   "cell_type": "code",
   "execution_count": 34,
   "id": "6281e663",
   "metadata": {},
   "outputs": [
    {
     "data": {
      "text/plain": [
       "34"
      ]
     },
     "execution_count": 34,
     "metadata": {},
     "output_type": "execute_result"
    }
   ],
   "source": [
    "t.b"
   ]
  },
  {
   "cell_type": "code",
   "execution_count": 35,
   "id": "168552de",
   "metadata": {},
   "outputs": [],
   "source": [
    "t.b = 567"
   ]
  },
  {
   "cell_type": "code",
   "execution_count": 36,
   "id": "4a8254ab",
   "metadata": {},
   "outputs": [
    {
     "data": {
      "text/plain": [
       "567"
      ]
     },
     "execution_count": 36,
     "metadata": {},
     "output_type": "execute_result"
    }
   ],
   "source": [
    "t.b"
   ]
  },
  {
   "cell_type": "code",
   "execution_count": 37,
   "id": "060fb309",
   "metadata": {},
   "outputs": [],
   "source": [
    "# Example 1 of Encapsulation\n",
    "class car:\n",
    "    def __init__(self,year,make,model,speed):\n",
    "        self.__year = year\n",
    "        self.__make = make\n",
    "        self.__model = model\n",
    "        self.__speed = 0\n",
    "        \n",
    "    def set_speed(self,speed):\n",
    "        self.__speed = 0 if speed<0 else speed\n",
    "    \n",
    "    def get_speed(self):\n",
    "        return self.__speed"
   ]
  },
  {
   "cell_type": "code",
   "execution_count": 47,
   "id": "0e4a10f4",
   "metadata": {},
   "outputs": [],
   "source": [
    "obj_car = car(1969,'Ford','Mustang boss',20)"
   ]
  },
  {
   "cell_type": "code",
   "execution_count": 48,
   "id": "1859c956",
   "metadata": {},
   "outputs": [],
   "source": [
    "# obj_car.__model\n",
    "# ---------------------------------------------------------------------------\n",
    "# AttributeError                            Traceback (most recent call last)\n",
    "# Cell In[43], line 1\n",
    "# ----> 1 obj_car.__model\n",
    "\n",
    "# AttributeError: 'car' object has no attribute '__model'"
   ]
  },
  {
   "cell_type": "code",
   "execution_count": 49,
   "id": "d15e6c2b",
   "metadata": {},
   "outputs": [
    {
     "data": {
      "text/plain": [
       "'Mustang boss'"
      ]
     },
     "execution_count": 49,
     "metadata": {},
     "output_type": "execute_result"
    }
   ],
   "source": [
    "obj_car._car__model    # for member inside the class"
   ]
  },
  {
   "cell_type": "code",
   "execution_count": 50,
   "id": "e98baae4",
   "metadata": {},
   "outputs": [],
   "source": [
    "obj_car.set_speed(234)"
   ]
  },
  {
   "cell_type": "code",
   "execution_count": 52,
   "id": "5a9e8217",
   "metadata": {},
   "outputs": [
    {
     "data": {
      "text/plain": [
       "234"
      ]
     },
     "execution_count": 52,
     "metadata": {},
     "output_type": "execute_result"
    }
   ],
   "source": [
    "obj_car._car__speed  # for member inside the class"
   ]
  },
  {
   "cell_type": "code",
   "execution_count": 53,
   "id": "a07107c0",
   "metadata": {},
   "outputs": [
    {
     "data": {
      "text/plain": [
       "234"
      ]
     },
     "execution_count": 53,
     "metadata": {},
     "output_type": "execute_result"
    }
   ],
   "source": [
    "obj_car.get_speed() # for memeber outside the class"
   ]
  },
  {
   "cell_type": "code",
   "execution_count": 86,
   "id": "a2d70732",
   "metadata": {},
   "outputs": [],
   "source": [
    "# Example 2 of Encapsulation\n",
    "class bank_account:\n",
    "    def __init__(self,balance = 0):\n",
    "        self.__balance = balance\n",
    "    \n",
    "    def deposit(self,amount):\n",
    "        self.__balance = self.__balance + amount\n",
    "        \n",
    "    def withdraw(self,amount):\n",
    "        if self.__balance>=amount:\n",
    "            self.__balance = self.__balance - amount\n",
    "            return True\n",
    "        else:\n",
    "            return False\n",
    "    def get_balance(self):\n",
    "        return self.__balance\n",
    "    "
   ]
  },
  {
   "cell_type": "code",
   "execution_count": 87,
   "id": "5c722e06",
   "metadata": {},
   "outputs": [],
   "source": [
    "obj_bank_account = bank_account(1000)"
   ]
  },
  {
   "cell_type": "code",
   "execution_count": 88,
   "id": "7b44fa90",
   "metadata": {},
   "outputs": [
    {
     "data": {
      "text/plain": [
       "1000"
      ]
     },
     "execution_count": 88,
     "metadata": {},
     "output_type": "execute_result"
    }
   ],
   "source": [
    "obj_bank_account.get_balance()"
   ]
  },
  {
   "cell_type": "code",
   "execution_count": 89,
   "id": "5203a904",
   "metadata": {},
   "outputs": [],
   "source": [
    "obj_bank_account.deposit(6000)"
   ]
  },
  {
   "cell_type": "code",
   "execution_count": 90,
   "id": "3e8e5ff5",
   "metadata": {},
   "outputs": [
    {
     "data": {
      "text/plain": [
       "7000"
      ]
     },
     "execution_count": 90,
     "metadata": {},
     "output_type": "execute_result"
    }
   ],
   "source": [
    "obj_bank_account.get_balance()"
   ]
  },
  {
   "cell_type": "code",
   "execution_count": 91,
   "id": "b644b79c",
   "metadata": {},
   "outputs": [
    {
     "data": {
      "text/plain": [
       "False"
      ]
     },
     "execution_count": 91,
     "metadata": {},
     "output_type": "execute_result"
    }
   ],
   "source": [
    "obj_bank_account.withdraw(10000)"
   ]
  },
  {
   "cell_type": "code",
   "execution_count": 92,
   "id": "cf96e76f",
   "metadata": {},
   "outputs": [
    {
     "data": {
      "text/plain": [
       "True"
      ]
     },
     "execution_count": 92,
     "metadata": {},
     "output_type": "execute_result"
    }
   ],
   "source": [
    "obj_bank_account.withdraw(2000)"
   ]
  },
  {
   "cell_type": "code",
   "execution_count": 93,
   "id": "641204e9",
   "metadata": {},
   "outputs": [
    {
     "data": {
      "text/plain": [
       "5000"
      ]
     },
     "execution_count": 93,
     "metadata": {},
     "output_type": "execute_result"
    }
   ],
   "source": [
    "obj_bank_account.get_balance()"
   ]
  },
  {
   "cell_type": "markdown",
   "id": "813aac04",
   "metadata": {},
   "source": [
    "### Inheritance"
   ]
  },
  {
   "cell_type": "markdown",
   "id": "f255f413",
   "metadata": {},
   "source": [
    "<span style = 'font-size:0.8em;'>\n",
    "Inheritance is a fundamental concept in object-oriented programming (OOP), including Python. It allows a class (subclass) to inherit attributes and methods from another class (superclass or base class), enabling code reuse and creating a hierarchical relationship between classes.\n",
    "\n",
    "In Python, inheritance is implemented by specifying the superclass(es) inside parentheses after the subclass name when defining the subclass. Here's a basic example:\n",
    "</span>"
   ]
  },
  {
   "cell_type": "code",
   "execution_count": 95,
   "id": "b792be8b",
   "metadata": {},
   "outputs": [
    {
     "name": "stdout",
     "output_type": "stream",
     "text": [
      "This a method of parent class\n"
     ]
    }
   ],
   "source": [
    "# Example 1 of Inheritance\n",
    "class parent:\n",
    "    def test_parent(self):\n",
    "        print(\"This a method of parent class\")\n",
    "class child(parent):\n",
    "    pass \n",
    "\n",
    "obj_child = child()\n",
    "obj_child.test_parent()\n"
   ]
  },
  {
   "cell_type": "markdown",
   "id": "34d3dbca",
   "metadata": {},
   "source": [
    "<span style = 'font-size:0.8em;'>\n",
    "There are several types of inheritance:<br>\n",
    "    1. <b>Single Inheritance:</b> A subclass inherits from only one superclass, forming a linear hierarchy.<br>\n",
    "    2. <b>Multiple Inheritance:</b> A subclass inherits from multiple superclasses, combining attributes and methods from all parent classes.<br>\n",
    "    3. <b>Multi-level Inheritance:</b> A subclass inherits from another subclass, creating a hierarchy of classes.<br>\n",
    "    4. <b>Hierarchical Inheritance:</b> Multiple subclasses inherit from a single superclass, forming a branching hierarchy.   <br>\n",
    "    5. <b>Hybrid Inheritance:</b> Combination of multiple and hierarchical inheritance where a subclass inherits from multiple superclasses as well as from a common superclass. <br>\n",
    "</span>"
   ]
  },
  {
   "cell_type": "code",
   "execution_count": 96,
   "id": "6bcd0e39",
   "metadata": {},
   "outputs": [
    {
     "name": "stdout",
     "output_type": "stream",
     "text": [
      "Animal speaks\n",
      "Dog barks\n"
     ]
    }
   ],
   "source": [
    "# 1. Single Inheritance: A subclass inherits from only one superclass.\n",
    "class Animal:\n",
    "    def speak(self):\n",
    "        print('Animal speaks')\n",
    "    \n",
    "class Dog(Animal):\n",
    "    def bark(self):\n",
    "        print(\"Dog barks\")\n",
    "# Creating an instance of Dog class\n",
    "my_dog = Dog()\n",
    "my_dog.speak()  \n",
    "my_dog.bark()  "
   ]
  },
  {
   "cell_type": "code",
   "execution_count": 97,
   "id": "bdd736f3",
   "metadata": {},
   "outputs": [
    {
     "name": "stdout",
     "output_type": "stream",
     "text": [
      "method A\n",
      "method B\n",
      "method C\n"
     ]
    }
   ],
   "source": [
    "# 2. Multiple Inheritance: A subclass inherits from multiple superclasses.\n",
    "class A:\n",
    "    def method_A(self):\n",
    "        print('method A')\n",
    "        \n",
    "class B:\n",
    "    def method_B(self):\n",
    "        print('method B')\n",
    "        \n",
    "class C(A,B):            # C inherits from both A and B\n",
    "    def method_C(self):\n",
    "        print('method C')\n",
    "\n",
    "# Creating an instance of C class\n",
    "obj_c = C()\n",
    "obj_c.method_A()  \n",
    "obj_c.method_B()  \n",
    "obj_c.method_C()  "
   ]
  },
  {
   "cell_type": "code",
   "execution_count": 98,
   "id": "918c137f",
   "metadata": {},
   "outputs": [
    {
     "name": "stdout",
     "output_type": "stream",
     "text": [
      "Method A\n",
      "Method B\n",
      "Method C\n"
     ]
    }
   ],
   "source": [
    "# 3. Multilevel Inheritance: A subclass inherits from another subclass.\n",
    "class A:\n",
    "    def method_A(self):\n",
    "        print(\"Method A\")\n",
    "\n",
    "class B(A):\n",
    "    def method_B(self):\n",
    "        print(\"Method B\")\n",
    "\n",
    "class C(B):  # C inherits from B\n",
    "    def method_C(self):\n",
    "        print(\"Method C\")\n",
    "\n",
    "# Creating an instance of C class\n",
    "obj_c = C()\n",
    "obj_c.method_A()  \n",
    "obj_c.method_B()  \n",
    "obj_c.method_C()  \n"
   ]
  },
  {
   "cell_type": "code",
   "execution_count": 99,
   "id": "2de01a2f",
   "metadata": {},
   "outputs": [
    {
     "name": "stdout",
     "output_type": "stream",
     "text": [
      "Animal speaks\n",
      "Dog barks\n",
      "Animal speaks\n",
      "Cat meows\n"
     ]
    }
   ],
   "source": [
    "# 4. Hierarchical Inheritance: Multiple subclasses inherit from a single superclass.\n",
    "class Animal:\n",
    "    def speak(self):\n",
    "        print(\"Animal speaks\")\n",
    "\n",
    "class Dog(Animal):\n",
    "    def bark(self):\n",
    "        print(\"Dog barks\")\n",
    "\n",
    "class Cat(Animal):\n",
    "    def meow(self):\n",
    "        print(\"Cat meows\")\n",
    "\n",
    "# Creating instances of Dog and Cat classes\n",
    "my_dog = Dog()\n",
    "my_cat = Cat()\n",
    "my_dog.speak()  # Dog object accessing animalm properties\n",
    "my_dog.bark()   \n",
    "my_cat.speak()  # Cat object accessing animalm properties \n",
    "my_cat.meow()   \n"
   ]
  },
  {
   "cell_type": "code",
   "execution_count": 100,
   "id": "c65aab1c",
   "metadata": {},
   "outputs": [
    {
     "name": "stdout",
     "output_type": "stream",
     "text": [
      "Method A from class A\n",
      "Method B from class B\n",
      "Method C from class C\n",
      "Method D from class D\n"
     ]
    }
   ],
   "source": [
    "# 5. Hybrid Inheritance: Combination of multiple and hierarchical inheritance\n",
    "class A:\n",
    "    def method_A(self):\n",
    "        print(\"Method A from class A\")\n",
    "\n",
    "class B(A):\n",
    "    def method_B(self):\n",
    "        print(\"Method B from class B\")\n",
    "\n",
    "class C(A):\n",
    "    def method_C(self):\n",
    "        print(\"Method C from class C\")\n",
    "\n",
    "class D(B, C):\n",
    "    def method_D(self):\n",
    "        print(\"Method D from class D\")\n",
    "\n",
    "# Usage\n",
    "obj_d = D()\n",
    "obj_d.method_A()  # Output: Method A from class A\n",
    "obj_d.method_B()  # Output: Method B from class B\n",
    "obj_d.method_C()  # Output: Method C from class C\n",
    "obj_d.method_D()  # Output: Method D from class D\n"
   ]
  },
  {
   "cell_type": "markdown",
   "id": "fac5926f",
   "metadata": {},
   "source": [
    "### Abstraction"
   ]
  },
  {
   "cell_type": "markdown",
   "id": "b6bb661b",
   "metadata": {},
   "source": [
    "<span style = 'font-size:0.8em;'>\n",
    "\n",
    "Abstraction in Python, as well as in object-oriented programming (OOP) in general, refers to the concept of hiding the complex implementation details of a class and only showing the necessary features of an object to the outside world. It focuses on what an object does rather than how it achieves it.\n",
    "\n",
    "Abstraction is achieved in Python through the use of abstract classes and interfaces, as well as encapsulation.\n",
    "</span>"
   ]
  },
  {
   "cell_type": "markdown",
   "id": "45370c50",
   "metadata": {},
   "source": [
    "<span style = 'font-size:0.8em;'>\n",
    "Abstract Classes: Abstract classes are classes that cannot be instantiated and contain one or more abstract methods, which are methods declared but not implemented in the abstract class. Subclasses of an abstract class must implement all abstract methods, providing their own implementations.<br>\n",
    "    Python provides the <code>abc</code> module for defining abstract base classes.\n",
    "</span>"
   ]
  },
  {
   "cell_type": "code",
   "execution_count": 101,
   "id": "8d801931",
   "metadata": {},
   "outputs": [
    {
     "name": "stdout",
     "output_type": "stream",
     "text": [
      "20\n"
     ]
    }
   ],
   "source": [
    "# Example 1 of abstract class\n",
    "from abc import ABC, abstractmethod\n",
    "\n",
    "class Shape(ABC):\n",
    "    @abstractmethod\n",
    "    def area(self):\n",
    "        pass\n",
    "\n",
    "class Rectangle(Shape):\n",
    "    def __init__(self, width, height):\n",
    "        self.width = width\n",
    "        self.height = height\n",
    "\n",
    "    def area(self):\n",
    "        return self.width * self.height\n",
    "\n",
    "rect = Rectangle(5, 4)\n",
    "print(rect.area())  # Output: 20\n"
   ]
  },
  {
   "cell_type": "code",
   "execution_count": 106,
   "id": "69bd8592",
   "metadata": {},
   "outputs": [],
   "source": [
    "# Example 2 of abstract class\n",
    "import abc\n",
    "class myskills:\n",
    "    @abc.abstractmethod\n",
    "    def student_details(self):\n",
    "        pass\n",
    "    \n",
    "    @abc.abstractmethod\n",
    "    def student_assignment(self):\n",
    "        pass\n",
    "    \n",
    "    \n",
    "    @abc.abstractmethod\n",
    "    def student_marks(self):\n",
    "        pass\n",
    "        \n",
    "    "
   ]
  },
  {
   "cell_type": "code",
   "execution_count": 107,
   "id": "281ecbda",
   "metadata": {},
   "outputs": [],
   "source": [
    "class data_science(myskills):\n",
    "    \n",
    "    def student_details(self):\n",
    "        return \"it will try to return the details of data science masters \"\n",
    "    \n",
    "    def student_assignment(self):\n",
    "        return \"it will return the details of student assignment for data science masters \""
   ]
  },
  {
   "cell_type": "code",
   "execution_count": 112,
   "id": "7bd8bd6f",
   "metadata": {},
   "outputs": [],
   "source": [
    "\n",
    "class web_dev(myskills):\n",
    "     def student_details(self):\n",
    "            return \"this will return the detils of web dev \"\n",
    "    \n",
    "    \n",
    "     def student_marks(self):\n",
    "             return \"this will return a marks of web dev class\""
   ]
  },
  {
   "cell_type": "code",
   "execution_count": 109,
   "id": "ee6a10e5",
   "metadata": {},
   "outputs": [
    {
     "data": {
      "text/plain": [
       "'it will try to return the details of data science masters '"
      ]
     },
     "execution_count": 109,
     "metadata": {},
     "output_type": "execute_result"
    }
   ],
   "source": [
    "ds = data_science()\n",
    "ds.student_details()"
   ]
  },
  {
   "cell_type": "code",
   "execution_count": 110,
   "id": "5171c1fd",
   "metadata": {},
   "outputs": [
    {
     "data": {
      "text/plain": [
       "'this will return the detils of web dev '"
      ]
     },
     "execution_count": 110,
     "metadata": {},
     "output_type": "execute_result"
    }
   ],
   "source": [
    "wd = web_dev()\n",
    "wd.student_details()"
   ]
  },
  {
   "cell_type": "markdown",
   "id": "d73e1270",
   "metadata": {},
   "source": [
    "<span style = 'font-size:0.8em;'>\n",
    "Interfaces: Interfaces in Python are similar to abstract classes but contain only method signatures without any implementation. Classes can implement interfaces by providing implementations for all methods defined in the interface. Although Python doesn't have a built-in keyword for defining interfaces, the concept can be achieved using abstract base classes or simply by defining classes with method signatures.\n",
    "</span>"
   ]
  },
  {
   "cell_type": "code",
   "execution_count": 111,
   "id": "17097d03",
   "metadata": {},
   "outputs": [
    {
     "name": "stdout",
     "output_type": "stream",
     "text": [
      "Drawing circle\n"
     ]
    }
   ],
   "source": [
    "class Drawable:\n",
    "    def draw(self):\n",
    "        raise NotImplementedError(\"draw method not implemented\")\n",
    "\n",
    "class Circle(Drawable):\n",
    "    def draw(self):\n",
    "        print(\"Drawing circle\")\n",
    "\n",
    "circle = Circle()\n",
    "circle.draw()  # Output: Drawing circle\n"
   ]
  },
  {
   "cell_type": "code",
   "execution_count": null,
   "id": "55e62072",
   "metadata": {},
   "outputs": [],
   "source": []
  }
 ],
 "metadata": {
  "kernelspec": {
   "display_name": "Python 3 (ipykernel)",
   "language": "python",
   "name": "python3"
  },
  "language_info": {
   "codemirror_mode": {
    "name": "ipython",
    "version": 3
   },
   "file_extension": ".py",
   "mimetype": "text/x-python",
   "name": "python",
   "nbconvert_exporter": "python",
   "pygments_lexer": "ipython3",
   "version": "3.10.9"
  }
 },
 "nbformat": 4,
 "nbformat_minor": 5
}
