{
 "cells": [
  {
   "cell_type": "markdown",
   "id": "f18cc7c8",
   "metadata": {},
   "source": [
    "### Exceptions Handling"
   ]
  },
  {
   "cell_type": "markdown",
   "id": "1219bbce",
   "metadata": {},
   "source": [
    "<span style = 'font-size:0.8em;'>\n",
    "Exception handling in Python allows you to handle errors or exceptional situations that may occur during the execution of your code. This helps you to gracefully handle errors and prevent your program from crashing unexpectedly. Python provides a try, except, else, and finally block for handling exceptions.<br>\n",
    "\n",
    "Here's a basic overview of how exception handling works in Python:<br>\n",
    "\n",
    "<b>try block</b>: You place the code that you want to monitor for exceptions inside a <code>try</code> block.\n",
    "\n",
    "<b>except block</b>: If an exception occurs within the <code>try</code> block, Python looks for an appropriate <code>except</code> block to handle the exception. You can specify the type of exception you want to catch, or you can have a generic except block that catches any exception.\n",
    "\n",
    "<b>else block (optional)</b>: This block is executed if no exceptions occur in the <code>try</code> block. It's usually used to perform additional actions when no exceptions are raised.\n",
    "\n",
    "<b>finally block (optional)</b>: This block is always executed, whether an exception occurs or not. It's typically used for cleanup code, such as closing files or releasing resources.\n",
    "</span>"
   ]
  },
  {
   "cell_type": "code",
   "execution_count": 1,
   "id": "220eee76",
   "metadata": {},
   "outputs": [],
   "source": [
    "a = 10"
   ]
  },
  {
   "cell_type": "code",
   "execution_count": 2,
   "id": "98317e04",
   "metadata": {},
   "outputs": [],
   "source": [
    "# a/0\n",
    "\n",
    "# ---------------------------------------------------------------------------\n",
    "# ZeroDivisionError                         Traceback (most recent call last)\n",
    "# Cell In[2], line 1\n",
    "# ----> 1 a/0\n",
    "\n",
    "# ZeroDivisionError: division by zero"
   ]
  },
  {
   "cell_type": "code",
   "execution_count": 3,
   "id": "ebcdde69",
   "metadata": {},
   "outputs": [],
   "source": [
    "# f = open(\"exception_test.txt\" , 'r')\n",
    "# print(\"this is my print\")\n",
    "# FileNotFoundError                         Traceback (most recent call last)\n",
    "# Cell In[4], line 1\n",
    "# ----> 1 f = open(\"exception_test.txt\" , 'r')\n",
    "#       2 print(\"this is my print\")\n",
    "\n",
    "# File ~\\anaconda3\\lib\\site-packages\\IPython\\core\\interactiveshell.py:282, in _modified_open(file, *args, **kwargs)\n",
    "#     275 if file in {0, 1, 2}:\n",
    "#     276     raise ValueError(\n",
    "#     277         f\"IPython won't let you open fd={file} by default \"\n",
    "#     278         \"as it is likely to crash IPython. If you know what you are doing, \"\n",
    "#     279         \"you can use builtins' open.\"\n",
    "#     280     )\n",
    "# --> 282 return io_open(file, *args, **kwargs)\n",
    "\n",
    "# FileNotFoundError: [Errno 2] No such file or directory: 'exception_test.txt'"
   ]
  },
  {
   "cell_type": "code",
   "execution_count": 5,
   "id": "76e88100",
   "metadata": {},
   "outputs": [
    {
     "name": "stdout",
     "output_type": "stream",
     "text": [
      "There is some issue with my code [Errno 2] No such file or directory: 'exception_test1.txt'\n",
      "This is print statement\n",
      "10\n"
     ]
    }
   ],
   "source": [
    "try:\n",
    "    f = open(\"exception_test1.txt\",\"r\")\n",
    "except Exception as e:\n",
    "    print(\"There is some issue with my code\",e)\n",
    "print(\"This is print statement\")\n",
    "a = 10\n",
    "print(a)"
   ]
  },
  {
   "cell_type": "code",
   "execution_count": 6,
   "id": "6d6b348c",
   "metadata": {},
   "outputs": [
    {
     "name": "stdout",
     "output_type": "stream",
     "text": [
      "this block will execute once try will execute itself without an exception\n"
     ]
    }
   ],
   "source": [
    "# else block will run only after sucessfull exceution or without error of try block\n",
    "try:\n",
    "    f = open(\"exception_test1.txt\" , 'w')\n",
    "    f.write(\"this is my msg\")\n",
    "\n",
    "except Exception as e :\n",
    "    print(\"there is some issue with my code \", e)\n",
    "else : \n",
    "        f.close()\n",
    "        print(\"this block will execute once try will execute itself without an exception\")"
   ]
  },
  {
   "cell_type": "code",
   "execution_count": 8,
   "id": "8becbe4a",
   "metadata": {},
   "outputs": [
    {
     "name": "stdout",
     "output_type": "stream",
     "text": [
      "there is some issue with my code  [Errno 2] No such file or directory: 'exception_test2.txt'\n"
     ]
    }
   ],
   "source": [
    "# Here we can see only except block is executing and not try or else as try got an exception\n",
    "try:\n",
    "    f = open(\"exception_test2.txt\" , 'r')\n",
    "    f.write(\"this is my msg\")\n",
    "\n",
    "except Exception as e :\n",
    "    print(\"there is some issue with my code \", e)\n",
    "else : \n",
    "        f.close()\n",
    "        print(\"this block will execute once try will execute itself without an exception\")"
   ]
  },
  {
   "cell_type": "code",
   "execution_count": 9,
   "id": "c38150d9",
   "metadata": {},
   "outputs": [
    {
     "name": "stdout",
     "output_type": "stream",
     "text": [
      "there is some issue with my code  [Errno 2] No such file or directory: 'exception_test2.txt'\n",
      "I will execute always\n"
     ]
    }
   ],
   "source": [
    "# Here we can see only except block is executing and not try or else as try got an exception\n",
    "try:\n",
    "    f = open(\"exception_test2.txt\" , 'r')\n",
    "    f.write(\"this is my msg\")\n",
    "\n",
    "except Exception as e :\n",
    "    print(\"there is some issue with my code \", e)\n",
    "else : \n",
    "        f.close()\n",
    "        print(\"this block will execute once try will execute itself without an exception\")\n",
    "finally :\n",
    "    print(\"I will execute always\")"
   ]
  },
  {
   "cell_type": "code",
   "execution_count": 11,
   "id": "5cc4be16",
   "metadata": {},
   "outputs": [
    {
     "name": "stdout",
     "output_type": "stream",
     "text": [
      "Division by zero is not allowed!\n",
      "Finally block is executed.\n"
     ]
    }
   ],
   "source": [
    "# Example\n",
    "try:\n",
    "    # Code that may raise an exception\n",
    "    x = 10 / 0\n",
    "except ZeroDivisionError:\n",
    "    # Handle the specific exception (division by zero)\n",
    "    print(\"Division by zero is not allowed!\")\n",
    "except Exception as e:\n",
    "    # Handle any other exceptions\n",
    "    print(\"An error occurred:\", e)\n",
    "else:\n",
    "    # This block is executed if no exceptions occur\n",
    "    print(\"No exceptions occurred.\")\n",
    "finally:\n",
    "    # This block is always executed, regardless of whether an exception occurred\n",
    "    print(\"Finally block is executed.\")\n"
   ]
  },
  {
   "cell_type": "markdown",
   "id": "bfd9425a",
   "metadata": {},
   "source": [
    "<span style = 'font-size:0.8em;'>\n",
    "In this example:<br>\n",
    "\n",
    "The try block attempts to perform a division operation that may raise a ZeroDivisionError.<br>\n",
    "The first except block catches the ZeroDivisionError and prints a message.<br>\n",
    "The second except block catches any other exceptions and prints the error message.<br>\n",
    "The else block prints a message if no exceptions occur.<br>\n",
    "The finally block always executes, regardless of whether an exception occurred, and it prints a message indicating that it's being executed.<br>\n",
    "</span>"
   ]
  },
  {
   "cell_type": "markdown",
   "id": "92a6bbfa",
   "metadata": {},
   "source": [
    "### Custom Exception Handling"
   ]
  },
  {
   "cell_type": "code",
   "execution_count": 12,
   "id": "66795310",
   "metadata": {},
   "outputs": [
    {
     "name": "stdout",
     "output_type": "stream",
     "text": [
      "Enter your age 23\n"
     ]
    }
   ],
   "source": [
    "age = int(input(\"Enter your age \"))"
   ]
  },
  {
   "cell_type": "code",
   "execution_count": 13,
   "id": "8d2fde76",
   "metadata": {},
   "outputs": [
    {
     "name": "stdout",
     "output_type": "stream",
     "text": [
      "Enter your age -234\n"
     ]
    }
   ],
   "source": [
    "age = int(input(\"Enter your age \"))"
   ]
  },
  {
   "cell_type": "code",
   "execution_count": 19,
   "id": "8888b067",
   "metadata": {},
   "outputs": [],
   "source": [
    "class validateage(Exception):\n",
    "    def __init__(self,msg):\n",
    "        self.msg = msg"
   ]
  },
  {
   "cell_type": "code",
   "execution_count": 20,
   "id": "c4129e28",
   "metadata": {},
   "outputs": [],
   "source": [
    "def validate_age(age):\n",
    "    if age < 0:\n",
    "        raise validateage(\"Age should not be negative\")\n",
    "    elif age > 200:\n",
    "        raise validateage(\"Age should not be 200+\")\n",
    "    else:\n",
    "        raise validateage(\"Age is valid\")"
   ]
  },
  {
   "cell_type": "code",
   "execution_count": 22,
   "id": "7c2f68f9",
   "metadata": {},
   "outputs": [
    {
     "name": "stdout",
     "output_type": "stream",
     "text": [
      "Enter your age: 89\n",
      "Age is valid\n"
     ]
    }
   ],
   "source": [
    "try : \n",
    "    age = int(input(\"Enter your age: \"))\n",
    "    validate_age(age)\n",
    "except validateage as e : \n",
    "    print(e)"
   ]
  },
  {
   "cell_type": "code",
   "execution_count": null,
   "id": "be25a0a1",
   "metadata": {},
   "outputs": [],
   "source": []
  }
 ],
 "metadata": {
  "kernelspec": {
   "display_name": "Python 3 (ipykernel)",
   "language": "python",
   "name": "python3"
  },
  "language_info": {
   "codemirror_mode": {
    "name": "ipython",
    "version": 3
   },
   "file_extension": ".py",
   "mimetype": "text/x-python",
   "name": "python",
   "nbconvert_exporter": "python",
   "pygments_lexer": "ipython3",
   "version": "3.10.9"
  }
 },
 "nbformat": 4,
 "nbformat_minor": 5
}
