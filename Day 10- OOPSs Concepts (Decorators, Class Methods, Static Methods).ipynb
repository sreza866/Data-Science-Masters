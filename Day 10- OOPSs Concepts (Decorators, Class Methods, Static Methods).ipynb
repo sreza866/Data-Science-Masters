{
 "cells": [
  {
   "cell_type": "markdown",
   "id": "afae288e",
   "metadata": {},
   "source": [
    "### Decorators"
   ]
  },
  {
   "cell_type": "markdown",
   "id": "b126a4e2",
   "metadata": {},
   "source": [
    "<span  style = 'font-size:0.8em;'>\n",
    "In Python, decorators are a powerful and flexible tool used to modify or extend the behavior of functions or classes. Decorators allow you to wrap another function or class with additional functionality without modifying its code directly.\n",
    "</span>"
   ]
  },
  {
   "cell_type": "code",
   "execution_count": 1,
   "id": "e670b492",
   "metadata": {},
   "outputs": [],
   "source": [
    "def test():\n",
    "    print(\"This is the start of my function\")\n",
    "    print(4+6)\n",
    "    print(\"This is the end of my function\")"
   ]
  },
  {
   "cell_type": "code",
   "execution_count": 2,
   "id": "d2e7f75e",
   "metadata": {},
   "outputs": [
    {
     "name": "stdout",
     "output_type": "stream",
     "text": [
      "This is the start of my function\n",
      "10\n",
      "This is the end of my function\n"
     ]
    }
   ],
   "source": [
    "test()"
   ]
  },
  {
   "cell_type": "code",
   "execution_count": 3,
   "id": "cb475fe2",
   "metadata": {},
   "outputs": [],
   "source": [
    "def deco(func):\n",
    "    def inner_deco():\n",
    "        print(\"This is the start of my function\")\n",
    "        func()\n",
    "        print(\"This is the end of my function\")\n",
    "    return inner_deco\n"
   ]
  },
  {
   "cell_type": "code",
   "execution_count": 4,
   "id": "fa8368b9",
   "metadata": {},
   "outputs": [],
   "source": [
    "@deco\n",
    "def test1():\n",
    "    print('HELLO')"
   ]
  },
  {
   "cell_type": "code",
   "execution_count": 5,
   "id": "37cd1d83",
   "metadata": {},
   "outputs": [
    {
     "name": "stdout",
     "output_type": "stream",
     "text": [
      "This is the start of my function\n",
      "HELLO\n",
      "This is the end of my function\n"
     ]
    }
   ],
   "source": [
    "test1()"
   ]
  },
  {
   "cell_type": "code",
   "execution_count": 6,
   "id": "6fe6b0ba",
   "metadata": {},
   "outputs": [],
   "source": [
    "# @deco syntax is a shorthand for say_hello = deco(test1)"
   ]
  },
  {
   "cell_type": "code",
   "execution_count": 7,
   "id": "8ed25d00",
   "metadata": {},
   "outputs": [],
   "source": [
    "def deco_new(func1):\n",
    "    def inner_deco_new():\n",
    "        print(\"This is the start of my function inner_deco_new\")\n",
    "        func1()\n",
    "        print(\"This is the end of my function inner_deco_new\")\n",
    "    return inner_deco_new"
   ]
  },
  {
   "cell_type": "code",
   "execution_count": 8,
   "id": "568ec30b",
   "metadata": {},
   "outputs": [],
   "source": [
    "    def test2():\n",
    "        print('HELLO')"
   ]
  },
  {
   "cell_type": "code",
   "execution_count": 9,
   "id": "8e1603bb",
   "metadata": {},
   "outputs": [],
   "source": [
    "say_hello = deco_new(test2)"
   ]
  },
  {
   "cell_type": "code",
   "execution_count": 10,
   "id": "fe4da2cf",
   "metadata": {},
   "outputs": [
    {
     "name": "stdout",
     "output_type": "stream",
     "text": [
      "This is the start of my function inner_deco_new\n",
      "HELLO\n",
      "This is the end of my function inner_deco_new\n"
     ]
    }
   ],
   "source": [
    "say_hello()"
   ]
  },
  {
   "cell_type": "code",
   "execution_count": 11,
   "id": "047e932a",
   "metadata": {},
   "outputs": [],
   "source": [
    "# Example 1 of decorators\n",
    "import time as T\n",
    "def timer_test(func3):\n",
    "   def timer_test_inner():\n",
    "        start = T.time()\n",
    "        func3()\n",
    "        end = T.time()\n",
    "        print(end-start)\n",
    "   return timer_test_inner"
   ]
  },
  {
   "cell_type": "code",
   "execution_count": 12,
   "id": "c46b7efe",
   "metadata": {},
   "outputs": [],
   "source": [
    "@timer_test\n",
    "def test3():\n",
    "    print(\"Time Calculation\")"
   ]
  },
  {
   "cell_type": "code",
   "execution_count": 13,
   "id": "1fbfecf2",
   "metadata": {},
   "outputs": [
    {
     "name": "stdout",
     "output_type": "stream",
     "text": [
      "Time Calculation\n",
      "0.004052877426147461\n"
     ]
    }
   ],
   "source": [
    "test3()"
   ]
  },
  {
   "cell_type": "code",
   "execution_count": 14,
   "id": "302b3f06",
   "metadata": {},
   "outputs": [
    {
     "name": "stdout",
     "output_type": "stream",
     "text": [
      "0.043389081954956055\n"
     ]
    }
   ],
   "source": [
    "@timer_test\n",
    "def test3():\n",
    "    for i in range(0,1000000):\n",
    "        pass\n",
    "test3()"
   ]
  },
  {
   "cell_type": "code",
   "execution_count": 15,
   "id": "0013904e",
   "metadata": {},
   "outputs": [],
   "source": [
    "# Decorators can also take arguments, allowing for more flexibility. Here's an example:"
   ]
  },
  {
   "cell_type": "code",
   "execution_count": 16,
   "id": "87c50e93",
   "metadata": {},
   "outputs": [
    {
     "name": "stdout",
     "output_type": "stream",
     "text": [
      "Hello, Subhan!\n",
      "Hello, Subhan!\n",
      "Hello, Subhan!\n"
     ]
    }
   ],
   "source": [
    "def repeat(n):\n",
    "    def decorator(func):\n",
    "        def wrapper(*args, **kwargs):\n",
    "            for _ in range(n):\n",
    "                result = func(*args, **kwargs)\n",
    "            return result\n",
    "        return wrapper\n",
    "    return decorator\n",
    "\n",
    "@repeat(3)\n",
    "def greet(name):\n",
    "    print(f\"Hello, {name}!\")\n",
    "\n",
    "greet(\"Subhan\")"
   ]
  },
  {
   "cell_type": "markdown",
   "id": "7d7d6a75",
   "metadata": {},
   "source": [
    "### Class Methods"
   ]
  },
  {
   "cell_type": "markdown",
   "id": "2726e74a",
   "metadata": {},
   "source": [
    "<span  style = 'font-size:0.8em;'>\n",
    "Class methods in Python are methods that are bound to the class itself, rather than to instances of the class. They can access or modify class-level variables and perform operations that affect the class as a whole. Class methods are defined using the <code>@classmethod</code> decorator.\n",
    " </span>"
   ]
  },
  {
   "cell_type": "code",
   "execution_count": 17,
   "id": "3a856094",
   "metadata": {},
   "outputs": [],
   "source": [
    "class myskills:\n",
    "    def __init__(self,name,email):\n",
    "        self.name = name\n",
    "        self.email = email\n",
    "    \n",
    "    def student_detail(self):\n",
    "        print(self.name,self.email)"
   ]
  },
  {
   "cell_type": "code",
   "execution_count": 18,
   "id": "002370ca",
   "metadata": {},
   "outputs": [],
   "source": [
    "ms = myskills('reza','reza@xyz.com')"
   ]
  },
  {
   "cell_type": "code",
   "execution_count": 19,
   "id": "34441cc2",
   "metadata": {},
   "outputs": [
    {
     "data": {
      "text/plain": [
       "'reza'"
      ]
     },
     "execution_count": 19,
     "metadata": {},
     "output_type": "execute_result"
    }
   ],
   "source": [
    "ms.name"
   ]
  },
  {
   "cell_type": "code",
   "execution_count": 20,
   "id": "7352e0e7",
   "metadata": {},
   "outputs": [
    {
     "data": {
      "text/plain": [
       "'reza@xyz.com'"
      ]
     },
     "execution_count": 20,
     "metadata": {},
     "output_type": "execute_result"
    }
   ],
   "source": [
    "ms.email"
   ]
  },
  {
   "cell_type": "code",
   "execution_count": 21,
   "id": "4547f0e9",
   "metadata": {},
   "outputs": [
    {
     "name": "stdout",
     "output_type": "stream",
     "text": [
      "reza reza@xyz.com\n"
     ]
    }
   ],
   "source": [
    "ms.student_detail()"
   ]
  },
  {
   "cell_type": "code",
   "execution_count": 22,
   "id": "32202ba4",
   "metadata": {},
   "outputs": [],
   "source": [
    "class myskills1:\n",
    "    def __init__(self,name,email):\n",
    "        self.name = name\n",
    "        self.email = email\n",
    "        \n",
    "    @classmethod\n",
    "    def details(cls,name1,email1):\n",
    "        return cls(name1,email1)\n",
    "    \n",
    "    def student_details(self):\n",
    "        print(self.name , self.email)"
   ]
  },
  {
   "cell_type": "code",
   "execution_count": 23,
   "id": "2dd3f8e3",
   "metadata": {},
   "outputs": [],
   "source": [
    "ms1 = myskills1.details(\"mohan\" , \"mohan@xyz.com\")"
   ]
  },
  {
   "cell_type": "code",
   "execution_count": 24,
   "id": "3c7a453a",
   "metadata": {},
   "outputs": [
    {
     "data": {
      "text/plain": [
       "'mohan'"
      ]
     },
     "execution_count": 24,
     "metadata": {},
     "output_type": "execute_result"
    }
   ],
   "source": [
    "ms1.name"
   ]
  },
  {
   "cell_type": "code",
   "execution_count": 25,
   "id": "926c3b61",
   "metadata": {},
   "outputs": [
    {
     "data": {
      "text/plain": [
       "'mohan@xyz.com'"
      ]
     },
     "execution_count": 25,
     "metadata": {},
     "output_type": "execute_result"
    }
   ],
   "source": [
    "ms1.email"
   ]
  },
  {
   "cell_type": "code",
   "execution_count": 26,
   "id": "6becc9fc",
   "metadata": {},
   "outputs": [
    {
     "name": "stdout",
     "output_type": "stream",
     "text": [
      "mohan mohan@xyz.com\n"
     ]
    }
   ],
   "source": [
    "ms1.student_details()"
   ]
  },
  {
   "cell_type": "code",
   "execution_count": 27,
   "id": "a33deb03",
   "metadata": {},
   "outputs": [],
   "source": [
    "class myskills2:\n",
    "    mobile_number = 7561933000\n",
    "    def __init__(self,name,email):\n",
    "        self.name = name\n",
    "        self.email = email\n",
    "        \n",
    "    @classmethod\n",
    "    def change_number(cls,mobile):\n",
    "        myskills2.mobile_number = mobile\n",
    "    \n",
    "    @classmethod\n",
    "    def details(cls,name1,email1):\n",
    "        return cls(name1,email1)\n",
    "    \n",
    "    def student_details(self):\n",
    "        print(self.name , self.email,myskills2.mobile_number)"
   ]
  },
  {
   "cell_type": "code",
   "execution_count": 28,
   "id": "773b9baa",
   "metadata": {},
   "outputs": [],
   "source": [
    "ms2_obj = myskills2(\"sohil\" , \"sohil@xyz.com\")"
   ]
  },
  {
   "cell_type": "code",
   "execution_count": 29,
   "id": "090f7d22",
   "metadata": {},
   "outputs": [
    {
     "name": "stdout",
     "output_type": "stream",
     "text": [
      "sohil sohil@xyz.com 7561933000\n"
     ]
    }
   ],
   "source": [
    "ms2_obj.student_details()"
   ]
  },
  {
   "cell_type": "code",
   "execution_count": 30,
   "id": "bcf45703",
   "metadata": {},
   "outputs": [
    {
     "data": {
      "text/plain": [
       "<__main__.myskills2 at 0x2080e3dfeb0>"
      ]
     },
     "execution_count": 30,
     "metadata": {},
     "output_type": "execute_result"
    }
   ],
   "source": [
    "ms2_obj.details(\"shubh\" , \"shubh@xyz.com\")"
   ]
  },
  {
   "cell_type": "code",
   "execution_count": 31,
   "id": "9045ea2b",
   "metadata": {},
   "outputs": [
    {
     "data": {
      "text/plain": [
       "'sohil'"
      ]
     },
     "execution_count": 31,
     "metadata": {},
     "output_type": "execute_result"
    }
   ],
   "source": [
    "ms2_obj.name"
   ]
  },
  {
   "cell_type": "code",
   "execution_count": 32,
   "id": "6e293baa",
   "metadata": {},
   "outputs": [],
   "source": [
    "ms2_obj.change_number(534553534)"
   ]
  },
  {
   "cell_type": "code",
   "execution_count": 33,
   "id": "7f631158",
   "metadata": {},
   "outputs": [
    {
     "data": {
      "text/plain": [
       "534553534"
      ]
     },
     "execution_count": 33,
     "metadata": {},
     "output_type": "execute_result"
    }
   ],
   "source": [
    "ms2_obj.mobile_number"
   ]
  },
  {
   "cell_type": "code",
   "execution_count": 34,
   "id": "9efd5ff0",
   "metadata": {},
   "outputs": [
    {
     "data": {
      "text/plain": [
       "534553534"
      ]
     },
     "execution_count": 34,
     "metadata": {},
     "output_type": "execute_result"
    }
   ],
   "source": [
    "myskills2.mobile_number"
   ]
  },
  {
   "cell_type": "code",
   "execution_count": 35,
   "id": "c0519f7e",
   "metadata": {},
   "outputs": [],
   "source": [
    "myskills2.change_number(9233345344)"
   ]
  },
  {
   "cell_type": "code",
   "execution_count": 36,
   "id": "2a6c57e4",
   "metadata": {},
   "outputs": [
    {
     "data": {
      "text/plain": [
       "9233345344"
      ]
     },
     "execution_count": 36,
     "metadata": {},
     "output_type": "execute_result"
    }
   ],
   "source": [
    "myskills2.mobile_number"
   ]
  },
  {
   "cell_type": "code",
   "execution_count": 37,
   "id": "ff32aee9",
   "metadata": {},
   "outputs": [],
   "source": [
    "ms2 = myskills2.details(\"sohan\" , \"sohan@xyz.com\")"
   ]
  },
  {
   "cell_type": "code",
   "execution_count": 38,
   "id": "1e02b0d8",
   "metadata": {},
   "outputs": [
    {
     "name": "stdout",
     "output_type": "stream",
     "text": [
      "sohan sohan@xyz.com 9233345344\n"
     ]
    }
   ],
   "source": [
    "ms2.student_details()"
   ]
  },
  {
   "cell_type": "code",
   "execution_count": 39,
   "id": "e7db65ca",
   "metadata": {},
   "outputs": [],
   "source": [
    "ms2_obj = myskills2(\"rohan\" , \"rohan@xyz.com\")"
   ]
  },
  {
   "cell_type": "code",
   "execution_count": 40,
   "id": "c94cb0b7",
   "metadata": {},
   "outputs": [
    {
     "name": "stdout",
     "output_type": "stream",
     "text": [
      "rohan rohan@xyz.com 9233345344\n"
     ]
    }
   ],
   "source": [
    "ms2_obj.student_details()"
   ]
  },
  {
   "cell_type": "code",
   "execution_count": 41,
   "id": "978e052e",
   "metadata": {},
   "outputs": [],
   "source": [
    "class myskills3:\n",
    "    \n",
    "    mobile_number = 9134534535\n",
    "    \n",
    "    def __init__(self, name , email):\n",
    "        \n",
    "        self.name = name\n",
    "        self.email = email\n",
    "    \n",
    "    @classmethod\n",
    "    def change_number(cls, mobile):\n",
    "        pwskills2.mobile_number = mobile\n",
    "    \n",
    "    @classmethod\n",
    "    def details(cls , name1 , email1):\n",
    "        return cls(name1 , email1)\n",
    "    \n",
    "    def student_details(self):\n",
    "        print(self.name , self.email,myskills3.mobile_number)"
   ]
  },
  {
   "cell_type": "code",
   "execution_count": 42,
   "id": "d6c10deb",
   "metadata": {},
   "outputs": [],
   "source": [
    "def course_details(cls,course_name):\n",
    "    print(\"course details :\" , course_name)"
   ]
  },
  {
   "cell_type": "code",
   "execution_count": 43,
   "id": "e05fb6e6",
   "metadata": {},
   "outputs": [],
   "source": [
    "myskills3.course_details = classmethod(course_details)"
   ]
  },
  {
   "cell_type": "code",
   "execution_count": 44,
   "id": "fc1ee13d",
   "metadata": {},
   "outputs": [
    {
     "name": "stdout",
     "output_type": "stream",
     "text": [
      "course details : Data Science Masters\n"
     ]
    }
   ],
   "source": [
    "myskills3.course_details('Data Science Masters')"
   ]
  },
  {
   "cell_type": "code",
   "execution_count": 45,
   "id": "06c40f07",
   "metadata": {},
   "outputs": [],
   "source": [
    "ms3 = myskills3(\"adi\" , \"adi@xyz.com\")"
   ]
  },
  {
   "cell_type": "code",
   "execution_count": 46,
   "id": "5f425e51",
   "metadata": {},
   "outputs": [
    {
     "name": "stdout",
     "output_type": "stream",
     "text": [
      "course details : Web Dev\n"
     ]
    }
   ],
   "source": [
    "ms3.course_details('Web Dev')"
   ]
  },
  {
   "cell_type": "code",
   "execution_count": 47,
   "id": "548e0377",
   "metadata": {},
   "outputs": [],
   "source": [
    "class myskills4:\n",
    "    \n",
    "    mobile_number = 9134534535\n",
    "    \n",
    "    def __init__(self, name , email):\n",
    "        \n",
    "        self.name = name\n",
    "        self.email = email\n",
    "    \n",
    "    @classmethod\n",
    "    def change_number(cls, mobile):\n",
    "        pwskills2.mobile_number = mobile\n",
    "    \n",
    "    @classmethod\n",
    "    def details(cls , name1 , email1):\n",
    "        return cls(name1 , email1)\n",
    "    \n",
    "    def student_details(self):\n",
    "        print(self.name , self.email,myskills2.mobile_number)"
   ]
  },
  {
   "cell_type": "code",
   "execution_count": 48,
   "id": "d8ea23e2",
   "metadata": {},
   "outputs": [],
   "source": [
    "del myskills4.change_number"
   ]
  },
  {
   "cell_type": "code",
   "execution_count": 49,
   "id": "1103eb33",
   "metadata": {},
   "outputs": [],
   "source": [
    "# myskills4.change_number(2432535345)\n",
    "# ---------------------------------------------------------------------------\n",
    "# AttributeError                            Traceback (most recent call last)\n",
    "# Cell In[143], line 1\n",
    "# ----> 1 myskills4.change_number(2432535345)\n",
    "\n",
    "# AttributeError: type object 'myskills4' has no attribute 'change_number'"
   ]
  },
  {
   "cell_type": "code",
   "execution_count": 50,
   "id": "b6e33d28",
   "metadata": {},
   "outputs": [],
   "source": [
    "delattr(myskills4 , \"details\")"
   ]
  },
  {
   "cell_type": "code",
   "execution_count": 51,
   "id": "0c15fc5e",
   "metadata": {},
   "outputs": [
    {
     "data": {
      "text/plain": [
       "9134534535"
      ]
     },
     "execution_count": 51,
     "metadata": {},
     "output_type": "execute_result"
    }
   ],
   "source": [
    "myskills4.mobile_number"
   ]
  },
  {
   "cell_type": "code",
   "execution_count": 52,
   "id": "bebf6819",
   "metadata": {},
   "outputs": [],
   "source": [
    "delattr(myskills4 , \"mobile_number\")"
   ]
  },
  {
   "cell_type": "code",
   "execution_count": 53,
   "id": "434164e4",
   "metadata": {},
   "outputs": [
    {
     "data": {
      "text/plain": [
       "__main__.myskills4"
      ]
     },
     "execution_count": 53,
     "metadata": {},
     "output_type": "execute_result"
    }
   ],
   "source": [
    "myskills4"
   ]
  },
  {
   "cell_type": "markdown",
   "id": "174cfc3f",
   "metadata": {},
   "source": [
    "<span style ='font-size:0.8em;'>\n",
    "Class methods are often used for:<br>\n",
    "<b>Alternative constructors:</b> Class methods can be used to provide multiple ways to create instances of a class.<br>\n",
    "<b>Factory methods:</b> They can be used to return an instance of the class based on some criteria.<br>\n",
    "<b>Accessing or modifying class-level variables:</b>Since class methods have access to the class itself (cls), they can manipulate class-level variables or perform operations that are related to the class as a whole.<br>\n",
    " </span>"
   ]
  },
  {
   "cell_type": "markdown",
   "id": "6d50790f",
   "metadata": {},
   "source": [
    "### Static Method"
   ]
  },
  {
   "cell_type": "markdown",
   "id": "f2d6d669",
   "metadata": {},
   "source": [
    "<span  style = 'font-size:0.8em;'>\n",
    "In Python, a static method is a method that is bound to the class rather than the object instance. It does not have access to the object instance or the class instance itself (unless explicitly passed as an argument). Static methods are defined using the <code>@staticmethod</code> decorator.\n",
    "</span>"
   ]
  },
  {
   "cell_type": "code",
   "execution_count": 54,
   "id": "7d70ce37",
   "metadata": {},
   "outputs": [
    {
     "name": "stdout",
     "output_type": "stream",
     "text": [
      "This is a static method\n"
     ]
    }
   ],
   "source": [
    "# Example\n",
    "class MyClass:\n",
    "    @staticmethod\n",
    "    def static_method():\n",
    "        print(\"This is a static method\")\n",
    "\n",
    "# Calling the static method using the class name\n",
    "MyClass.static_method()"
   ]
  },
  {
   "cell_type": "code",
   "execution_count": 55,
   "id": "4a7e3eee",
   "metadata": {},
   "outputs": [],
   "source": [
    "class myskills5:\n",
    "    def student_details(self , name , mail_id , number) : \n",
    "        print(name , mail_id, number)"
   ]
  },
  {
   "cell_type": "code",
   "execution_count": 56,
   "id": "117e22a4",
   "metadata": {},
   "outputs": [],
   "source": [
    "ms5 = myskills5()"
   ]
  },
  {
   "cell_type": "code",
   "execution_count": 57,
   "id": "f1295eab",
   "metadata": {},
   "outputs": [
    {
     "name": "stdout",
     "output_type": "stream",
     "text": [
      "reza reza@xyz.com 6789112047\n"
     ]
    }
   ],
   "source": [
    "ms5.student_details('reza','reza@xyz.com',6789112047)"
   ]
  },
  {
   "cell_type": "code",
   "execution_count": 58,
   "id": "90d39ade",
   "metadata": {},
   "outputs": [],
   "source": [
    "class myskills6:\n",
    "    def student_details(self , name , mail_id , number) : \n",
    "        print(name , mail_id, number)\n",
    "        \n",
    "    @staticmethod\n",
    "    def mentor_class(list_mentor) : \n",
    "        print(list_mentor)\n",
    "        \n",
    "    def mentor(self , mentor_list) :\n",
    "        print(mentor_list)"
   ]
  },
  {
   "cell_type": "code",
   "execution_count": 59,
   "id": "c280ab84",
   "metadata": {},
   "outputs": [],
   "source": [
    "ms6 = myskills6()"
   ]
  },
  {
   "cell_type": "code",
   "execution_count": 60,
   "id": "501c87a8",
   "metadata": {},
   "outputs": [
    {
     "name": "stdout",
     "output_type": "stream",
     "text": [
      "['krish', 'sudh']\n"
     ]
    }
   ],
   "source": [
    "ms6.mentor([\"krish\" , \"sudh\"])"
   ]
  },
  {
   "cell_type": "code",
   "execution_count": 61,
   "id": "3fa4d456",
   "metadata": {},
   "outputs": [
    {
     "name": "stdout",
     "output_type": "stream",
     "text": [
      "['sudh', 'naik']\n"
     ]
    }
   ],
   "source": [
    "ms6.mentor_class([\"sudh\" , \"naik\"])"
   ]
  },
  {
   "cell_type": "code",
   "execution_count": 62,
   "id": "add0daec",
   "metadata": {},
   "outputs": [
    {
     "name": "stdout",
     "output_type": "stream",
     "text": [
      "['albert', 'robert']\n"
     ]
    }
   ],
   "source": [
    "myskills6.mentor_class(['albert','robert'])"
   ]
  },
  {
   "cell_type": "code",
   "execution_count": 63,
   "id": "acfaff1c",
   "metadata": {},
   "outputs": [],
   "source": [
    "class myskills6:\n",
    "    def student_details(self , name , mail_id , number) : \n",
    "        print(name , mail_id, number)\n",
    "        \n",
    "    @staticmethod\n",
    "    def mentor_mail_id(mail_id):\n",
    "        print(mail_id)\n",
    "        \n",
    "    @staticmethod\n",
    "    def mentor_class(list_mentor) : \n",
    "        print(list_mentor)\n",
    "        myskills6.mentor_mail_id([\"krish@gmail.com\" , \"sudh@gmail.com\"])\n",
    "        \n",
    "    @classmethod\n",
    "    def class_name(cls,class_name):\n",
    "        cls.mentor_class([\"sudh\" , \"krish\"])\n",
    "        \n",
    "    def mentor(self , mentor_list) :\n",
    "        print(mentor_list)\n",
    "        self.mentor_class([\"krish\" , \"sudh\"])"
   ]
  },
  {
   "cell_type": "code",
   "execution_count": 64,
   "id": "89747069",
   "metadata": {},
   "outputs": [],
   "source": [
    "ms6 = myskills6()"
   ]
  },
  {
   "cell_type": "code",
   "execution_count": 65,
   "id": "e60d30a4",
   "metadata": {},
   "outputs": [
    {
     "name": "stdout",
     "output_type": "stream",
     "text": [
      "mohan mohan@gmail.com 9675657657\n"
     ]
    }
   ],
   "source": [
    "ms6.student_details(\"mohan\" , \"mohan@gmail.com\" , 9675657657)"
   ]
  },
  {
   "cell_type": "code",
   "execution_count": 66,
   "id": "578acf05",
   "metadata": {},
   "outputs": [
    {
     "name": "stdout",
     "output_type": "stream",
     "text": [
      "['krish@gmail.com', 'sudh@gmail.com']\n"
     ]
    }
   ],
   "source": [
    "ms6.mentor_mail_id([\"krish@gmail.com\" , \"sudh@gmail.com\"])"
   ]
  },
  {
   "cell_type": "code",
   "execution_count": 67,
   "id": "62d3f14c",
   "metadata": {},
   "outputs": [
    {
     "name": "stdout",
     "output_type": "stream",
     "text": [
      "['krish@gmail.com', 'sudh@gmail.com']\n"
     ]
    }
   ],
   "source": [
    "myskills6.mentor_mail_id([\"krish@gmail.com\" , \"sudh@gmail.com\"])"
   ]
  },
  {
   "cell_type": "code",
   "execution_count": null,
   "id": "11eb6dab",
   "metadata": {},
   "outputs": [],
   "source": []
  }
 ],
 "metadata": {
  "kernelspec": {
   "display_name": "Python 3 (ipykernel)",
   "language": "python",
   "name": "python3"
  },
  "language_info": {
   "codemirror_mode": {
    "name": "ipython",
    "version": 3
   },
   "file_extension": ".py",
   "mimetype": "text/x-python",
   "name": "python",
   "nbconvert_exporter": "python",
   "pygments_lexer": "ipython3",
   "version": "3.10.9"
  }
 },
 "nbformat": 4,
 "nbformat_minor": 5
}
