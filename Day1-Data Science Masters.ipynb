{
 "cells": [
  {
   "cell_type": "markdown",
   "id": "2b8f99af-3b97-49d3-ae09-80fceba59725",
   "metadata": {},
   "source": [
    "### Numbers "
   ]
  },
  {
   "cell_type": "code",
   "execution_count": 1,
   "id": "ec1565d9-d675-43e6-b96a-2e1410629fe6",
   "metadata": {},
   "outputs": [],
   "source": [
    "a = 10"
   ]
  },
  {
   "cell_type": "code",
   "execution_count": 2,
   "id": "2dbfb398-f5aa-4205-8272-d84c78002404",
   "metadata": {},
   "outputs": [
    {
     "data": {
      "text/plain": [
       "10"
      ]
     },
     "execution_count": 2,
     "metadata": {},
     "output_type": "execute_result"
    }
   ],
   "source": [
    "a"
   ]
  },
  {
   "cell_type": "code",
   "execution_count": 3,
   "id": "c0b35560-d899-4de7-818e-1264a64add08",
   "metadata": {},
   "outputs": [
    {
     "name": "stdout",
     "output_type": "stream",
     "text": [
      "10\n"
     ]
    }
   ],
   "source": [
    "print(a)"
   ]
  },
  {
   "cell_type": "code",
   "execution_count": 4,
   "id": "506ee4df-1395-4106-aa33-6d976fcc68e1",
   "metadata": {},
   "outputs": [
    {
     "name": "stdout",
     "output_type": "stream",
     "text": [
      "25\n"
     ]
    }
   ],
   "source": [
    "# single line comment\n",
    "b = 10 + 15\n",
    "print(b)"
   ]
  },
  {
   "cell_type": "code",
   "execution_count": 5,
   "id": "ff39f10c-15ee-4032-98fa-e730d1815e11",
   "metadata": {},
   "outputs": [
    {
     "name": "stdout",
     "output_type": "stream",
     "text": [
      "11\n"
     ]
    }
   ],
   "source": [
    "'''\n",
    "This is an example\n",
    "of multi-line\n",
    "comment in python\n",
    "'''\n",
    "print(5+6)"
   ]
  },
  {
   "cell_type": "markdown",
   "id": "6852b7e0-a212-4ded-954a-fd12af5397da",
   "metadata": {},
   "source": [
    "### Varaible Assignment"
   ]
  },
  {
   "cell_type": "code",
   "execution_count": 6,
   "id": "bdfb97f0-dc89-4e7d-b3d8-7132bdfc2ff5",
   "metadata": {},
   "outputs": [
    {
     "name": "stdout",
     "output_type": "stream",
     "text": [
      "Hello Data Science World!\n"
     ]
    }
   ],
   "source": [
    "s = ('Hello Data Science World!')\n",
    "print(s)"
   ]
  },
  {
   "cell_type": "code",
   "execution_count": 7,
   "id": "411d65c4-d923-453d-99fd-f6aa780f6438",
   "metadata": {},
   "outputs": [],
   "source": [
    "name = 'Subhan'\n",
    "age = 23\n",
    "float_num = 2.5\n",
    "Isnum = True"
   ]
  },
  {
   "cell_type": "code",
   "execution_count": 8,
   "id": "d63a2dac-70f1-49b1-9f1a-33bec3cae403",
   "metadata": {},
   "outputs": [
    {
     "data": {
      "text/plain": [
       "'Subhan'"
      ]
     },
     "execution_count": 8,
     "metadata": {},
     "output_type": "execute_result"
    }
   ],
   "source": [
    "name"
   ]
  },
  {
   "cell_type": "code",
   "execution_count": 9,
   "id": "a2f44f17-8995-4926-9a1c-bcaa3f72fdb8",
   "metadata": {},
   "outputs": [
    {
     "data": {
      "text/plain": [
       "23"
      ]
     },
     "execution_count": 9,
     "metadata": {},
     "output_type": "execute_result"
    }
   ],
   "source": [
    "age"
   ]
  },
  {
   "cell_type": "code",
   "execution_count": 10,
   "id": "84632b41-8c0a-4baa-9eab-2a04215c2724",
   "metadata": {},
   "outputs": [
    {
     "data": {
      "text/plain": [
       "str"
      ]
     },
     "execution_count": 10,
     "metadata": {},
     "output_type": "execute_result"
    }
   ],
   "source": [
    "type(name)"
   ]
  },
  {
   "cell_type": "code",
   "execution_count": 11,
   "id": "4c9dc459-2179-41e4-baeb-c280bd7dd4f8",
   "metadata": {},
   "outputs": [
    {
     "data": {
      "text/plain": [
       "int"
      ]
     },
     "execution_count": 11,
     "metadata": {},
     "output_type": "execute_result"
    }
   ],
   "source": [
    "type(age)"
   ]
  },
  {
   "cell_type": "code",
   "execution_count": 12,
   "id": "4a4be1ee-a633-4e27-91ab-18b5e20b91f5",
   "metadata": {},
   "outputs": [
    {
     "data": {
      "text/plain": [
       "float"
      ]
     },
     "execution_count": 12,
     "metadata": {},
     "output_type": "execute_result"
    }
   ],
   "source": [
    "type(float_num)"
   ]
  },
  {
   "cell_type": "code",
   "execution_count": 13,
   "id": "53f06fe4-f8c3-4d5c-b86f-63a44b12f418",
   "metadata": {},
   "outputs": [
    {
     "data": {
      "text/plain": [
       "bool"
      ]
     },
     "execution_count": 13,
     "metadata": {},
     "output_type": "execute_result"
    }
   ],
   "source": [
    "type(Isnum)"
   ]
  },
  {
   "cell_type": "code",
   "execution_count": 14,
   "id": "59153883-07df-44b7-a8a5-386c45ebcef7",
   "metadata": {},
   "outputs": [],
   "source": [
    "vector_cor = 1+2j"
   ]
  },
  {
   "cell_type": "code",
   "execution_count": 15,
   "id": "153630e4-2308-4c57-ac2e-a385726bf0da",
   "metadata": {},
   "outputs": [
    {
     "data": {
      "text/plain": [
       "complex"
      ]
     },
     "execution_count": 15,
     "metadata": {},
     "output_type": "execute_result"
    }
   ],
   "source": [
    "type(vector_cor)"
   ]
  },
  {
   "cell_type": "code",
   "execution_count": 16,
   "id": "100a8319-bd6d-42d8-b51a-980d6e551c89",
   "metadata": {},
   "outputs": [],
   "source": [
    "## Reserved keywords\n",
    "\n",
    "## False\tawait\t  else\t    import\t       pass\n",
    "## None\tbreak\t  except\tin\t           raise\n",
    "## True\tclass\t  finally\tis\t           return\n",
    "## and\t    continue  for\t    lambda\t       try\n",
    "## as\t    def\t      from\t    nonlocal\t   while\n",
    "## assert\tdel  \t  global\tnot\t           with\n",
    "## async\telif\t  if\t    or\t           yield\n",
    "\n"
   ]
  },
  {
   "cell_type": "code",
   "execution_count": 17,
   "id": "529b772f-14e8-4016-a353-5b74ae10bdf9",
   "metadata": {},
   "outputs": [
    {
     "data": {
      "text/plain": [
       "False"
      ]
     },
     "execution_count": 17,
     "metadata": {},
     "output_type": "execute_result"
    }
   ],
   "source": [
    "True and False"
   ]
  },
  {
   "cell_type": "code",
   "execution_count": 18,
   "id": "737e8bd0-ff3c-4d5e-94d7-6442b4afbee6",
   "metadata": {},
   "outputs": [
    {
     "data": {
      "text/plain": [
       "False"
      ]
     },
     "execution_count": 18,
     "metadata": {},
     "output_type": "execute_result"
    }
   ],
   "source": [
    "False and False"
   ]
  },
  {
   "cell_type": "code",
   "execution_count": 19,
   "id": "98e285a6-c301-4402-9b6b-923913ae4e88",
   "metadata": {},
   "outputs": [
    {
     "data": {
      "text/plain": [
       "True"
      ]
     },
     "execution_count": 19,
     "metadata": {},
     "output_type": "execute_result"
    }
   ],
   "source": [
    "True and True"
   ]
  },
  {
   "cell_type": "code",
   "execution_count": 20,
   "id": "00884333-d932-42cd-bea2-13e9d4bc36f7",
   "metadata": {},
   "outputs": [
    {
     "data": {
      "text/plain": [
       "False"
      ]
     },
     "execution_count": 20,
     "metadata": {},
     "output_type": "execute_result"
    }
   ],
   "source": [
    "not True"
   ]
  },
  {
   "cell_type": "code",
   "execution_count": 21,
   "id": "7880c482-0671-4935-920e-95b92c521dd4",
   "metadata": {},
   "outputs": [
    {
     "data": {
      "text/plain": [
       "bool"
      ]
     },
     "execution_count": 21,
     "metadata": {},
     "output_type": "execute_result"
    }
   ],
   "source": [
    "type(not False)"
   ]
  },
  {
   "cell_type": "code",
   "execution_count": 22,
   "id": "ef855b10-6955-47df-b074-0d6381041414",
   "metadata": {},
   "outputs": [
    {
     "data": {
      "text/plain": [
       "False"
      ]
     },
     "execution_count": 22,
     "metadata": {},
     "output_type": "execute_result"
    }
   ],
   "source": [
    "bool(0)"
   ]
  },
  {
   "cell_type": "code",
   "execution_count": 23,
   "id": "c0a5d86f-1174-44f8-8aee-9eccce706a78",
   "metadata": {},
   "outputs": [
    {
     "data": {
      "text/plain": [
       "True"
      ]
     },
     "execution_count": 23,
     "metadata": {},
     "output_type": "execute_result"
    }
   ],
   "source": [
    "bool(1)"
   ]
  },
  {
   "cell_type": "code",
   "execution_count": 24,
   "id": "19a119dd-2037-4332-877f-379a60ad1cb0",
   "metadata": {},
   "outputs": [],
   "source": [
    "t = str('23')"
   ]
  },
  {
   "cell_type": "code",
   "execution_count": 25,
   "id": "4f8d1612-9841-4c86-8365-2ee942e5b546",
   "metadata": {},
   "outputs": [
    {
     "data": {
      "text/plain": [
       "'23'"
      ]
     },
     "execution_count": 25,
     "metadata": {},
     "output_type": "execute_result"
    }
   ],
   "source": [
    "t"
   ]
  },
  {
   "cell_type": "code",
   "execution_count": 26,
   "id": "1836d17b-7ae4-49ca-b6b6-5f68e5482054",
   "metadata": {},
   "outputs": [],
   "source": [
    "t = int(t)"
   ]
  },
  {
   "cell_type": "code",
   "execution_count": 27,
   "id": "d2f5fa3f-b520-4db8-b8d0-0550df8b7c51",
   "metadata": {},
   "outputs": [
    {
     "data": {
      "text/plain": [
       "23"
      ]
     },
     "execution_count": 27,
     "metadata": {},
     "output_type": "execute_result"
    }
   ],
   "source": [
    "t"
   ]
  },
  {
   "cell_type": "markdown",
   "id": "f3bc7974-5f99-48d9-a232-fee3b64c660b",
   "metadata": {},
   "source": [
    "### Dynamic Typing"
   ]
  },
  {
   "cell_type": "code",
   "execution_count": 28,
   "id": "5b323ce1-fffc-416d-abd7-3c20e6b594bd",
   "metadata": {},
   "outputs": [],
   "source": [
    "a = 12"
   ]
  },
  {
   "cell_type": "code",
   "execution_count": 29,
   "id": "30c27d3a-cba3-403f-ad36-fd9d4abd51b8",
   "metadata": {},
   "outputs": [
    {
     "data": {
      "text/plain": [
       "12"
      ]
     },
     "execution_count": 29,
     "metadata": {},
     "output_type": "execute_result"
    }
   ],
   "source": [
    "a"
   ]
  },
  {
   "cell_type": "code",
   "execution_count": 30,
   "id": "0dbefd13-6f2e-4522-815a-888fadff9510",
   "metadata": {},
   "outputs": [],
   "source": [
    "str1 = 'Learning'"
   ]
  },
  {
   "cell_type": "code",
   "execution_count": 31,
   "id": "9b763510-c6de-4708-bed1-2afb01bba8b8",
   "metadata": {},
   "outputs": [
    {
     "data": {
      "text/plain": [
       "'Learning'"
      ]
     },
     "execution_count": 31,
     "metadata": {},
     "output_type": "execute_result"
    }
   ],
   "source": [
    "str1"
   ]
  },
  {
   "cell_type": "code",
   "execution_count": 32,
   "id": "6a2e13f3-0987-45cb-810f-b4fa282e256e",
   "metadata": {},
   "outputs": [
    {
     "data": {
      "text/plain": [
       "'11'"
      ]
     },
     "execution_count": 32,
     "metadata": {},
     "output_type": "execute_result"
    }
   ],
   "source": [
    "\"1\" +  \"1\""
   ]
  },
  {
   "cell_type": "code",
   "execution_count": 33,
   "id": "b1817868-92a2-46fa-991e-8b405cca7bfe",
   "metadata": {},
   "outputs": [
    {
     "data": {
      "text/plain": [
       "2"
      ]
     },
     "execution_count": 33,
     "metadata": {},
     "output_type": "execute_result"
    }
   ],
   "source": [
    "1+1"
   ]
  },
  {
   "cell_type": "code",
   "execution_count": null,
   "id": "0790bcb8-8a6f-4826-a4f2-a6b4c08cea95",
   "metadata": {},
   "outputs": [],
   "source": []
  }
 ],
 "metadata": {
  "kernelspec": {
   "display_name": "Python 3 (ipykernel)",
   "language": "python",
   "name": "python3"
  },
  "language_info": {
   "codemirror_mode": {
    "name": "ipython",
    "version": 3
   },
   "file_extension": ".py",
   "mimetype": "text/x-python",
   "name": "python",
   "nbconvert_exporter": "python",
   "pygments_lexer": "ipython3",
   "version": "3.10.8"
  }
 },
 "nbformat": 4,
 "nbformat_minor": 5
}
