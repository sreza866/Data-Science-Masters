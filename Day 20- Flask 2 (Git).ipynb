{
 "cells": [
  {
   "cell_type": "markdown",
   "id": "cafdef4e",
   "metadata": {},
   "source": [
    "### Git"
   ]
  },
  {
   "cell_type": "markdown",
   "id": "e8973c82",
   "metadata": {},
   "source": [
    "<span style = 'font-size:0.8em;'>\n",
    "Git is a distributed version control system (DVCS) used for tracking changes in source code during software development. It allows multiple developers to collaborate on projects by managing a history of changes to files, facilitating collaboration, and enabling the coordination of work among team members. Git offers features like branching, merging, and versioning, which make it powerful for managing projects of any size. It's widely used in software development for its efficiency, reliability, and flexibility.\n",
    "</span>"
   ]
  },
  {
   "cell_type": "markdown",
   "id": "6af41ebd",
   "metadata": {},
   "source": [
    "create a new repository on the command line\n",
    "<span style = 'font-size:0.8em;'>\n",
    "    \n",
    "\n",
    "    echo \"# flask_app\" >> README.md\n",
    "    git init\n",
    "    git add README.md\n",
    "    git commit -m \"first commit\"\n",
    "    git branch -M main\n",
    "    git remote add origin https://github.com/sreza866/flask_app.git\n",
    "    git remote remove origin (if fatal error:)\n",
    "    git push -u origin main\n",
    "\n",
    "</span>"
   ]
  },
  {
   "cell_type": "markdown",
   "id": "11bd7459",
   "metadata": {},
   "source": [
    "push an existing repository from the command line\n",
    "<span style = 'font-size:0.8em;'>\n",
    "\n",
    "    git remote add origin https://github.com/sreza866/flask_app.git\n",
    "    git branch -M main\n",
    "    git push -u origin main\n",
    "</span>\n"
   ]
  },
  {
   "cell_type": "markdown",
   "id": "df0e8865",
   "metadata": {},
   "source": [
    "<span style = 'font-size:0.8em;'>\n",
    "\n",
    "Here's a brief overview of common Git commands along with their meanings and typical usage steps:\n",
    "\n",
    "1. **git init**:\n",
    "   - Meaning: Initializes a new Git repository in the current directory.\n",
    "   - Steps:\n",
    "     1. Navigate to the directory where you want to create a new Git repository.\n",
    "     2. Run `git init`.\n",
    "\n",
    "2. **git clone <repository_URL>**:\n",
    "   - Meaning: Copies an existing Git repository from a remote server to your local machine.\n",
    "   - Steps:\n",
    "     1. Copy the URL of the repository you want to clone.\n",
    "     2. Navigate to the directory where you want to clone the repository.\n",
    "     3. Run `git clone <repository_URL>`.\n",
    "\n",
    "3. **git add <file(s)>**:\n",
    "   - Meaning: Adds file changes to the staging area, preparing them to be committed.\n",
    "   - Steps:\n",
    "     1. Make changes to your files.\n",
    "     2. Run `git add <file(s)>` to stage the changes.\n",
    "\n",
    "4. **git commit -m \"Commit message\"**:\n",
    "   - Meaning: Records staged changes to the repository with a descriptive commit message.\n",
    "   - Steps:\n",
    "     1. Stage the changes using `git add`.\n",
    "     2. Run `git commit -m \"Commit message\"` to commit the changes.\n",
    "\n",
    "5. **git status**:\n",
    "   - Meaning: Displays the current state of the working directory and the staging area.\n",
    "   - Steps: Simply run `git status` to see the status.\n",
    "\n",
    "6. **git push**:\n",
    "   - Meaning: Uploads local repository content to a remote repository.\n",
    "   - Steps:\n",
    "     1. Make sure you have committed your changes locally.\n",
    "     2. Run `git push` to push changes to the remote repository.\n",
    "\n",
    "7. **git pull**:\n",
    "   - Meaning: Fetches changes from a remote repository and merges them into the local repository.\n",
    "   - Steps: Simply run `git pull` to fetch and merge changes from the remote repository.\n",
    "\n",
    "8. **git branch**:\n",
    "   - Meaning: Lists existing branches or creates a new branch.\n",
    "   - Steps:\n",
    "     - To list branches: Run `git branch`.\n",
    "     - To create a new branch: Run `git branch <branch_name>`.\n",
    "\n",
    "9. **git checkout <branch_name>**:\n",
    "   - Meaning: Switches to the specified branch.\n",
    "   - Steps: Run `git checkout <branch_name>` to switch to the desired branch.\n",
    "\n",
    "10. **git merge <branch_name>**:\n",
    "    - Meaning: Combines changes from the specified branch into the current branch.\n",
    "    - Steps:\n",
    "      1. Switch to the branch you want to merge changes into.\n",
    "      2. Run `git merge <branch_name>`.\n",
    "\n",
    "These are some of the fundamental Git commands and their typical usage steps.\n",
    "</span>"
   ]
  },
  {
   "cell_type": "code",
   "execution_count": null,
   "id": "f6335245",
   "metadata": {},
   "outputs": [],
   "source": []
  }
 ],
 "metadata": {
  "kernelspec": {
   "display_name": "Python 3 (ipykernel)",
   "language": "python",
   "name": "python3"
  },
  "language_info": {
   "codemirror_mode": {
    "name": "ipython",
    "version": 3
   },
   "file_extension": ".py",
   "mimetype": "text/x-python",
   "name": "python",
   "nbconvert_exporter": "python",
   "pygments_lexer": "ipython3",
   "version": "3.10.9"
  }
 },
 "nbformat": 4,
 "nbformat_minor": 5
}
