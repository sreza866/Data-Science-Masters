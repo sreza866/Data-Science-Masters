{
 "cells": [
  {
   "cell_type": "code",
   "execution_count": 1,
   "id": "3717ba65-af09-474b-bce8-272e9be76ee3",
   "metadata": {},
   "outputs": [],
   "source": [
    "name = 'Data Science Masters'"
   ]
  },
  {
   "cell_type": "code",
   "execution_count": 2,
   "id": "88867dc4-2291-42fa-b7ab-b31f13ac4c95",
   "metadata": {},
   "outputs": [
    {
     "data": {
      "text/plain": [
       "'dATA sCIENCE mASTERS'"
      ]
     },
     "execution_count": 2,
     "metadata": {},
     "output_type": "execute_result"
    }
   ],
   "source": [
    "name.swapcase()"
   ]
  },
  {
   "cell_type": "code",
   "execution_count": 3,
   "id": "55c94aaa-0d8e-4b5a-892f-d1b31e72e6c9",
   "metadata": {},
   "outputs": [
    {
     "data": {
      "text/plain": [
       "'Data Science Masters'"
      ]
     },
     "execution_count": 3,
     "metadata": {},
     "output_type": "execute_result"
    }
   ],
   "source": [
    "name.title()"
   ]
  },
  {
   "cell_type": "code",
   "execution_count": 4,
   "id": "a78adba1-46db-4d28-a983-d8ba6a065677",
   "metadata": {},
   "outputs": [
    {
     "data": {
      "text/plain": [
       "'Data science masters'"
      ]
     },
     "execution_count": 4,
     "metadata": {},
     "output_type": "execute_result"
    }
   ],
   "source": [
    "name.capitalize()"
   ]
  },
  {
   "cell_type": "markdown",
   "id": "2b3e72aa-a927-474b-981d-277b89d4066c",
   "metadata": {},
   "source": [
    "## Reversing a string"
   ]
  },
  {
   "cell_type": "code",
   "execution_count": 5,
   "id": "c27e216c-1aea-4e27-8c50-ce843170e40e",
   "metadata": {},
   "outputs": [
    {
     "data": {
      "text/plain": [
       "'sretsaM ecneicS ataD'"
      ]
     },
     "execution_count": 5,
     "metadata": {},
     "output_type": "execute_result"
    }
   ],
   "source": [
    "name[::-1]"
   ]
  },
  {
   "cell_type": "code",
   "execution_count": 6,
   "id": "12992abf-9970-4d88-9d95-56b920cf1c20",
   "metadata": {},
   "outputs": [
    {
     "data": {
      "text/plain": [
       "'s r e t s a M   e c n e i c S   a t a D'"
      ]
     },
     "execution_count": 6,
     "metadata": {},
     "output_type": "execute_result"
    }
   ],
   "source": [
    "' '.join(reversed(name))"
   ]
  },
  {
   "cell_type": "code",
   "execution_count": 7,
   "id": "232b5612-c24d-46d2-ab9b-f774569fb072",
   "metadata": {},
   "outputs": [
    {
     "data": {
      "text/plain": [
       "'a b c d'"
      ]
     },
     "execution_count": 7,
     "metadata": {},
     "output_type": "execute_result"
    }
   ],
   "source": [
    "' '.join(\"abcd\")"
   ]
  },
  {
   "cell_type": "code",
   "execution_count": 8,
   "id": "82f68d2d-bd30-4bab-b471-0a20d529a784",
   "metadata": {},
   "outputs": [
    {
     "data": {
      "text/plain": [
       "'t n a'"
      ]
     },
     "execution_count": 8,
     "metadata": {},
     "output_type": "execute_result"
    }
   ],
   "source": [
    "' '.join(reversed('ant'))"
   ]
  },
  {
   "cell_type": "code",
   "execution_count": 9,
   "id": "68593bcc-18f2-4059-bc9b-6a45c523f8c7",
   "metadata": {},
   "outputs": [
    {
     "data": {
      "text/plain": [
       "'t Myskills n Myskills a'"
      ]
     },
     "execution_count": 9,
     "metadata": {},
     "output_type": "execute_result"
    }
   ],
   "source": [
    "' Myskills '.join(reversed('ant'))"
   ]
  },
  {
   "cell_type": "code",
   "execution_count": 10,
   "id": "cca9603f-8ca0-48fc-b38e-323fbdd3a253",
   "metadata": {},
   "outputs": [
    {
     "data": {
      "text/plain": [
       "['t', 'n', 'a']"
      ]
     },
     "execution_count": 10,
     "metadata": {},
     "output_type": "execute_result"
    }
   ],
   "source": [
    "## typecasting\n",
    "list(reversed(\"ant\"))"
   ]
  },
  {
   "cell_type": "code",
   "execution_count": 11,
   "id": "c8a62c55-18b3-4b66-8898-1602165256dd",
   "metadata": {},
   "outputs": [
    {
     "data": {
      "text/plain": [
       "'Data Science Masters'"
      ]
     },
     "execution_count": 11,
     "metadata": {},
     "output_type": "execute_result"
    }
   ],
   "source": [
    "name"
   ]
  },
  {
   "cell_type": "code",
   "execution_count": 12,
   "id": "68f053a4-24c4-45e9-9606-35220b4a3472",
   "metadata": {},
   "outputs": [
    {
     "name": "stdout",
     "output_type": "stream",
     "text": [
      "sretsaM ecneicS ataD"
     ]
    }
   ],
   "source": [
    "for i in list(reversed(name)):\n",
    "    print(i,end='')"
   ]
  },
  {
   "cell_type": "code",
   "execution_count": 13,
   "id": "f2c73081-2d99-436a-8dd4-8294fd393d22",
   "metadata": {},
   "outputs": [],
   "source": [
    "# Removing character from the end of the string"
   ]
  },
  {
   "cell_type": "code",
   "execution_count": 14,
   "id": "2a45537e-a252-4393-b79f-fe391d35a381",
   "metadata": {},
   "outputs": [],
   "source": [
    "string_a = ' myskills '"
   ]
  },
  {
   "cell_type": "code",
   "execution_count": 15,
   "id": "d9c0b46c-16e6-4fee-ae57-0794c5906070",
   "metadata": {},
   "outputs": [
    {
     "data": {
      "text/plain": [
       "'myskills'"
      ]
     },
     "execution_count": 15,
     "metadata": {},
     "output_type": "execute_result"
    }
   ],
   "source": [
    "string_a.strip(' ')"
   ]
  },
  {
   "cell_type": "code",
   "execution_count": 16,
   "id": "d9d6ae4d-cd56-49d3-aaf2-ea0ac9190c32",
   "metadata": {},
   "outputs": [
    {
     "data": {
      "text/plain": [
       "' myskills '"
      ]
     },
     "execution_count": 16,
     "metadata": {},
     "output_type": "execute_result"
    }
   ],
   "source": [
    "string_a"
   ]
  },
  {
   "cell_type": "code",
   "execution_count": 17,
   "id": "d8f4d3f3-2c47-4492-be6e-a6000ce68f19",
   "metadata": {},
   "outputs": [
    {
     "data": {
      "text/plain": [
       "'myskills '"
      ]
     },
     "execution_count": 17,
     "metadata": {},
     "output_type": "execute_result"
    }
   ],
   "source": [
    "string_a.lstrip(' ') # Removing leading space"
   ]
  },
  {
   "cell_type": "code",
   "execution_count": 18,
   "id": "cfe353b2-4eba-4d49-869c-3c8c6b0c7ea5",
   "metadata": {},
   "outputs": [
    {
     "data": {
      "text/plain": [
       "' myskills'"
      ]
     },
     "execution_count": 18,
     "metadata": {},
     "output_type": "execute_result"
    }
   ],
   "source": [
    "string_a.rstrip(' ') # Removing trailing space"
   ]
  },
  {
   "cell_type": "code",
   "execution_count": 19,
   "id": "3b6b229d-9524-4758-9d97-9018a24d04e3",
   "metadata": {},
   "outputs": [],
   "source": [
    "string_b = 'Greetings to Data Science'"
   ]
  },
  {
   "cell_type": "code",
   "execution_count": 20,
   "id": "06531301-9512-42f0-aff4-5715e07baf0a",
   "metadata": {},
   "outputs": [
    {
     "data": {
      "text/plain": [
       "'Greetings from Data Science'"
      ]
     },
     "execution_count": 20,
     "metadata": {},
     "output_type": "execute_result"
    }
   ],
   "source": [
    "string_b.replace('to','from')"
   ]
  },
  {
   "cell_type": "code",
   "execution_count": 21,
   "id": "28c9d59c-dd0a-4f22-8834-d4c2bd868a25",
   "metadata": {},
   "outputs": [
    {
     "data": {
      "text/plain": [
       "'Greetings to Data Science'"
      ]
     },
     "execution_count": 21,
     "metadata": {},
     "output_type": "execute_result"
    }
   ],
   "source": [
    "string_b"
   ]
  },
  {
   "cell_type": "code",
   "execution_count": 22,
   "id": "77563d65-ae8a-4c3d-92d9-ffcf0df4369f",
   "metadata": {},
   "outputs": [
    {
     "data": {
      "text/plain": [
       "'Meetings to Data Science'"
      ]
     },
     "execution_count": 22,
     "metadata": {},
     "output_type": "execute_result"
    }
   ],
   "source": [
    "string_b.replace('Greet','Meet')"
   ]
  },
  {
   "cell_type": "code",
   "execution_count": 23,
   "id": "41d40793-ec39-4db5-8688-288ff5a5ac88",
   "metadata": {},
   "outputs": [
    {
     "data": {
      "text/plain": [
       "'Greetings to Bata Science'"
      ]
     },
     "execution_count": 23,
     "metadata": {},
     "output_type": "execute_result"
    }
   ],
   "source": [
    "string_b.replace('D','B')"
   ]
  },
  {
   "cell_type": "code",
   "execution_count": 24,
   "id": "5fcafa4d-a81d-4f39-bae9-a2b76cd1ab24",
   "metadata": {},
   "outputs": [],
   "source": [
    "var_a = string_b.replace('D','B')"
   ]
  },
  {
   "cell_type": "code",
   "execution_count": 25,
   "id": "79ae9d64-8243-4f37-9a5d-e92245f979af",
   "metadata": {},
   "outputs": [
    {
     "data": {
      "text/plain": [
       "'Greetings to Bata Science'"
      ]
     },
     "execution_count": 25,
     "metadata": {},
     "output_type": "execute_result"
    }
   ],
   "source": [
    "var_a"
   ]
  },
  {
   "cell_type": "code",
   "execution_count": 26,
   "id": "48caf384-8aa5-49fb-84b8-8453cb100319",
   "metadata": {},
   "outputs": [
    {
     "name": "stdout",
     "output_type": "stream",
     "text": [
      "139922519920112\n",
      "139922519970224\n"
     ]
    }
   ],
   "source": [
    "print(id(string_b))\n",
    "print(id(var_a))"
   ]
  },
  {
   "cell_type": "code",
   "execution_count": 27,
   "id": "5ef955cd-be04-4e44-bd8c-68372926e0f8",
   "metadata": {},
   "outputs": [
    {
     "name": "stdout",
     "output_type": "stream",
     "text": [
      "hello\n",
      "world\n"
     ]
    }
   ],
   "source": [
    "string_g = 'hello\\nworld'\n",
    "print(string_g)"
   ]
  },
  {
   "cell_type": "code",
   "execution_count": 28,
   "id": "d6c921dd-87f9-4185-94a4-1e856b80abed",
   "metadata": {},
   "outputs": [
    {
     "data": {
      "text/plain": [
       "'hello\\nworld'"
      ]
     },
     "execution_count": 28,
     "metadata": {},
     "output_type": "execute_result"
    }
   ],
   "source": [
    "'hello\\nworld'"
   ]
  },
  {
   "cell_type": "code",
   "execution_count": 29,
   "id": "3b3fd0c8-895a-4eb0-b22e-9d2d2c16163a",
   "metadata": {},
   "outputs": [
    {
     "data": {
      "text/plain": [
       "'hello   world'"
      ]
     },
     "execution_count": 29,
     "metadata": {},
     "output_type": "execute_result"
    }
   ],
   "source": [
    "'hello\\tworld'.expandtabs()"
   ]
  },
  {
   "cell_type": "code",
   "execution_count": 30,
   "id": "bc21a31f-d152-41c3-8bb2-a727448aeaff",
   "metadata": {},
   "outputs": [
    {
     "data": {
      "text/plain": [
       "'Welcome to myskills.Welcome to Dat cience Masters'"
      ]
     },
     "execution_count": 30,
     "metadata": {},
     "output_type": "execute_result"
    }
   ],
   "source": [
    "str1 = 'Welcome to myskills.Welcome to Dat cience Masters'\n",
    "str1"
   ]
  },
  {
   "cell_type": "code",
   "execution_count": 31,
   "id": "6615b092-c72f-446f-bb50-c8d48322ddea",
   "metadata": {},
   "outputs": [
    {
     "data": {
      "text/plain": [
       "'Welcome to myskills.Welcome to Data Science Masters'"
      ]
     },
     "execution_count": 31,
     "metadata": {},
     "output_type": "execute_result"
    }
   ],
   "source": [
    "# Replace Dat with Data and cience with Science  \n",
    "str1.replace('Dat','Data').replace('cience','Science')"
   ]
  },
  {
   "cell_type": "code",
   "execution_count": 32,
   "id": "a4bc4faf-c9d6-44e9-99c2-8e941ee9f231",
   "metadata": {},
   "outputs": [
    {
     "data": {
      "text/plain": [
       "False"
      ]
     },
     "execution_count": 32,
     "metadata": {},
     "output_type": "execute_result"
    }
   ],
   "source": [
    "str1.isupper() # Return True if the string is an uppercase string, False otherwise."
   ]
  },
  {
   "cell_type": "code",
   "execution_count": 33,
   "id": "7357ab26-56bd-447f-90b6-41d4e0ce00e1",
   "metadata": {},
   "outputs": [],
   "source": [
    "str2=\"KRISH\""
   ]
  },
  {
   "cell_type": "code",
   "execution_count": 34,
   "id": "af36d044-f00c-4289-a006-e2bb925e9695",
   "metadata": {},
   "outputs": [
    {
     "data": {
      "text/plain": [
       "True"
      ]
     },
     "execution_count": 34,
     "metadata": {},
     "output_type": "execute_result"
    }
   ],
   "source": [
    "str2.isupper()"
   ]
  },
  {
   "cell_type": "code",
   "execution_count": 35,
   "id": "da33421b-44a0-44ff-95f3-90eb52fc8ef6",
   "metadata": {},
   "outputs": [
    {
     "data": {
      "text/plain": [
       "False"
      ]
     },
     "execution_count": 35,
     "metadata": {},
     "output_type": "execute_result"
    }
   ],
   "source": [
    "str1.islower() # Return True if the string is a lowercase string, False otherwise."
   ]
  },
  {
   "cell_type": "code",
   "execution_count": 36,
   "id": "2e17d76d-05e0-45c1-9958-619a09583447",
   "metadata": {},
   "outputs": [
    {
     "data": {
      "text/plain": [
       "False"
      ]
     },
     "execution_count": 36,
     "metadata": {},
     "output_type": "execute_result"
    }
   ],
   "source": [
    "str1.isspace() # Return True if the string is a whitespace string, False otherwise."
   ]
  },
  {
   "cell_type": "code",
   "execution_count": 37,
   "id": "6b45adab-a6f1-4ce3-9e39-dd6aae1b5f27",
   "metadata": {},
   "outputs": [
    {
     "data": {
      "text/plain": [
       "True"
      ]
     },
     "execution_count": 37,
     "metadata": {},
     "output_type": "execute_result"
    }
   ],
   "source": [
    "' '.isspace()"
   ]
  },
  {
   "cell_type": "code",
   "execution_count": 38,
   "id": "eed05689-ffe1-4288-bf85-856ab225378a",
   "metadata": {},
   "outputs": [
    {
     "name": "stdout",
     "output_type": "stream",
     "text": [
      "Hello\n"
     ]
    }
   ],
   "source": [
    "if \" \".isspace():\n",
    "    print(\"Hello\")"
   ]
  },
  {
   "cell_type": "code",
   "execution_count": 39,
   "id": "659b33c7-cd11-4217-8ce8-d4b8a08dbe2c",
   "metadata": {},
   "outputs": [
    {
     "data": {
      "text/plain": [
       "'myskills'"
      ]
     },
     "execution_count": 39,
     "metadata": {},
     "output_type": "execute_result"
    }
   ],
   "source": [
    "str2=\"myskills\"\n",
    "str2"
   ]
  },
  {
   "cell_type": "code",
   "execution_count": 40,
   "id": "49d6aaf8-d176-49a3-9b31-4bbeb5099daa",
   "metadata": {},
   "outputs": [
    {
     "data": {
      "text/plain": [
       "True"
      ]
     },
     "execution_count": 40,
     "metadata": {},
     "output_type": "execute_result"
    }
   ],
   "source": [
    "str2.endswith('s') # Return True if S ends with the specified suffix, False otherwise."
   ]
  },
  {
   "cell_type": "code",
   "execution_count": 41,
   "id": "c8b9e99a-0d04-45a0-a3e6-539114dcdbc1",
   "metadata": {},
   "outputs": [
    {
     "data": {
      "text/plain": [
       "True"
      ]
     },
     "execution_count": 41,
     "metadata": {},
     "output_type": "execute_result"
    }
   ],
   "source": [
    "str2.startswith('m') # Return True if S starts with the specified prefix, False otherwise."
   ]
  },
  {
   "cell_type": "code",
   "execution_count": 42,
   "id": "561c6d19-8ad8-49e8-b86e-dd2dff7d2c9a",
   "metadata": {},
   "outputs": [
    {
     "data": {
      "text/plain": [
       "True"
      ]
     },
     "execution_count": 42,
     "metadata": {},
     "output_type": "execute_result"
    }
   ],
   "source": [
    "## check if all the char in string are alphanumeric\n",
    "a=\"abcd1234\"\n",
    "a.isalnum()"
   ]
  },
  {
   "cell_type": "code",
   "execution_count": 43,
   "id": "5eb33089-7293-4f28-bac7-0dc2b6cc9036",
   "metadata": {},
   "outputs": [],
   "source": [
    "## to count the number of character in the strings"
   ]
  },
  {
   "cell_type": "code",
   "execution_count": 44,
   "id": "e41b6401-55a0-475f-9591-aa7dbee49580",
   "metadata": {},
   "outputs": [
    {
     "data": {
      "text/plain": [
       "'Welcome to myskills.Welcome to Dat cience Masters'"
      ]
     },
     "execution_count": 44,
     "metadata": {},
     "output_type": "execute_result"
    }
   ],
   "source": [
    "str1"
   ]
  },
  {
   "cell_type": "code",
   "execution_count": 45,
   "id": "2a74b92f-94fc-4ee8-8057-bd31bd70994b",
   "metadata": {},
   "outputs": [
    {
     "name": "stdout",
     "output_type": "stream",
     "text": [
      "49\n"
     ]
    }
   ],
   "source": [
    "count = 0\n",
    "for i in str1:\n",
    "    count+=1\n",
    "print(count)"
   ]
  },
  {
   "cell_type": "code",
   "execution_count": 46,
   "id": "7ae6ece9-52f1-4464-ac8e-2a8ede8d83d5",
   "metadata": {},
   "outputs": [
    {
     "data": {
      "text/plain": [
       "49"
      ]
     },
     "execution_count": 46,
     "metadata": {},
     "output_type": "execute_result"
    }
   ],
   "source": [
    "len(str1)"
   ]
  },
  {
   "cell_type": "code",
   "execution_count": 47,
   "id": "050527c5-f504-4127-8077-1903f8117c6b",
   "metadata": {},
   "outputs": [
    {
     "data": {
      "text/plain": [
       "'myskills'"
      ]
     },
     "execution_count": 47,
     "metadata": {},
     "output_type": "execute_result"
    }
   ],
   "source": [
    "str2"
   ]
  },
  {
   "cell_type": "code",
   "execution_count": 48,
   "id": "7fda73c3-5396-495e-9e78-61f506d4c33b",
   "metadata": {},
   "outputs": [
    {
     "name": "stdout",
     "output_type": "stream",
     "text": [
      "m\n",
      "y\n",
      "s\n",
      "k\n",
      "i\n",
      "l\n",
      "l\n",
      "s\n"
     ]
    }
   ],
   "source": [
    "for i in str2:\n",
    "    print(i)"
   ]
  },
  {
   "cell_type": "code",
   "execution_count": 49,
   "id": "bcbd70a9-fe4c-4485-849f-6e2118d763b4",
   "metadata": {},
   "outputs": [
    {
     "name": "stdout",
     "output_type": "stream",
     "text": [
      "0 = m\n",
      "1 = y\n",
      "2 = s\n",
      "3 = k\n",
      "4 = i\n",
      "5 = l\n",
      "6 = l\n",
      "7 = s\n"
     ]
    }
   ],
   "source": [
    "for i in range(0,len(str2)):\n",
    "    print(i,'=',str2[i])"
   ]
  },
  {
   "cell_type": "code",
   "execution_count": 50,
   "id": "7fe46a3d-658f-46b9-add4-336ad1b2fc98",
   "metadata": {},
   "outputs": [],
   "source": [
    "# we can use index to iterate string in reverse in direction"
   ]
  },
  {
   "cell_type": "code",
   "execution_count": 51,
   "id": "aadae372-d989-4aeb-a5cf-30bcec6500e6",
   "metadata": {},
   "outputs": [
    {
     "data": {
      "text/plain": [
       "'myskills'"
      ]
     },
     "execution_count": 51,
     "metadata": {},
     "output_type": "execute_result"
    }
   ],
   "source": [
    "str2"
   ]
  },
  {
   "cell_type": "code",
   "execution_count": 52,
   "id": "d52673cd-e7ac-43de-beaa-3643e841152a",
   "metadata": {},
   "outputs": [
    {
     "name": "stdout",
     "output_type": "stream",
     "text": [
      "s\n",
      "m\n",
      "y\n",
      "s\n",
      "k\n",
      "i\n",
      "l\n",
      "l\n",
      "s\n"
     ]
    }
   ],
   "source": [
    "for i in range(-1,len(str2)):\n",
    "    print(str2[i])"
   ]
  },
  {
   "cell_type": "code",
   "execution_count": 53,
   "id": "f92e6dd8-d428-4375-8cf4-a5a972f8caa5",
   "metadata": {},
   "outputs": [],
   "source": [
    "ch = len(str2)-1"
   ]
  },
  {
   "cell_type": "code",
   "execution_count": 54,
   "id": "0b2810e2-4345-4461-9bdb-906afa4d67e7",
   "metadata": {},
   "outputs": [
    {
     "data": {
      "text/plain": [
       "7"
      ]
     },
     "execution_count": 54,
     "metadata": {},
     "output_type": "execute_result"
    }
   ],
   "source": [
    "ch"
   ]
  },
  {
   "cell_type": "code",
   "execution_count": 55,
   "id": "53ea1fe0-41f2-4a48-a2d2-9d32766e4c0d",
   "metadata": {},
   "outputs": [
    {
     "name": "stdout",
     "output_type": "stream",
     "text": [
      "s\n",
      "l\n",
      "l\n",
      "i\n",
      "k\n",
      "s\n",
      "y\n",
      "m\n"
     ]
    }
   ],
   "source": [
    "while ch>=0:\n",
    "    print(str2[ch])\n",
    "    ch=ch-1"
   ]
  },
  {
   "cell_type": "code",
   "execution_count": 56,
   "id": "f681c1d7-9669-450e-b5e2-8a7efc8be428",
   "metadata": {},
   "outputs": [
    {
     "name": "stdout",
     "output_type": "stream",
     "text": [
      "slliksym"
     ]
    }
   ],
   "source": [
    "for i in range(len(str2)-1,-1,-1):\n",
    "    print(str2[i],end='')"
   ]
  },
  {
   "cell_type": "code",
   "execution_count": 57,
   "id": "1cf4fd48-8086-4694-9c71-062434db5357",
   "metadata": {},
   "outputs": [
    {
     "name": "stdout",
     "output_type": "stream",
     "text": [
      "slliksym"
     ]
    }
   ],
   "source": [
    "#Best solution \n",
    "for i in range(len(str2)):\n",
    "     print(str2[len(str2) - (i+1)],end=\"\")"
   ]
  },
  {
   "cell_type": "code",
   "execution_count": 58,
   "id": "b3cfa879-8392-421f-8fd3-9d5a75c457cc",
   "metadata": {},
   "outputs": [],
   "source": [
    "Name = \"myskills\"\n",
    "vowels = \"AaEeIiOoUu\""
   ]
  },
  {
   "cell_type": "code",
   "execution_count": 59,
   "id": "bbb59906-ff47-428f-8748-99a79dc3387a",
   "metadata": {},
   "outputs": [
    {
     "name": "stdout",
     "output_type": "stream",
     "text": [
      "m is not a vowel\n",
      "y is not a vowel\n",
      "s is not a vowel\n",
      "k is not a vowel\n",
      "i is a vowel\n",
      "l is not a vowel\n",
      "l is not a vowel\n",
      "s is not a vowel\n"
     ]
    }
   ],
   "source": [
    "for i in Name:\n",
    "    if i in vowels:\n",
    "        print('{} is a vowel'.format(i))\n",
    "    else:\n",
    "        print('{} is not a vowel'.format(i))"
   ]
  },
  {
   "cell_type": "markdown",
   "id": "ab3b2e4d-6bf0-4964-a5b0-74ea848914f1",
   "metadata": {},
   "source": [
    "## List"
   ]
  },
  {
   "cell_type": "code",
   "execution_count": 60,
   "id": "847a176f-cc10-4fe4-bc8e-c56e3249136c",
   "metadata": {},
   "outputs": [
    {
     "data": {
      "text/plain": [
       "list"
      ]
     },
     "execution_count": 60,
     "metadata": {},
     "output_type": "execute_result"
    }
   ],
   "source": [
    "type([])"
   ]
  },
  {
   "cell_type": "code",
   "execution_count": 61,
   "id": "625947a9-0f7b-4f4b-a3c1-5dd7daffc133",
   "metadata": {},
   "outputs": [
    {
     "data": {
      "text/plain": [
       "['Subhan', 'Reza', 'myskills', 24]"
      ]
     },
     "execution_count": 61,
     "metadata": {},
     "output_type": "execute_result"
    }
   ],
   "source": [
    "[\"Subhan\",\"Reza\",\"myskills\",24]"
   ]
  },
  {
   "cell_type": "code",
   "execution_count": 62,
   "id": "5463fb75-6cf9-4623-a13d-98388f58940b",
   "metadata": {},
   "outputs": [
    {
     "data": {
      "text/plain": [
       "[1, 2, 3, 4, 5]"
      ]
     },
     "execution_count": 62,
     "metadata": {},
     "output_type": "execute_result"
    }
   ],
   "source": [
    "list([1,2,3,4,5])"
   ]
  },
  {
   "cell_type": "code",
   "execution_count": 63,
   "id": "9940398a-4937-4d0a-8778-e0dab59f1408",
   "metadata": {},
   "outputs": [
    {
     "data": {
      "text/plain": [
       "'myskills'"
      ]
     },
     "execution_count": 63,
     "metadata": {},
     "output_type": "execute_result"
    }
   ],
   "source": [
    "str2"
   ]
  },
  {
   "cell_type": "code",
   "execution_count": 64,
   "id": "a54e18db-192c-4563-978e-9ca0488a1591",
   "metadata": {},
   "outputs": [
    {
     "data": {
      "text/plain": [
       "['m', 'y', 's', 'k', 'i', 'l', 'l', 's']"
      ]
     },
     "execution_count": 64,
     "metadata": {},
     "output_type": "execute_result"
    }
   ],
   "source": [
    "list(str2)"
   ]
  },
  {
   "cell_type": "code",
   "execution_count": 65,
   "id": "6b0b5799-18db-4aec-bec9-a621147db564",
   "metadata": {},
   "outputs": [],
   "source": [
    "str1 = \"My skills Data science masters\""
   ]
  },
  {
   "cell_type": "code",
   "execution_count": 66,
   "id": "8417235c-c245-4415-b147-7a6c3b49b9a2",
   "metadata": {},
   "outputs": [
    {
     "data": {
      "text/plain": [
       "'My skills Data science masters'"
      ]
     },
     "execution_count": 66,
     "metadata": {},
     "output_type": "execute_result"
    }
   ],
   "source": [
    "str1"
   ]
  },
  {
   "cell_type": "code",
   "execution_count": 67,
   "id": "d6c4f8dd-f6c5-40a3-8507-ae7afa7d7972",
   "metadata": {},
   "outputs": [
    {
     "data": {
      "text/plain": [
       "['My', 'skills', 'Data', 'science', 'masters']"
      ]
     },
     "execution_count": 67,
     "metadata": {},
     "output_type": "execute_result"
    }
   ],
   "source": [
    "list(str1.split(\" \"))"
   ]
  },
  {
   "cell_type": "code",
   "execution_count": 68,
   "id": "0f76ea63-4757-448d-bda7-c41081abdcb8",
   "metadata": {},
   "outputs": [],
   "source": [
    "lst1=str1.split(\" \")"
   ]
  },
  {
   "cell_type": "code",
   "execution_count": 69,
   "id": "d769d699-80fa-4ced-a9f5-79d76d2c0b4a",
   "metadata": {},
   "outputs": [
    {
     "data": {
      "text/plain": [
       "['My', 'skills', 'Data', 'science', 'masters']"
      ]
     },
     "execution_count": 69,
     "metadata": {},
     "output_type": "execute_result"
    }
   ],
   "source": [
    "lst1"
   ]
  },
  {
   "cell_type": "code",
   "execution_count": 70,
   "id": "a13ee01d-6c16-4631-a7dc-1b6b9d4eedda",
   "metadata": {},
   "outputs": [
    {
     "data": {
      "text/plain": [
       "['skills', 'Data', 'science', 'masters']"
      ]
     },
     "execution_count": 70,
     "metadata": {},
     "output_type": "execute_result"
    }
   ],
   "source": [
    "lst1[1:]"
   ]
  },
  {
   "cell_type": "code",
   "execution_count": 71,
   "id": "4219b1a7-af83-484c-ae18-ed7532b0d9b8",
   "metadata": {},
   "outputs": [],
   "source": [
    "lst1[2]=\"Datas\""
   ]
  },
  {
   "cell_type": "code",
   "execution_count": 72,
   "id": "104db873-c625-41cd-a9d3-fb55b0ff38f0",
   "metadata": {},
   "outputs": [
    {
     "data": {
      "text/plain": [
       "['My', 'skills', 'Datas', 'science', 'masters']"
      ]
     },
     "execution_count": 72,
     "metadata": {},
     "output_type": "execute_result"
    }
   ],
   "source": [
    "lst1"
   ]
  },
  {
   "cell_type": "code",
   "execution_count": 73,
   "id": "1071e7de-babf-4972-9c65-1f8584ae718a",
   "metadata": {},
   "outputs": [
    {
     "data": {
      "text/plain": [
       "['masters', 'science', 'Datas', 'skills', 'My']"
      ]
     },
     "execution_count": 73,
     "metadata": {},
     "output_type": "execute_result"
    }
   ],
   "source": [
    "lst1[::-1]  # -1 refers iterate in reverse with step 2"
   ]
  },
  {
   "cell_type": "code",
   "execution_count": 74,
   "id": "f8c7ae83-a2b2-46e5-ba53-cb8a84da4fd3",
   "metadata": {},
   "outputs": [
    {
     "data": {
      "text/plain": [
       "['masters', 'Datas', 'My']"
      ]
     },
     "execution_count": 74,
     "metadata": {},
     "output_type": "execute_result"
    }
   ],
   "source": [
    "lst1[::-2]    # -2 refers iterate in reverse with step 2"
   ]
  },
  {
   "cell_type": "code",
   "execution_count": 75,
   "id": "90466820-a715-42ed-89bf-0ca1a779be49",
   "metadata": {},
   "outputs": [
    {
     "data": {
      "text/plain": [
       "['My']"
      ]
     },
     "execution_count": 75,
     "metadata": {},
     "output_type": "execute_result"
    }
   ],
   "source": [
    "lst1[-5::-2]"
   ]
  },
  {
   "cell_type": "code",
   "execution_count": 76,
   "id": "792fa68c-584e-4d18-b212-90761527373a",
   "metadata": {},
   "outputs": [
    {
     "data": {
      "text/plain": [
       "['My', 'skills', 'Datas', 'science', 'masters']"
      ]
     },
     "execution_count": 76,
     "metadata": {},
     "output_type": "execute_result"
    }
   ],
   "source": [
    "lst1"
   ]
  },
  {
   "cell_type": "code",
   "execution_count": 77,
   "id": "5505d2e9-84ee-41d7-9c02-ba533ca9d8de",
   "metadata": {},
   "outputs": [
    {
     "data": {
      "text/plain": [
       "['My', 'skills', 'Datas', 'science', 'masters', 'new element', 3]"
      ]
     },
     "execution_count": 77,
     "metadata": {},
     "output_type": "execute_result"
    }
   ],
   "source": [
    "## concatenation operation\n",
    "lst1 + ['new element',3]"
   ]
  },
  {
   "cell_type": "code",
   "execution_count": 78,
   "id": "2446e76f-09b3-4729-a5b0-2f71386b49f6",
   "metadata": {},
   "outputs": [],
   "source": [
    "## nested list\n",
    "lst2=lst1 + [['new element',3]]"
   ]
  },
  {
   "cell_type": "code",
   "execution_count": 79,
   "id": "0e2c7e86-f584-4c99-bdbe-6d2ea72b3203",
   "metadata": {},
   "outputs": [
    {
     "data": {
      "text/plain": [
       "['My', 'skills', 'Datas', 'science', 'masters', ['new element', 3]]"
      ]
     },
     "execution_count": 79,
     "metadata": {},
     "output_type": "execute_result"
    }
   ],
   "source": [
    "lst2"
   ]
  },
  {
   "cell_type": "code",
   "execution_count": 80,
   "id": "efae05d4-e3c8-46af-bb5a-f8ef9d8cc899",
   "metadata": {},
   "outputs": [
    {
     "data": {
      "text/plain": [
       "'new element'"
      ]
     },
     "execution_count": 80,
     "metadata": {},
     "output_type": "execute_result"
    }
   ],
   "source": [
    "lst2[5][0]"
   ]
  },
  {
   "cell_type": "code",
   "execution_count": 81,
   "id": "b4afeb89-a3eb-4b27-a194-63cb17c7a3ab",
   "metadata": {},
   "outputs": [
    {
     "data": {
      "text/plain": [
       "'new element'"
      ]
     },
     "execution_count": 81,
     "metadata": {},
     "output_type": "execute_result"
    }
   ],
   "source": [
    "lst2[-1][0]"
   ]
  },
  {
   "cell_type": "code",
   "execution_count": 82,
   "id": "9940aa2a-4e58-4f01-9013-2e1553330d0a",
   "metadata": {},
   "outputs": [
    {
     "data": {
      "text/plain": [
       "['My',\n",
       " 'skills',\n",
       " 'Datas',\n",
       " 'science',\n",
       " 'masters',\n",
       " 'My',\n",
       " 'skills',\n",
       " 'Datas',\n",
       " 'science',\n",
       " 'masters']"
      ]
     },
     "execution_count": 82,
     "metadata": {},
     "output_type": "execute_result"
    }
   ],
   "source": [
    "lst1 * 2"
   ]
  },
  {
   "cell_type": "code",
   "execution_count": 83,
   "id": "71d28df3-fec7-46c8-8112-8adb2e2fe52a",
   "metadata": {},
   "outputs": [
    {
     "data": {
      "text/plain": [
       "['My', 'skills', 'Datas', 'science', 'masters']"
      ]
     },
     "execution_count": 83,
     "metadata": {},
     "output_type": "execute_result"
    }
   ],
   "source": [
    "lst1"
   ]
  },
  {
   "cell_type": "code",
   "execution_count": 84,
   "id": "e15c1031-feb8-491d-9fe7-1549bed412c2",
   "metadata": {},
   "outputs": [
    {
     "name": "stdout",
     "output_type": "stream",
     "text": [
      "Present\n"
     ]
    }
   ],
   "source": [
    "if \"science\" in lst1:\n",
    "    print(\"Present\")"
   ]
  },
  {
   "cell_type": "code",
   "execution_count": 85,
   "id": "7e0c3ae1-8d62-41e6-b39b-ec75b7089fd9",
   "metadata": {},
   "outputs": [
    {
     "data": {
      "text/plain": [
       "['My', 'skills', 'Datas', 'science', 'masters']"
      ]
     },
     "execution_count": 85,
     "metadata": {},
     "output_type": "execute_result"
    }
   ],
   "source": [
    "lst1"
   ]
  },
  {
   "cell_type": "code",
   "execution_count": 86,
   "id": "49edf411-0dad-4fc5-a838-8b856adfa1e3",
   "metadata": {},
   "outputs": [
    {
     "name": "stdout",
     "output_type": "stream",
     "text": [
      "science\n"
     ]
    }
   ],
   "source": [
    "for elements in lst1:\n",
    "    if elements==\"science\":\n",
    "        print(elements)\n",
    "        break"
   ]
  },
  {
   "cell_type": "code",
   "execution_count": 87,
   "id": "80068822-7e12-404b-9e68-210f9c7308a2",
   "metadata": {},
   "outputs": [
    {
     "data": {
      "text/plain": [
       "True"
      ]
     },
     "execution_count": 87,
     "metadata": {},
     "output_type": "execute_result"
    }
   ],
   "source": [
    "## check elements inside a list\n",
    "lst=[1,2,3,4]\n",
    "4 in lst"
   ]
  },
  {
   "cell_type": "code",
   "execution_count": 88,
   "id": "0fbea272-a720-4549-b3b3-ea3843d97196",
   "metadata": {},
   "outputs": [
    {
     "data": {
      "text/plain": [
       "True"
      ]
     },
     "execution_count": 88,
     "metadata": {},
     "output_type": "execute_result"
    }
   ],
   "source": [
    "2.0 in lst"
   ]
  },
  {
   "cell_type": "code",
   "execution_count": 89,
   "id": "7dc6f374-a734-4837-b746-57953a66d84d",
   "metadata": {},
   "outputs": [],
   "source": [
    "lst1=[\"Zebra\",\"Monkey\",\"Donkey\",\"Lion\"]\n",
    "lst2=[5,6,2,9,5,8,6]"
   ]
  },
  {
   "cell_type": "code",
   "execution_count": 90,
   "id": "c40c4d6b-352e-4b95-970b-b1822e779247",
   "metadata": {},
   "outputs": [
    {
     "name": "stdout",
     "output_type": "stream",
     "text": [
      "Zebra\n"
     ]
    }
   ],
   "source": [
    "print(max(lst1))   # based on ascii value"
   ]
  },
  {
   "cell_type": "code",
   "execution_count": 91,
   "id": "f5c70276-e4dd-41e6-bddb-804b2f22c0e3",
   "metadata": {},
   "outputs": [
    {
     "data": {
      "text/plain": [
       "9"
      ]
     },
     "execution_count": 91,
     "metadata": {},
     "output_type": "execute_result"
    }
   ],
   "source": [
    "max(lst2)"
   ]
  },
  {
   "cell_type": "code",
   "execution_count": 92,
   "id": "276e97df-1f64-41ff-a52a-436275fabd50",
   "metadata": {},
   "outputs": [
    {
     "data": {
      "text/plain": [
       "'Donkey'"
      ]
     },
     "execution_count": 92,
     "metadata": {},
     "output_type": "execute_result"
    }
   ],
   "source": [
    "min(lst1)"
   ]
  },
  {
   "cell_type": "code",
   "execution_count": 93,
   "id": "259e0897-3c8c-477a-a2f1-f51842e30f7b",
   "metadata": {},
   "outputs": [
    {
     "data": {
      "text/plain": [
       "2"
      ]
     },
     "execution_count": 93,
     "metadata": {},
     "output_type": "execute_result"
    }
   ],
   "source": [
    "min(lst2)"
   ]
  },
  {
   "cell_type": "code",
   "execution_count": 94,
   "id": "079d32d4-9f4b-4e52-8f33-946740be83ad",
   "metadata": {},
   "outputs": [
    {
     "data": {
      "text/plain": [
       "True"
      ]
     },
     "execution_count": 94,
     "metadata": {},
     "output_type": "execute_result"
    }
   ],
   "source": [
    "1.9999999999999999 in [2, 4, 5]"
   ]
  },
  {
   "cell_type": "code",
   "execution_count": 95,
   "id": "233c0285-76b1-45d6-85d1-9dba0386ff85",
   "metadata": {},
   "outputs": [
    {
     "data": {
      "text/plain": [
       "False"
      ]
     },
     "execution_count": 95,
     "metadata": {},
     "output_type": "execute_result"
    }
   ],
   "source": [
    "1.9999999999999 in [2, 4, 5]"
   ]
  },
  {
   "cell_type": "code",
   "execution_count": 96,
   "id": "957e55e8-06cc-4234-886e-b840dd408318",
   "metadata": {},
   "outputs": [
    {
     "data": {
      "text/plain": [
       "True"
      ]
     },
     "execution_count": 96,
     "metadata": {},
     "output_type": "execute_result"
    }
   ],
   "source": [
    "5==5.0"
   ]
  },
  {
   "cell_type": "code",
   "execution_count": 97,
   "id": "da524076-338d-417a-a7f7-27a533b8a99c",
   "metadata": {},
   "outputs": [
    {
     "data": {
      "text/plain": [
       "True"
      ]
     },
     "execution_count": 97,
     "metadata": {},
     "output_type": "execute_result"
    }
   ],
   "source": [
    "lst3=[5,6,2,9,5,8,6]\n",
    "type(lst3[0])  ## output is integer\n",
    "type(5.0)  ### output is float\n",
    "5.0 in lst3 ## output is TRUE"
   ]
  },
  {
   "cell_type": "code",
   "execution_count": 98,
   "id": "bb39f885-8ad1-4419-82bd-a4e60f42ba8c",
   "metadata": {},
   "outputs": [],
   "source": [
    "## Append"
   ]
  },
  {
   "cell_type": "code",
   "execution_count": 99,
   "id": "44156b6a-7e91-4241-a996-909b503837aa",
   "metadata": {},
   "outputs": [],
   "source": [
    "lst = [1,2,3,4,5,6]"
   ]
  },
  {
   "cell_type": "code",
   "execution_count": 100,
   "id": "47ee1d52-ca08-419b-9506-3d5e8d94e965",
   "metadata": {},
   "outputs": [
    {
     "data": {
      "text/plain": [
       "[1, 2, 3, 4, 5, 6]"
      ]
     },
     "execution_count": 100,
     "metadata": {},
     "output_type": "execute_result"
    }
   ],
   "source": [
    "lst"
   ]
  },
  {
   "cell_type": "code",
   "execution_count": 101,
   "id": "78df0620-7095-4f8d-8894-8f71d8dbf91c",
   "metadata": {},
   "outputs": [],
   "source": [
    "lst.append('Myskills')"
   ]
  },
  {
   "cell_type": "code",
   "execution_count": 102,
   "id": "cc450375-8042-4b18-acde-782c973d9559",
   "metadata": {},
   "outputs": [
    {
     "data": {
      "text/plain": [
       "[1, 2, 3, 4, 5, 6, 'Myskills']"
      ]
     },
     "execution_count": 102,
     "metadata": {},
     "output_type": "execute_result"
    }
   ],
   "source": [
    "lst"
   ]
  },
  {
   "cell_type": "code",
   "execution_count": 103,
   "id": "a51d9b8c-0c2a-4237-90e9-5419233df7d2",
   "metadata": {},
   "outputs": [],
   "source": [
    "lst.append(['Data','Science','Masters']) # append is an inplace operation"
   ]
  },
  {
   "cell_type": "code",
   "execution_count": 104,
   "id": "6d9544f2-914b-4194-bf4c-c3fc1d57b5c7",
   "metadata": {},
   "outputs": [
    {
     "data": {
      "text/plain": [
       "[1, 2, 3, 4, 5, 6, 'Myskills', ['Data', 'Science', 'Masters']]"
      ]
     },
     "execution_count": 104,
     "metadata": {},
     "output_type": "execute_result"
    }
   ],
   "source": [
    "lst"
   ]
  },
  {
   "cell_type": "code",
   "execution_count": 105,
   "id": "22f8d283-1f1a-4e5a-af52-76fc1b7312d9",
   "metadata": {},
   "outputs": [],
   "source": [
    "lst1=[\"Zebra\",\"Monkey\",\"Donkey\",\"Lion\"]"
   ]
  },
  {
   "cell_type": "code",
   "execution_count": 106,
   "id": "5be94ade-b632-441c-bf6c-2f3393a13bdb",
   "metadata": {},
   "outputs": [
    {
     "data": {
      "text/plain": [
       "['Zebra', 'Monkey', 'Donkey', 'Lion']"
      ]
     },
     "execution_count": 106,
     "metadata": {},
     "output_type": "execute_result"
    }
   ],
   "source": [
    "lst1"
   ]
  },
  {
   "cell_type": "code",
   "execution_count": 107,
   "id": "fb262e91-860e-43a1-886b-5c5033a65c24",
   "metadata": {},
   "outputs": [
    {
     "data": {
      "text/plain": [
       "'Lion'"
      ]
     },
     "execution_count": 107,
     "metadata": {},
     "output_type": "execute_result"
    }
   ],
   "source": [
    "lst1.pop() #Remove and return item at index (default last)."
   ]
  },
  {
   "cell_type": "code",
   "execution_count": 108,
   "id": "18f2007b-b7e0-4bf5-b88f-098026d7ea41",
   "metadata": {},
   "outputs": [
    {
     "data": {
      "text/plain": [
       "'Donkey'"
      ]
     },
     "execution_count": 108,
     "metadata": {},
     "output_type": "execute_result"
    }
   ],
   "source": [
    "lst1.pop(2)"
   ]
  },
  {
   "cell_type": "code",
   "execution_count": 109,
   "id": "4656065a-abbd-4fab-912e-1aa1d5881c7f",
   "metadata": {},
   "outputs": [
    {
     "data": {
      "text/plain": [
       "['Zebra', 'Monkey']"
      ]
     },
     "execution_count": 109,
     "metadata": {},
     "output_type": "execute_result"
    }
   ],
   "source": [
    "lst1"
   ]
  },
  {
   "cell_type": "code",
   "execution_count": 110,
   "id": "87dd3938-d71c-49f6-b757-12fb14c88608",
   "metadata": {},
   "outputs": [],
   "source": [
    "lst1=[\"Zebra\",\"Monkey\",\"Donkey\",\"Lion\"]"
   ]
  },
  {
   "cell_type": "code",
   "execution_count": 111,
   "id": "ef92dc94-704f-4b06-a4dc-4d0b46ccb74f",
   "metadata": {},
   "outputs": [
    {
     "data": {
      "text/plain": [
       "'Zebra'"
      ]
     },
     "execution_count": 111,
     "metadata": {},
     "output_type": "execute_result"
    }
   ],
   "source": [
    "removed_element=lst1.pop(0)\n",
    "removed_element"
   ]
  },
  {
   "cell_type": "code",
   "execution_count": 112,
   "id": "75defbd7-8204-45ee-9b10-8b8677d34dad",
   "metadata": {},
   "outputs": [],
   "source": [
    "# lst1[100]\n",
    "# IndexError list index out of range"
   ]
  },
  {
   "cell_type": "code",
   "execution_count": 113,
   "id": "5793c553-aec3-41c7-8a0e-e53cd0daf442",
   "metadata": {},
   "outputs": [],
   "source": [
    "## Sorting and Reverse method in list"
   ]
  },
  {
   "cell_type": "code",
   "execution_count": 114,
   "id": "49e6ff26-058c-4b49-b16b-663cf07e680e",
   "metadata": {},
   "outputs": [
    {
     "data": {
      "text/plain": [
       "['q', 'e', 'f', 's', 't', 'u']"
      ]
     },
     "execution_count": 114,
     "metadata": {},
     "output_type": "execute_result"
    }
   ],
   "source": [
    "new_list=['q','e','f','s','t','u']\n",
    "new_list"
   ]
  },
  {
   "cell_type": "code",
   "execution_count": 115,
   "id": "23d37128-2318-4120-b5a7-bf90209d8553",
   "metadata": {},
   "outputs": [
    {
     "data": {
      "text/plain": [
       "['u', 't', 's', 'f', 'e', 'q']"
      ]
     },
     "execution_count": 115,
     "metadata": {},
     "output_type": "execute_result"
    }
   ],
   "source": [
    "new_list[::-1]"
   ]
  },
  {
   "cell_type": "code",
   "execution_count": 116,
   "id": "64b868e7-e57f-41e7-8ea1-eece424e15de",
   "metadata": {},
   "outputs": [
    {
     "data": {
      "text/plain": [
       "['q', 'e', 'f', 's', 't', 'u']"
      ]
     },
     "execution_count": 116,
     "metadata": {},
     "output_type": "execute_result"
    }
   ],
   "source": [
    "new_list"
   ]
  },
  {
   "cell_type": "code",
   "execution_count": 117,
   "id": "ed6cd79b-18da-450e-bc61-a96c6ddcd29a",
   "metadata": {},
   "outputs": [],
   "source": [
    "new_list.reverse() # inplace operation"
   ]
  },
  {
   "cell_type": "code",
   "execution_count": 118,
   "id": "e20ffbd3-335a-45ce-82d0-bc1e2705ec3c",
   "metadata": {},
   "outputs": [
    {
     "data": {
      "text/plain": [
       "['u', 't', 's', 'f', 'e', 'q']"
      ]
     },
     "execution_count": 118,
     "metadata": {},
     "output_type": "execute_result"
    }
   ],
   "source": [
    "new_list"
   ]
  },
  {
   "cell_type": "code",
   "execution_count": 119,
   "id": "af3bf6c5-df02-422a-aff4-b8cbe647b31c",
   "metadata": {},
   "outputs": [],
   "source": [
    "new_list1 = [10,19,67,45,90]"
   ]
  },
  {
   "cell_type": "code",
   "execution_count": 120,
   "id": "9e89e2e3-25cd-4a20-9096-45353c5d61bd",
   "metadata": {},
   "outputs": [
    {
     "data": {
      "text/plain": [
       "[10, 19, 67, 45, 90]"
      ]
     },
     "execution_count": 120,
     "metadata": {},
     "output_type": "execute_result"
    }
   ],
   "source": [
    "new_list1"
   ]
  },
  {
   "cell_type": "code",
   "execution_count": 121,
   "id": "31445d7c-9d96-45bc-9c51-3d820d227068",
   "metadata": {},
   "outputs": [],
   "source": [
    "new_list1.sort()"
   ]
  },
  {
   "cell_type": "code",
   "execution_count": 122,
   "id": "a1f1e187-a3b0-4aed-ac56-b3a977e8e765",
   "metadata": {},
   "outputs": [
    {
     "data": {
      "text/plain": [
       "[10, 19, 45, 67, 90]"
      ]
     },
     "execution_count": 122,
     "metadata": {},
     "output_type": "execute_result"
    }
   ],
   "source": [
    "new_list1"
   ]
  },
  {
   "cell_type": "code",
   "execution_count": 123,
   "id": "0a51d296-0d6d-4b5f-9e88-ca79103fe125",
   "metadata": {},
   "outputs": [
    {
     "data": {
      "text/plain": [
       "['u', 't', 's', 'f', 'e', 'q']"
      ]
     },
     "execution_count": 123,
     "metadata": {},
     "output_type": "execute_result"
    }
   ],
   "source": [
    "new_list"
   ]
  },
  {
   "cell_type": "code",
   "execution_count": 124,
   "id": "05a6db7e-a8cb-4c10-a930-051264ba2abc",
   "metadata": {},
   "outputs": [],
   "source": [
    "new_list.sort()"
   ]
  },
  {
   "cell_type": "code",
   "execution_count": 125,
   "id": "6ce5b3af-4f25-4344-9a62-3fd190d828f3",
   "metadata": {},
   "outputs": [
    {
     "data": {
      "text/plain": [
       "['e', 'f', 'q', 's', 't', 'u']"
      ]
     },
     "execution_count": 125,
     "metadata": {},
     "output_type": "execute_result"
    }
   ],
   "source": [
    "new_list"
   ]
  },
  {
   "cell_type": "code",
   "execution_count": 126,
   "id": "f19be5ed-869d-403f-a43c-cfc17dd124b0",
   "metadata": {},
   "outputs": [
    {
     "data": {
      "text/plain": [
       "[90, 67, 45, 19, 10]"
      ]
     },
     "execution_count": 126,
     "metadata": {},
     "output_type": "execute_result"
    }
   ],
   "source": [
    "new_list1.sort(reverse=True) # sorting in descending\n",
    "new_list1"
   ]
  },
  {
   "cell_type": "code",
   "execution_count": 127,
   "id": "8479ec36-1351-4c42-9bad-170ba5ba7379",
   "metadata": {},
   "outputs": [],
   "source": [
    "lst=[1,2,3,4,5,6]\n",
    "lst.append(10)"
   ]
  },
  {
   "cell_type": "code",
   "execution_count": 128,
   "id": "c0fbad6a-c22e-466c-9a7b-eec101964ae7",
   "metadata": {},
   "outputs": [],
   "source": [
    "lst.append(['PW','Skills'])"
   ]
  },
  {
   "cell_type": "code",
   "execution_count": 129,
   "id": "5415e34d-be8b-4fa6-aa32-ef5f08b3e0a4",
   "metadata": {},
   "outputs": [
    {
     "data": {
      "text/plain": [
       "[1, 2, 3, 4, 5, 6, 10, ['PW', 'Skills']]"
      ]
     },
     "execution_count": 129,
     "metadata": {},
     "output_type": "execute_result"
    }
   ],
   "source": [
    "lst"
   ]
  },
  {
   "cell_type": "code",
   "execution_count": 130,
   "id": "5a13329b-a404-4547-affd-73eaf71f259b",
   "metadata": {},
   "outputs": [],
   "source": [
    "lst=[1,2,3,4,5]"
   ]
  },
  {
   "cell_type": "code",
   "execution_count": 131,
   "id": "d8019ae7-43ae-4731-9e60-e91e4fc0e654",
   "metadata": {},
   "outputs": [
    {
     "data": {
      "text/plain": [
       "[1, 2, 3, 4, 5, 'PW', 'Skills']"
      ]
     },
     "execution_count": 131,
     "metadata": {},
     "output_type": "execute_result"
    }
   ],
   "source": [
    "# Extend list by appending elements from the iterable.or adding more elements\n",
    "lst.extend(['PW','Skills']) \n",
    "lst"
   ]
  },
  {
   "cell_type": "markdown",
   "id": "f760b1ee-6521-43af-a56c-b9526da052ef",
   "metadata": {},
   "source": [
    "## Nested List"
   ]
  },
  {
   "cell_type": "code",
   "execution_count": 132,
   "id": "196ca4fa-36e7-4fba-85c7-6acd85d21ba2",
   "metadata": {},
   "outputs": [],
   "source": [
    "# Let's make three lists\n",
    "lst_1=[1,2,3]\n",
    "lst_2=[4,5,6]\n",
    "lst_3=[7,8,9]\n",
    "\n",
    "# Make a list of lists to form a matrix\n",
    "matrix = [lst_1,lst_2,lst_3]"
   ]
  },
  {
   "cell_type": "code",
   "execution_count": 133,
   "id": "575d59b8-c8a0-4b22-b316-3bb084d26bfd",
   "metadata": {},
   "outputs": [
    {
     "data": {
      "text/plain": [
       "[[1, 2, 3], [4, 5, 6], [7, 8, 9]]"
      ]
     },
     "execution_count": 133,
     "metadata": {},
     "output_type": "execute_result"
    }
   ],
   "source": [
    "matrix"
   ]
  },
  {
   "cell_type": "code",
   "execution_count": 134,
   "id": "5b3a9aae-53c7-4d2c-99ac-422ad0e0cda7",
   "metadata": {},
   "outputs": [
    {
     "data": {
      "text/plain": [
       "[4, 5, 6]"
      ]
     },
     "execution_count": 134,
     "metadata": {},
     "output_type": "execute_result"
    }
   ],
   "source": [
    "matrix[1]"
   ]
  },
  {
   "cell_type": "code",
   "execution_count": 135,
   "id": "e88b00b8-261e-4110-a61a-3b38af4f95e9",
   "metadata": {},
   "outputs": [
    {
     "data": {
      "text/plain": [
       "6"
      ]
     },
     "execution_count": 135,
     "metadata": {},
     "output_type": "execute_result"
    }
   ],
   "source": [
    "matrix[1][2]"
   ]
  },
  {
   "cell_type": "code",
   "execution_count": 136,
   "id": "848767d4-5259-46cf-897c-243ded185dd6",
   "metadata": {},
   "outputs": [
    {
     "data": {
      "text/plain": [
       "[8, 9]"
      ]
     },
     "execution_count": 136,
     "metadata": {},
     "output_type": "execute_result"
    }
   ],
   "source": [
    "# Acessing 8,9\n",
    "matrix[2][1:]"
   ]
  },
  {
   "cell_type": "code",
   "execution_count": 137,
   "id": "f8dc9241-1e17-4205-96c6-7e2443c9d42f",
   "metadata": {},
   "outputs": [],
   "source": [
    "## List Comprehension"
   ]
  },
  {
   "cell_type": "code",
   "execution_count": 138,
   "id": "7a9cf266-bb07-4b48-bdaf-2f17c6f9b192",
   "metadata": {},
   "outputs": [
    {
     "data": {
      "text/plain": [
       "[0, 1, 2, 3, 4, 5, 6, 7, 8, 9, 10, 11, 12, 13, 14, 15, 16, 17, 18, 19]"
      ]
     },
     "execution_count": 138,
     "metadata": {},
     "output_type": "execute_result"
    }
   ],
   "source": [
    "[i for i in range(20)]"
   ]
  },
  {
   "cell_type": "code",
   "execution_count": 139,
   "id": "5f623332-cbde-4108-a549-20468198f64e",
   "metadata": {},
   "outputs": [
    {
     "data": {
      "text/plain": [
       "[0, '', 2, '', 4, '', 6, '', 8, '', 10, '', 12, '', 14, '', 16, '', 18, '']"
      ]
     },
     "execution_count": 139,
     "metadata": {},
     "output_type": "execute_result"
    }
   ],
   "source": [
    "# Even number\n",
    "[i if i%2==0 else '' for i in range(0,20)]"
   ]
  },
  {
   "cell_type": "code",
   "execution_count": 140,
   "id": "5ab79bbd-742b-41c2-a940-0802100623ab",
   "metadata": {},
   "outputs": [],
   "source": [
    "## Sum of even numbers and odd numbers"
   ]
  },
  {
   "cell_type": "code",
   "execution_count": 141,
   "id": "0dd8d804-6313-4a30-9d5c-215f139d7c67",
   "metadata": {},
   "outputs": [],
   "source": [
    "lst=[1,2,3,4,5,6,7,8]"
   ]
  },
  {
   "cell_type": "code",
   "execution_count": 142,
   "id": "e640ec75-ee14-48ae-b7f5-363a0d682a35",
   "metadata": {},
   "outputs": [
    {
     "name": "stdout",
     "output_type": "stream",
     "text": [
      "20\n",
      "16\n"
     ]
    }
   ],
   "source": [
    "sum_even=0\n",
    "sum_odd=0\n",
    "for i in lst:\n",
    "    if i%2==0:\n",
    "        sum_even = sum_even+i\n",
    "    else:\n",
    "        sum_odd =sum_odd+i\n",
    "print(sum_even)\n",
    "print(sum_odd)"
   ]
  },
  {
   "cell_type": "code",
   "execution_count": 143,
   "id": "e41a48f6-2733-4037-8643-25118c283ebd",
   "metadata": {},
   "outputs": [
    {
     "data": {
      "text/plain": [
       "20"
      ]
     },
     "execution_count": 143,
     "metadata": {},
     "output_type": "execute_result"
    }
   ],
   "source": [
    "# using list comprehension\n",
    "even_sum=sum([num for num in lst if num%2==0])\n",
    "even_sum"
   ]
  },
  {
   "cell_type": "code",
   "execution_count": 144,
   "id": "a3eea8bd-761d-4033-b6a3-04c78ba82d1f",
   "metadata": {},
   "outputs": [
    {
     "data": {
      "text/plain": [
       "16"
      ]
     },
     "execution_count": 144,
     "metadata": {},
     "output_type": "execute_result"
    }
   ],
   "source": [
    "odd_sum=sum([num for num in lst if num%2!=0])\n",
    "odd_sum"
   ]
  },
  {
   "cell_type": "code",
   "execution_count": 145,
   "id": "0bc8768d-3aa3-4eba-8a0b-4b5f4b1e44bc",
   "metadata": {},
   "outputs": [],
   "source": [
    "lst=[1,2,3,4,5,6,7,8]"
   ]
  },
  {
   "cell_type": "code",
   "execution_count": 146,
   "id": "dad13ef6-d8f3-4f3b-af91-0e471e9e9ffc",
   "metadata": {},
   "outputs": [
    {
     "data": {
      "text/plain": [
       "[1, 4, 9, 16, 25, 36, 49, 64]"
      ]
     },
     "execution_count": 146,
     "metadata": {},
     "output_type": "execute_result"
    }
   ],
   "source": [
    "# Example 1 square of number using list comprehension\n",
    "[i**2 for i in lst]"
   ]
  },
  {
   "cell_type": "code",
   "execution_count": 147,
   "id": "294c0827-8398-4ed3-891b-d1c69f9de9b7",
   "metadata": {},
   "outputs": [],
   "source": [
    "# Example 2 Create a list of only the positive numbers from a given list\n",
    "numbers = [-2, -1, 0, 1, 2, 3, 4]"
   ]
  },
  {
   "cell_type": "code",
   "execution_count": 148,
   "id": "14408d6f-c083-426a-8e87-daf515a719b0",
   "metadata": {},
   "outputs": [
    {
     "data": {
      "text/plain": [
       "[1, 2, 3, 4]"
      ]
     },
     "execution_count": 148,
     "metadata": {},
     "output_type": "execute_result"
    }
   ],
   "source": [
    "[num for num in numbers if num >0 ]"
   ]
  },
  {
   "cell_type": "code",
   "execution_count": 149,
   "id": "84d55ad8-5681-4d9c-9cfb-9e0556b7031a",
   "metadata": {},
   "outputs": [],
   "source": [
    "# Example 3: Create a list of only the first letters of words in a list\n",
    "words = ['apple', 'banana', 'cherry', 'date']"
   ]
  },
  {
   "cell_type": "code",
   "execution_count": 150,
   "id": "6a5979dc-d439-4baf-bc2f-8ff0bc270f87",
   "metadata": {},
   "outputs": [
    {
     "data": {
      "text/plain": [
       "['a', 'b', 'c', 'd']"
      ]
     },
     "execution_count": 150,
     "metadata": {},
     "output_type": "execute_result"
    }
   ],
   "source": [
    "[word[0] for word in words]"
   ]
  },
  {
   "cell_type": "code",
   "execution_count": 151,
   "id": "65e67de5-3e46-42a2-b915-80f6687a75ea",
   "metadata": {},
   "outputs": [],
   "source": [
    "# (9/5)*temp+32 for celsius to fahrenheit"
   ]
  },
  {
   "cell_type": "code",
   "execution_count": 152,
   "id": "d8c29936-94a4-40af-877d-fef2fdfdf113",
   "metadata": {},
   "outputs": [],
   "source": [
    "temp = 37.0 # degree celsius"
   ]
  },
  {
   "cell_type": "code",
   "execution_count": 153,
   "id": "e6a61137-3558-4e4f-b867-8a6cae663b73",
   "metadata": {},
   "outputs": [
    {
     "name": "stdout",
     "output_type": "stream",
     "text": [
      "98.60000000000001\n"
     ]
    }
   ],
   "source": [
    "degree_F = (9/5)*temp+32\n",
    "print(degree_F)"
   ]
  },
  {
   "cell_type": "code",
   "execution_count": 154,
   "id": "54ed007a-c23c-433d-a3d4-4203f034936a",
   "metadata": {},
   "outputs": [],
   "source": [
    "# Example 4: Convert a list of temperatures from Celsius to Fahrenheit uing list comprehesnion\n",
    "celsius_temperatures = [0, 10, 20, 30, 40, 50]"
   ]
  },
  {
   "cell_type": "code",
   "execution_count": 155,
   "id": "c30ade64-9f35-4870-b03b-dd617bf565fa",
   "metadata": {},
   "outputs": [
    {
     "data": {
      "text/plain": [
       "[32.0, 50.0, 68.0, 86.0, 104.0, 122.0]"
      ]
     },
     "execution_count": 155,
     "metadata": {},
     "output_type": "execute_result"
    }
   ],
   "source": [
    "[(9/5)*temp+32 for temp in celsius_temperatures]"
   ]
  },
  {
   "cell_type": "code",
   "execution_count": 156,
   "id": "65728f0d-8228-44f7-93a7-eacbcd560541",
   "metadata": {},
   "outputs": [],
   "source": [
    "# Example 5: Flatten a list of lists into a single list\n",
    "lists = [[1, 2, 3], [4, 5, 6], [7, 8, 9]]"
   ]
  },
  {
   "cell_type": "code",
   "execution_count": 157,
   "id": "48d9d6ec-e209-4642-840f-32d7f00e5421",
   "metadata": {},
   "outputs": [
    {
     "data": {
      "text/plain": [
       "[1, 2, 3, 4, 5, 6, 7, 8, 9]"
      ]
     },
     "execution_count": 157,
     "metadata": {},
     "output_type": "execute_result"
    }
   ],
   "source": [
    "[j for i in lists for j in i]"
   ]
  },
  {
   "cell_type": "code",
   "execution_count": 158,
   "id": "bb2ad21b-5cb2-499e-8a9b-c216dbd4735d",
   "metadata": {},
   "outputs": [],
   "source": [
    "## Using both code and list comprehesnion\n",
    "# Example 2: Create a list of only the prime numbers from a given list\n",
    "numbers = [1, 2, 3, 4, 5, 6, 7, 8, 9, 10]"
   ]
  },
  {
   "cell_type": "code",
   "execution_count": 159,
   "id": "f6be6dac-4fe9-48ad-bee5-e86c65ffccf3",
   "metadata": {},
   "outputs": [
    {
     "name": "stdout",
     "output_type": "stream",
     "text": [
      "[2, 3, 5, 7]\n"
     ]
    }
   ],
   "source": [
    "prime = []\n",
    "for num in numbers:\n",
    "    if num>1:\n",
    "        is_Prime = True\n",
    "        for i in range(2, int(num**0.5)+1):\n",
    "            if num%i==0:\n",
    "                is_Prime=False\n",
    "                break\n",
    "        if is_Prime:\n",
    "            prime.append(num)\n",
    "print(prime)"
   ]
  },
  {
   "cell_type": "code",
   "execution_count": 163,
   "id": "9b7b9a96-3041-4e2d-9322-801d85e7c5f8",
   "metadata": {},
   "outputs": [
    {
     "data": {
      "text/plain": [
       "[2, 3, 5, 7]"
      ]
     },
     "execution_count": 163,
     "metadata": {},
     "output_type": "execute_result"
    }
   ],
   "source": [
    "[num for num in numbers if num > 1 and all(num%i != 0 for i in range(2, int(num**0.5)+1))]"
   ]
  },
  {
   "cell_type": "code",
   "execution_count": null,
   "id": "ba5dade0-c85b-4ddb-a548-5a7787d7f0cd",
   "metadata": {},
   "outputs": [],
   "source": [
    "# Example 3: Create a list of all the possible combinations of 2 elements from a list\n",
    "numbers = [1, 2, 3, 4, 5]"
   ]
  },
  {
   "cell_type": "code",
   "execution_count": 168,
   "id": "19040065-f9af-4ba2-80af-2c8a664e2eb6",
   "metadata": {},
   "outputs": [
    {
     "name": "stdout",
     "output_type": "stream",
     "text": [
      "[(1, 2), (1, 3), (1, 4), (1, 5), (2, 3), (2, 4), (2, 5), (3, 4), (3, 5), (4, 5)]\n"
     ]
    }
   ],
   "source": [
    "numbers = [1, 2, 3, 4, 5]\n",
    "\n",
    "combinations_list = []\n",
    "\n",
    "for i in range(len(numbers)):\n",
    "    for j in range(i + 1, len(numbers)):\n",
    "        combinations_list.append((numbers[i], numbers[j]))\n",
    "\n",
    "print(combinations_list)\n"
   ]
  },
  {
   "cell_type": "code",
   "execution_count": 169,
   "id": "351dcf15-41df-403e-a23e-dc1399708bc8",
   "metadata": {},
   "outputs": [
    {
     "data": {
      "text/plain": [
       "[(1, 2),\n",
       " (1, 3),\n",
       " (1, 4),\n",
       " (1, 5),\n",
       " (2, 3),\n",
       " (2, 4),\n",
       " (2, 5),\n",
       " (3, 4),\n",
       " (3, 5),\n",
       " (4, 5)]"
      ]
     },
     "execution_count": 169,
     "metadata": {},
     "output_type": "execute_result"
    }
   ],
   "source": [
    "# list comprehension\n",
    "[(numbers[i],numbers[j]) for i in range(len(numbers)) for j in range(i+1, len(numbers))]"
   ]
  },
  {
   "cell_type": "code",
   "execution_count": null,
   "id": "5825a625-d9b8-457d-b4ce-73c7d34b367d",
   "metadata": {},
   "outputs": [],
   "source": []
  }
 ],
 "metadata": {
  "kernelspec": {
   "display_name": "Python 3 (ipykernel)",
   "language": "python",
   "name": "python3"
  },
  "language_info": {
   "codemirror_mode": {
    "name": "ipython",
    "version": 3
   },
   "file_extension": ".py",
   "mimetype": "text/x-python",
   "name": "python",
   "nbconvert_exporter": "python",
   "pygments_lexer": "ipython3",
   "version": "3.10.8"
  }
 },
 "nbformat": 4,
 "nbformat_minor": 5
}
