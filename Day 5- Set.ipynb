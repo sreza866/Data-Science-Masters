{
 "cells": [
  {
   "cell_type": "markdown",
   "id": "93256a10-b020-4824-aff3-5b8193460347",
   "metadata": {},
   "source": [
    "## Set"
   ]
  },
  {
   "cell_type": "code",
   "execution_count": 1,
   "id": "c3260cda-1da9-4887-a539-d730247ff239",
   "metadata": {},
   "outputs": [],
   "source": [
    "s = {}"
   ]
  },
  {
   "cell_type": "code",
   "execution_count": 2,
   "id": "587b189c-8ebe-4d5c-9efe-e1eb8af5394c",
   "metadata": {},
   "outputs": [
    {
     "data": {
      "text/plain": [
       "dict"
      ]
     },
     "execution_count": 2,
     "metadata": {},
     "output_type": "execute_result"
    }
   ],
   "source": [
    "type(s)"
   ]
  },
  {
   "cell_type": "code",
   "execution_count": 3,
   "id": "3a4777ba-8cba-47dd-8d5a-1f3121009936",
   "metadata": {},
   "outputs": [],
   "source": [
    "s1 = {1,2,3,4}"
   ]
  },
  {
   "cell_type": "code",
   "execution_count": 4,
   "id": "0da9b081-e50b-4f5a-b0ed-01a392d1b757",
   "metadata": {},
   "outputs": [
    {
     "data": {
      "text/plain": [
       "set"
      ]
     },
     "execution_count": 4,
     "metadata": {},
     "output_type": "execute_result"
    }
   ],
   "source": [
    "type(s1)"
   ]
  },
  {
   "cell_type": "code",
   "execution_count": 5,
   "id": "66599e1c-9d1c-4942-9069-c88ada7f316f",
   "metadata": {},
   "outputs": [],
   "source": [
    "s2 = {1,1,12,3,3,3,4,5,5,5,55,523,34,3,45,6,67}"
   ]
  },
  {
   "cell_type": "code",
   "execution_count": 6,
   "id": "6b6f2494-d161-4474-8bc5-0044ff13d5de",
   "metadata": {},
   "outputs": [
    {
     "data": {
      "text/plain": [
       "{1, 3, 4, 5, 6, 12, 34, 45, 55, 67, 523}"
      ]
     },
     "execution_count": 6,
     "metadata": {},
     "output_type": "execute_result"
    }
   ],
   "source": [
    "s2"
   ]
  },
  {
   "cell_type": "code",
   "execution_count": 7,
   "id": "7d2597ac-4f06-4059-9648-d098bec355ee",
   "metadata": {},
   "outputs": [],
   "source": [
    "l = list(s2)"
   ]
  },
  {
   "cell_type": "code",
   "execution_count": 8,
   "id": "942bdef4-e03a-4e7e-9c5d-41f892dc5e3d",
   "metadata": {},
   "outputs": [
    {
     "data": {
      "text/plain": [
       "[1, 34, 3, 4, 5, 6, 67, 523, 12, 45, 55]"
      ]
     },
     "execution_count": 8,
     "metadata": {},
     "output_type": "execute_result"
    }
   ],
   "source": [
    "l"
   ]
  },
  {
   "cell_type": "code",
   "execution_count": 9,
   "id": "6c4d3e05-d02e-447d-b8ed-d74c2b71791c",
   "metadata": {},
   "outputs": [
    {
     "data": {
      "text/plain": [
       "{1, 3, 4, 5, 6, 12, 34, 45, 55, 67, 523}"
      ]
     },
     "execution_count": 9,
     "metadata": {},
     "output_type": "execute_result"
    }
   ],
   "source": [
    "s2"
   ]
  },
  {
   "cell_type": "code",
   "execution_count": 10,
   "id": "0ac60229-550c-42fe-9f98-70b67c81b1b0",
   "metadata": {},
   "outputs": [
    {
     "data": {
      "text/plain": [
       "(1, 34, 3, 4, 5, 6, 67, 523, 12, 45, 55)"
      ]
     },
     "execution_count": 10,
     "metadata": {},
     "output_type": "execute_result"
    }
   ],
   "source": [
    "tuple(s2)"
   ]
  },
  {
   "cell_type": "code",
   "execution_count": 11,
   "id": "47a977f4-763f-4ea1-a7ee-6ccabf963f8b",
   "metadata": {},
   "outputs": [
    {
     "data": {
      "text/plain": [
       "{1, 3, 4, 5, 6, 12, 34, 45, 55, 67, 523}"
      ]
     },
     "execution_count": 11,
     "metadata": {},
     "output_type": "execute_result"
    }
   ],
   "source": [
    "set(l)"
   ]
  },
  {
   "cell_type": "code",
   "execution_count": 12,
   "id": "75907bb8-cd6c-4070-83eb-cc5b0269a572",
   "metadata": {},
   "outputs": [],
   "source": [
    "# s4 = {1,2,3,4,[1,2,3,4]} # list inside a set\n",
    "# Cell In[12], line 1\n",
    "# ----> 1 s4 = {1,2,3,4,[1,2,3,4]} # list inside a set\n",
    "\n",
    "# TypeError: unhashable type: 'list'"
   ]
  },
  {
   "cell_type": "code",
   "execution_count": 13,
   "id": "90bc24e6-7008-4d3c-92b6-fb5080ef7fb3",
   "metadata": {},
   "outputs": [],
   "source": [
    "s4 = {1,2,3,4,(1,2,3,4)} # tuple inside a list"
   ]
  },
  {
   "cell_type": "code",
   "execution_count": 14,
   "id": "a786eaa2-7175-4bd1-bceb-3514bb196d73",
   "metadata": {},
   "outputs": [
    {
     "data": {
      "text/plain": [
       "{(1, 2, 3, 4), 1, 2, 3, 4}"
      ]
     },
     "execution_count": 14,
     "metadata": {},
     "output_type": "execute_result"
    }
   ],
   "source": [
    "s4"
   ]
  },
  {
   "cell_type": "code",
   "execution_count": 15,
   "id": "129ef6fb-0ee2-42b5-83dd-7255a6297e94",
   "metadata": {},
   "outputs": [],
   "source": [
    "s5 = {'reza',\"Reza\",55,32,2,3,4}"
   ]
  },
  {
   "cell_type": "code",
   "execution_count": 16,
   "id": "87bb1f29-52c3-4111-ab8e-0dceec71ce7b",
   "metadata": {},
   "outputs": [
    {
     "data": {
      "text/plain": [
       "{2, 3, 32, 4, 55, 'Reza', 'reza'}"
      ]
     },
     "execution_count": 16,
     "metadata": {},
     "output_type": "execute_result"
    }
   ],
   "source": [
    "s5"
   ]
  },
  {
   "cell_type": "code",
   "execution_count": 17,
   "id": "50023b37-5df9-4a05-be22-cd88b17428c2",
   "metadata": {},
   "outputs": [],
   "source": [
    "s6 = {'reza',\"reza\",55,32,2,3,4}"
   ]
  },
  {
   "cell_type": "code",
   "execution_count": 18,
   "id": "f304f938-c600-46bd-9ed7-7f25de345e0c",
   "metadata": {},
   "outputs": [
    {
     "data": {
      "text/plain": [
       "{2, 3, 32, 4, 55, 'reza'}"
      ]
     },
     "execution_count": 18,
     "metadata": {},
     "output_type": "execute_result"
    }
   ],
   "source": [
    "s6"
   ]
  },
  {
   "cell_type": "code",
   "execution_count": 19,
   "id": "b747e97f-a220-4df0-8638-f37763dea15e",
   "metadata": {},
   "outputs": [],
   "source": [
    "# s6[0]\n",
    "# Cell In[19], line 1\n",
    "# ----> 1 s6[0]\n",
    "\n",
    "# TypeError: 'set' object is not subscriptable"
   ]
  },
  {
   "cell_type": "code",
   "execution_count": 20,
   "id": "c8f05f80-1a52-4293-8491-f9ea3f11b242",
   "metadata": {},
   "outputs": [],
   "source": [
    "# s6[::-1]\n",
    "# Cell In[20], line 1\n",
    "# ----> 1 s6[::-1]\n",
    "\n",
    "# TypeError: 'set' object is not subscriptable"
   ]
  },
  {
   "cell_type": "code",
   "execution_count": 21,
   "id": "01850057-ba36-43fb-b1a3-cdc9e2de9692",
   "metadata": {},
   "outputs": [
    {
     "name": "stdout",
     "output_type": "stream",
     "text": [
      "32\n",
      "reza\n",
      "2\n",
      "3\n",
      "4\n",
      "55\n"
     ]
    }
   ],
   "source": [
    "for i in s6:\n",
    "    print(i)"
   ]
  },
  {
   "cell_type": "code",
   "execution_count": 22,
   "id": "7cad79bb-f333-40c5-85b4-59f23187a4c4",
   "metadata": {},
   "outputs": [],
   "source": [
    "s6.add(34)"
   ]
  },
  {
   "cell_type": "code",
   "execution_count": 23,
   "id": "0e77e653-06fc-4b18-a147-44880aab3a4b",
   "metadata": {},
   "outputs": [
    {
     "data": {
      "text/plain": [
       "{2, 3, 32, 34, 4, 55, 'reza'}"
      ]
     },
     "execution_count": 23,
     "metadata": {},
     "output_type": "execute_result"
    }
   ],
   "source": [
    "s6"
   ]
  },
  {
   "cell_type": "code",
   "execution_count": 24,
   "id": "d11cb6d0-67b5-47db-bcda-0fbc67d7f3a0",
   "metadata": {},
   "outputs": [],
   "source": [
    "s6.add(2) # store unique element"
   ]
  },
  {
   "cell_type": "code",
   "execution_count": 25,
   "id": "db983115-1399-47fd-9814-af2b26f738a7",
   "metadata": {},
   "outputs": [
    {
     "data": {
      "text/plain": [
       "{2, 3, 32, 34, 4, 55, 'reza'}"
      ]
     },
     "execution_count": 25,
     "metadata": {},
     "output_type": "execute_result"
    }
   ],
   "source": [
    "s6"
   ]
  },
  {
   "cell_type": "code",
   "execution_count": 26,
   "id": "1698c355-8c23-41a7-90e2-d8bb0391b9a2",
   "metadata": {},
   "outputs": [
    {
     "data": {
      "text/plain": [
       "7"
      ]
     },
     "execution_count": 26,
     "metadata": {},
     "output_type": "execute_result"
    }
   ],
   "source": [
    "len(s6)"
   ]
  },
  {
   "cell_type": "code",
   "execution_count": 27,
   "id": "ccc485b7-2bc0-4fa0-9a29-c2fc76ab8b45",
   "metadata": {},
   "outputs": [
    {
     "data": {
      "text/plain": [
       "32"
      ]
     },
     "execution_count": 27,
     "metadata": {},
     "output_type": "execute_result"
    }
   ],
   "source": [
    "s6.pop() #Remove and return an arbitrary set element."
   ]
  },
  {
   "cell_type": "code",
   "execution_count": 28,
   "id": "2e1fc36f-9e83-4ebf-a620-6835588cd88b",
   "metadata": {},
   "outputs": [
    {
     "data": {
      "text/plain": [
       "{2, 3, 34, 4, 55, 'reza'}"
      ]
     },
     "execution_count": 28,
     "metadata": {},
     "output_type": "execute_result"
    }
   ],
   "source": [
    "s6"
   ]
  },
  {
   "cell_type": "code",
   "execution_count": 29,
   "id": "bfe2e3a0-7b0f-474b-ac4e-7a2bbd98aac8",
   "metadata": {},
   "outputs": [
    {
     "data": {
      "text/plain": [
       "'reza'"
      ]
     },
     "execution_count": 29,
     "metadata": {},
     "output_type": "execute_result"
    }
   ],
   "source": [
    "s6.pop()"
   ]
  },
  {
   "cell_type": "code",
   "execution_count": 30,
   "id": "9df7c0e9-664b-45d5-bc97-a51e05f73206",
   "metadata": {},
   "outputs": [
    {
     "data": {
      "text/plain": [
       "{2, 3, 4, 34, 55}"
      ]
     },
     "execution_count": 30,
     "metadata": {},
     "output_type": "execute_result"
    }
   ],
   "source": [
    "s6"
   ]
  },
  {
   "cell_type": "code",
   "execution_count": 31,
   "id": "618acad6-9937-4a51-9707-0453d2815362",
   "metadata": {},
   "outputs": [
    {
     "data": {
      "text/plain": [
       "2"
      ]
     },
     "execution_count": 31,
     "metadata": {},
     "output_type": "execute_result"
    }
   ],
   "source": [
    "s6.pop()"
   ]
  },
  {
   "cell_type": "code",
   "execution_count": 32,
   "id": "fec36f0a-985c-4ae3-a329-6cf7d7490e62",
   "metadata": {},
   "outputs": [
    {
     "data": {
      "text/plain": [
       "{3, 4, 34, 55}"
      ]
     },
     "execution_count": 32,
     "metadata": {},
     "output_type": "execute_result"
    }
   ],
   "source": [
    "s6"
   ]
  },
  {
   "cell_type": "code",
   "execution_count": 33,
   "id": "ef8b7371-8de2-40a3-882e-c527844ae0d9",
   "metadata": {},
   "outputs": [],
   "source": [
    "s6.clear() # create s an empty set or Remove all elements from this set."
   ]
  },
  {
   "cell_type": "code",
   "execution_count": 34,
   "id": "2115c852-8708-400f-87c7-295b59e81290",
   "metadata": {},
   "outputs": [
    {
     "data": {
      "text/plain": [
       "set()"
      ]
     },
     "execution_count": 34,
     "metadata": {},
     "output_type": "execute_result"
    }
   ],
   "source": [
    "s6"
   ]
  },
  {
   "cell_type": "code",
   "execution_count": 35,
   "id": "da15bdd6-0edb-4a08-a258-d51b2c333058",
   "metadata": {},
   "outputs": [],
   "source": [
    "s7 = {1,2,3,4}\n",
    "s8 = {1,2,3,5}"
   ]
  },
  {
   "cell_type": "code",
   "execution_count": 36,
   "id": "e034bebe-94c2-4b89-aabc-4b5db15c24a6",
   "metadata": {},
   "outputs": [
    {
     "data": {
      "text/plain": [
       "{5}"
      ]
     },
     "execution_count": 36,
     "metadata": {},
     "output_type": "execute_result"
    }
   ],
   "source": [
    "s8.difference(s7)"
   ]
  },
  {
   "cell_type": "code",
   "execution_count": 37,
   "id": "fc2c807a-4363-48be-86c4-e65a77931b91",
   "metadata": {},
   "outputs": [
    {
     "data": {
      "text/plain": [
       "{4}"
      ]
     },
     "execution_count": 37,
     "metadata": {},
     "output_type": "execute_result"
    }
   ],
   "source": [
    "s7.difference(s8)"
   ]
  },
  {
   "cell_type": "code",
   "execution_count": null,
   "id": "ea7eea9b-2c33-4e96-b757-567d4047e5a3",
   "metadata": {},
   "outputs": [],
   "source": []
  }
 ],
 "metadata": {
  "kernelspec": {
   "display_name": "Python 3 (ipykernel)",
   "language": "python",
   "name": "python3"
  },
  "language_info": {
   "codemirror_mode": {
    "name": "ipython",
    "version": 3
   },
   "file_extension": ".py",
   "mimetype": "text/x-python",
   "name": "python",
   "nbconvert_exporter": "python",
   "pygments_lexer": "ipython3",
   "version": "3.10.8"
  }
 },
 "nbformat": 4,
 "nbformat_minor": 5
}
